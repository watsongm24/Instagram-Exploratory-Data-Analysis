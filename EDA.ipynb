{
 "cells": [
  {
   "cell_type": "code",
   "execution_count": 1,
   "metadata": {},
   "outputs": [],
   "source": [
    "import pandas as pd\n",
    "import plotly.express as px #used for creating interactive and visually appealing plots and charts \n",
    "import plotly.graph_objects as go #provides a lower-level interface for creating more customized and complex plots\n",
    "import plotly.io as pio #provides functions for working with plot settings and templates\n",
    "pio.templates.default = \"plotly_white\""
   ]
  },
  {
   "cell_type": "code",
   "execution_count": 2,
   "metadata": {},
   "outputs": [],
   "source": [
    "data = pd.read_csv(\"Instagram data.csv\", encoding='latin-1') \n",
    "# encoding='latin-1': This part specifies the character encoding to use when reading the CSV file."
   ]
  },
  {
   "cell_type": "code",
   "execution_count": 3,
   "metadata": {},
   "outputs": [
    {
     "data": {
      "text/html": [
       "<div>\n",
       "<style scoped>\n",
       "    .dataframe tbody tr th:only-of-type {\n",
       "        vertical-align: middle;\n",
       "    }\n",
       "\n",
       "    .dataframe tbody tr th {\n",
       "        vertical-align: top;\n",
       "    }\n",
       "\n",
       "    .dataframe thead th {\n",
       "        text-align: right;\n",
       "    }\n",
       "</style>\n",
       "<table border=\"1\" class=\"dataframe\">\n",
       "  <thead>\n",
       "    <tr style=\"text-align: right;\">\n",
       "      <th></th>\n",
       "      <th>Impressions</th>\n",
       "      <th>From Home</th>\n",
       "      <th>From Hashtags</th>\n",
       "      <th>From Explore</th>\n",
       "      <th>From Other</th>\n",
       "      <th>Saves</th>\n",
       "      <th>Comments</th>\n",
       "      <th>Shares</th>\n",
       "      <th>Likes</th>\n",
       "      <th>Profile Visits</th>\n",
       "      <th>Follows</th>\n",
       "      <th>Caption</th>\n",
       "      <th>Hashtags</th>\n",
       "    </tr>\n",
       "  </thead>\n",
       "  <tbody>\n",
       "    <tr>\n",
       "      <th>0</th>\n",
       "      <td>3920</td>\n",
       "      <td>2586</td>\n",
       "      <td>1028</td>\n",
       "      <td>619</td>\n",
       "      <td>56</td>\n",
       "      <td>98</td>\n",
       "      <td>9</td>\n",
       "      <td>5</td>\n",
       "      <td>162</td>\n",
       "      <td>35</td>\n",
       "      <td>2</td>\n",
       "      <td>Here are some of the most important data visua...</td>\n",
       "      <td>#finance #money #business #investing #investme...</td>\n",
       "    </tr>\n",
       "    <tr>\n",
       "      <th>1</th>\n",
       "      <td>5394</td>\n",
       "      <td>2727</td>\n",
       "      <td>1838</td>\n",
       "      <td>1174</td>\n",
       "      <td>78</td>\n",
       "      <td>194</td>\n",
       "      <td>7</td>\n",
       "      <td>14</td>\n",
       "      <td>224</td>\n",
       "      <td>48</td>\n",
       "      <td>10</td>\n",
       "      <td>Here are some of the best data science project...</td>\n",
       "      <td>#healthcare #health #covid #data #datascience ...</td>\n",
       "    </tr>\n",
       "    <tr>\n",
       "      <th>2</th>\n",
       "      <td>4021</td>\n",
       "      <td>2085</td>\n",
       "      <td>1188</td>\n",
       "      <td>0</td>\n",
       "      <td>533</td>\n",
       "      <td>41</td>\n",
       "      <td>11</td>\n",
       "      <td>1</td>\n",
       "      <td>131</td>\n",
       "      <td>62</td>\n",
       "      <td>12</td>\n",
       "      <td>Learn how to train a machine learning model an...</td>\n",
       "      <td>#data #datascience #dataanalysis #dataanalytic...</td>\n",
       "    </tr>\n",
       "    <tr>\n",
       "      <th>3</th>\n",
       "      <td>4528</td>\n",
       "      <td>2700</td>\n",
       "      <td>621</td>\n",
       "      <td>932</td>\n",
       "      <td>73</td>\n",
       "      <td>172</td>\n",
       "      <td>10</td>\n",
       "      <td>7</td>\n",
       "      <td>213</td>\n",
       "      <td>23</td>\n",
       "      <td>8</td>\n",
       "      <td>Heres how you can write a Python program to d...</td>\n",
       "      <td>#python #pythonprogramming #pythonprojects #py...</td>\n",
       "    </tr>\n",
       "    <tr>\n",
       "      <th>4</th>\n",
       "      <td>2518</td>\n",
       "      <td>1704</td>\n",
       "      <td>255</td>\n",
       "      <td>279</td>\n",
       "      <td>37</td>\n",
       "      <td>96</td>\n",
       "      <td>5</td>\n",
       "      <td>4</td>\n",
       "      <td>123</td>\n",
       "      <td>8</td>\n",
       "      <td>0</td>\n",
       "      <td>Plotting annotations while visualizing your da...</td>\n",
       "      <td>#datavisualization #datascience #data #dataana...</td>\n",
       "    </tr>\n",
       "  </tbody>\n",
       "</table>\n",
       "</div>"
      ],
      "text/plain": [
       "   Impressions  From Home  From Hashtags  From Explore  From Other  Saves  \\\n",
       "0         3920       2586           1028           619          56     98   \n",
       "1         5394       2727           1838          1174          78    194   \n",
       "2         4021       2085           1188             0         533     41   \n",
       "3         4528       2700            621           932          73    172   \n",
       "4         2518       1704            255           279          37     96   \n",
       "\n",
       "   Comments  Shares  Likes  Profile Visits  Follows  \\\n",
       "0         9       5    162              35        2   \n",
       "1         7      14    224              48       10   \n",
       "2        11       1    131              62       12   \n",
       "3        10       7    213              23        8   \n",
       "4         5       4    123               8        0   \n",
       "\n",
       "                                             Caption  \\\n",
       "0  Here are some of the most important data visua...   \n",
       "1  Here are some of the best data science project...   \n",
       "2  Learn how to train a machine learning model an...   \n",
       "3  Heres how you can write a Python program to d...   \n",
       "4  Plotting annotations while visualizing your da...   \n",
       "\n",
       "                                            Hashtags  \n",
       "0  #finance #money #business #investing #investme...  \n",
       "1  #healthcare #health #covid #data #datascience ...  \n",
       "2  #data #datascience #dataanalysis #dataanalytic...  \n",
       "3  #python #pythonprogramming #pythonprojects #py...  \n",
       "4  #datavisualization #datascience #data #dataana...  "
      ]
     },
     "execution_count": 3,
     "metadata": {},
     "output_type": "execute_result"
    }
   ],
   "source": [
    "#Check the first 5 rows\n",
    "data.head(5)"
   ]
  },
  {
   "cell_type": "code",
   "execution_count": 4,
   "metadata": {},
   "outputs": [
    {
     "data": {
      "text/plain": [
       "Index(['Impressions', 'From Home', 'From Hashtags', 'From Explore',\n",
       "       'From Other', 'Saves', 'Comments', 'Shares', 'Likes', 'Profile Visits',\n",
       "       'Follows', 'Caption', 'Hashtags'],\n",
       "      dtype='object')"
      ]
     },
     "execution_count": 4,
     "metadata": {},
     "output_type": "execute_result"
    }
   ],
   "source": [
    "data.columns"
   ]
  },
  {
   "cell_type": "code",
   "execution_count": 5,
   "metadata": {},
   "outputs": [
    {
     "name": "stdout",
     "output_type": "stream",
     "text": [
      "<class 'pandas.core.frame.DataFrame'>\n",
      "RangeIndex: 119 entries, 0 to 118\n",
      "Data columns (total 13 columns):\n",
      " #   Column          Non-Null Count  Dtype \n",
      "---  ------          --------------  ----- \n",
      " 0   Impressions     119 non-null    int64 \n",
      " 1   From Home       119 non-null    int64 \n",
      " 2   From Hashtags   119 non-null    int64 \n",
      " 3   From Explore    119 non-null    int64 \n",
      " 4   From Other      119 non-null    int64 \n",
      " 5   Saves           119 non-null    int64 \n",
      " 6   Comments        119 non-null    int64 \n",
      " 7   Shares          119 non-null    int64 \n",
      " 8   Likes           119 non-null    int64 \n",
      " 9   Profile Visits  119 non-null    int64 \n",
      " 10  Follows         119 non-null    int64 \n",
      " 11  Caption         119 non-null    object\n",
      " 12  Hashtags        119 non-null    object\n",
      "dtypes: int64(11), object(2)\n",
      "memory usage: 12.2+ KB\n"
     ]
    }
   ],
   "source": [
    "#Check the columns info\n",
    "data.info()"
   ]
  },
  {
   "cell_type": "code",
   "execution_count": 6,
   "metadata": {},
   "outputs": [
    {
     "data": {
      "text/html": [
       "<div>\n",
       "<style scoped>\n",
       "    .dataframe tbody tr th:only-of-type {\n",
       "        vertical-align: middle;\n",
       "    }\n",
       "\n",
       "    .dataframe tbody tr th {\n",
       "        vertical-align: top;\n",
       "    }\n",
       "\n",
       "    .dataframe thead th {\n",
       "        text-align: right;\n",
       "    }\n",
       "</style>\n",
       "<table border=\"1\" class=\"dataframe\">\n",
       "  <thead>\n",
       "    <tr style=\"text-align: right;\">\n",
       "      <th></th>\n",
       "      <th>Impressions</th>\n",
       "      <th>From Home</th>\n",
       "      <th>From Hashtags</th>\n",
       "      <th>From Explore</th>\n",
       "      <th>From Other</th>\n",
       "      <th>Saves</th>\n",
       "      <th>Comments</th>\n",
       "      <th>Shares</th>\n",
       "      <th>Likes</th>\n",
       "      <th>Profile Visits</th>\n",
       "      <th>Follows</th>\n",
       "    </tr>\n",
       "  </thead>\n",
       "  <tbody>\n",
       "    <tr>\n",
       "      <th>count</th>\n",
       "      <td>119.000000</td>\n",
       "      <td>119.000000</td>\n",
       "      <td>119.000000</td>\n",
       "      <td>119.000000</td>\n",
       "      <td>119.000000</td>\n",
       "      <td>119.000000</td>\n",
       "      <td>119.000000</td>\n",
       "      <td>119.000000</td>\n",
       "      <td>119.000000</td>\n",
       "      <td>119.000000</td>\n",
       "      <td>119.000000</td>\n",
       "    </tr>\n",
       "    <tr>\n",
       "      <th>mean</th>\n",
       "      <td>5703.991597</td>\n",
       "      <td>2475.789916</td>\n",
       "      <td>1887.512605</td>\n",
       "      <td>1078.100840</td>\n",
       "      <td>171.092437</td>\n",
       "      <td>153.310924</td>\n",
       "      <td>6.663866</td>\n",
       "      <td>9.361345</td>\n",
       "      <td>173.781513</td>\n",
       "      <td>50.621849</td>\n",
       "      <td>20.756303</td>\n",
       "    </tr>\n",
       "    <tr>\n",
       "      <th>std</th>\n",
       "      <td>4843.780105</td>\n",
       "      <td>1489.386348</td>\n",
       "      <td>1884.361443</td>\n",
       "      <td>2613.026132</td>\n",
       "      <td>289.431031</td>\n",
       "      <td>156.317731</td>\n",
       "      <td>3.544576</td>\n",
       "      <td>10.089205</td>\n",
       "      <td>82.378947</td>\n",
       "      <td>87.088402</td>\n",
       "      <td>40.921580</td>\n",
       "    </tr>\n",
       "    <tr>\n",
       "      <th>min</th>\n",
       "      <td>1941.000000</td>\n",
       "      <td>1133.000000</td>\n",
       "      <td>116.000000</td>\n",
       "      <td>0.000000</td>\n",
       "      <td>9.000000</td>\n",
       "      <td>22.000000</td>\n",
       "      <td>0.000000</td>\n",
       "      <td>0.000000</td>\n",
       "      <td>72.000000</td>\n",
       "      <td>4.000000</td>\n",
       "      <td>0.000000</td>\n",
       "    </tr>\n",
       "    <tr>\n",
       "      <th>25%</th>\n",
       "      <td>3467.000000</td>\n",
       "      <td>1945.000000</td>\n",
       "      <td>726.000000</td>\n",
       "      <td>157.500000</td>\n",
       "      <td>38.000000</td>\n",
       "      <td>65.000000</td>\n",
       "      <td>4.000000</td>\n",
       "      <td>3.000000</td>\n",
       "      <td>121.500000</td>\n",
       "      <td>15.000000</td>\n",
       "      <td>4.000000</td>\n",
       "    </tr>\n",
       "    <tr>\n",
       "      <th>50%</th>\n",
       "      <td>4289.000000</td>\n",
       "      <td>2207.000000</td>\n",
       "      <td>1278.000000</td>\n",
       "      <td>326.000000</td>\n",
       "      <td>74.000000</td>\n",
       "      <td>109.000000</td>\n",
       "      <td>6.000000</td>\n",
       "      <td>6.000000</td>\n",
       "      <td>151.000000</td>\n",
       "      <td>23.000000</td>\n",
       "      <td>8.000000</td>\n",
       "    </tr>\n",
       "    <tr>\n",
       "      <th>75%</th>\n",
       "      <td>6138.000000</td>\n",
       "      <td>2602.500000</td>\n",
       "      <td>2363.500000</td>\n",
       "      <td>689.500000</td>\n",
       "      <td>196.000000</td>\n",
       "      <td>169.000000</td>\n",
       "      <td>8.000000</td>\n",
       "      <td>13.500000</td>\n",
       "      <td>204.000000</td>\n",
       "      <td>42.000000</td>\n",
       "      <td>18.000000</td>\n",
       "    </tr>\n",
       "    <tr>\n",
       "      <th>max</th>\n",
       "      <td>36919.000000</td>\n",
       "      <td>13473.000000</td>\n",
       "      <td>11817.000000</td>\n",
       "      <td>17414.000000</td>\n",
       "      <td>2547.000000</td>\n",
       "      <td>1095.000000</td>\n",
       "      <td>19.000000</td>\n",
       "      <td>75.000000</td>\n",
       "      <td>549.000000</td>\n",
       "      <td>611.000000</td>\n",
       "      <td>260.000000</td>\n",
       "    </tr>\n",
       "  </tbody>\n",
       "</table>\n",
       "</div>"
      ],
      "text/plain": [
       "        Impressions     From Home  From Hashtags  From Explore   From Other  \\\n",
       "count    119.000000    119.000000     119.000000    119.000000   119.000000   \n",
       "mean    5703.991597   2475.789916    1887.512605   1078.100840   171.092437   \n",
       "std     4843.780105   1489.386348    1884.361443   2613.026132   289.431031   \n",
       "min     1941.000000   1133.000000     116.000000      0.000000     9.000000   \n",
       "25%     3467.000000   1945.000000     726.000000    157.500000    38.000000   \n",
       "50%     4289.000000   2207.000000    1278.000000    326.000000    74.000000   \n",
       "75%     6138.000000   2602.500000    2363.500000    689.500000   196.000000   \n",
       "max    36919.000000  13473.000000   11817.000000  17414.000000  2547.000000   \n",
       "\n",
       "             Saves    Comments      Shares       Likes  Profile Visits  \\\n",
       "count   119.000000  119.000000  119.000000  119.000000      119.000000   \n",
       "mean    153.310924    6.663866    9.361345  173.781513       50.621849   \n",
       "std     156.317731    3.544576   10.089205   82.378947       87.088402   \n",
       "min      22.000000    0.000000    0.000000   72.000000        4.000000   \n",
       "25%      65.000000    4.000000    3.000000  121.500000       15.000000   \n",
       "50%     109.000000    6.000000    6.000000  151.000000       23.000000   \n",
       "75%     169.000000    8.000000   13.500000  204.000000       42.000000   \n",
       "max    1095.000000   19.000000   75.000000  549.000000      611.000000   \n",
       "\n",
       "          Follows  \n",
       "count  119.000000  \n",
       "mean    20.756303  \n",
       "std     40.921580  \n",
       "min      0.000000  \n",
       "25%      4.000000  \n",
       "50%      8.000000  \n",
       "75%     18.000000  \n",
       "max    260.000000  "
      ]
     },
     "execution_count": 6,
     "metadata": {},
     "output_type": "execute_result"
    }
   ],
   "source": [
    "# Check the descriptive statistics of the data\n",
    "data.describe()"
   ]
  },
  {
   "cell_type": "code",
   "execution_count": 7,
   "metadata": {},
   "outputs": [
    {
     "data": {
      "text/plain": [
       "Impressions       0\n",
       "From Home         0\n",
       "From Hashtags     0\n",
       "From Explore      0\n",
       "From Other        0\n",
       "Saves             0\n",
       "Comments          0\n",
       "Shares            0\n",
       "Likes             0\n",
       "Profile Visits    0\n",
       "Follows           0\n",
       "Caption           0\n",
       "Hashtags          0\n",
       "dtype: int64"
      ]
     },
     "execution_count": 7,
     "metadata": {},
     "output_type": "execute_result"
    }
   ],
   "source": [
    "#Check any missing values\n",
    "data.isnull().sum()"
   ]
  },
  {
   "cell_type": "code",
   "execution_count": 8,
   "metadata": {},
   "outputs": [
    {
     "data": {
      "application/vnd.plotly.v1+json": {
       "config": {
        "plotlyServerURL": "https://plot.ly"
       },
       "data": [
        {
         "alignmentgroup": "True",
         "bingroup": "x",
         "hovertemplate": "Impressions=%{x}<br>count=%{y}<extra></extra>",
         "legendgroup": "",
         "marker": {
          "color": "#636efa",
          "pattern": {
           "shape": ""
          }
         },
         "name": "",
         "nbinsx": 10,
         "offsetgroup": "",
         "orientation": "v",
         "showlegend": false,
         "type": "histogram",
         "x": [
          3920,
          5394,
          4021,
          4528,
          2518,
          3884,
          2621,
          3541,
          3749,
          4115,
          2218,
          3234,
          4344,
          3216,
          9453,
          5055,
          4002,
          3169,
          6168,
          2407,
          2064,
          3973,
          7281,
          3052,
          4628,
          4082,
          5394,
          2766,
          3924,
          3015,
          6666,
          3854,
          4355,
          4343,
          6108,
          2523,
          2327,
          3990,
          2191,
          1941,
          16062,
          4998,
          4289,
          3880,
          3786,
          4298,
          3630,
          2826,
          7407,
          10386,
          2998,
          7018,
          2941,
          6432,
          10667,
          3988,
          4978,
          3388,
          4467,
          3246,
          5072,
          6339,
          4239,
          3454,
          7571,
          3333,
          3818,
          10933,
          5058,
          3601,
          3480,
          3525,
          3606,
          5542,
          6559,
          3623,
          10493,
          4446,
          2957,
          5538,
          4681,
          5273,
          5055,
          4002,
          3169,
          6168,
          2407,
          3630,
          2826,
          7407,
          10386,
          2998,
          3052,
          4628,
          4082,
          5394,
          2766,
          3924,
          3015,
          5409,
          5323,
          8001,
          4150,
          4609,
          6348,
          11068,
          7231,
          17396,
          6814,
          17713,
          5563,
          4842,
          11149,
          10206,
          13700,
          5731,
          4139,
          32695,
          36919
         ],
         "xaxis": "x",
         "yaxis": "y"
        }
       ],
       "layout": {
        "barmode": "relative",
        "legend": {
         "tracegroupgap": 0
        },
        "template": {
         "data": {
          "bar": [
           {
            "error_x": {
             "color": "#2a3f5f"
            },
            "error_y": {
             "color": "#2a3f5f"
            },
            "marker": {
             "line": {
              "color": "white",
              "width": 0.5
             },
             "pattern": {
              "fillmode": "overlay",
              "size": 10,
              "solidity": 0.2
             }
            },
            "type": "bar"
           }
          ],
          "barpolar": [
           {
            "marker": {
             "line": {
              "color": "white",
              "width": 0.5
             },
             "pattern": {
              "fillmode": "overlay",
              "size": 10,
              "solidity": 0.2
             }
            },
            "type": "barpolar"
           }
          ],
          "carpet": [
           {
            "aaxis": {
             "endlinecolor": "#2a3f5f",
             "gridcolor": "#C8D4E3",
             "linecolor": "#C8D4E3",
             "minorgridcolor": "#C8D4E3",
             "startlinecolor": "#2a3f5f"
            },
            "baxis": {
             "endlinecolor": "#2a3f5f",
             "gridcolor": "#C8D4E3",
             "linecolor": "#C8D4E3",
             "minorgridcolor": "#C8D4E3",
             "startlinecolor": "#2a3f5f"
            },
            "type": "carpet"
           }
          ],
          "choropleth": [
           {
            "colorbar": {
             "outlinewidth": 0,
             "ticks": ""
            },
            "type": "choropleth"
           }
          ],
          "contour": [
           {
            "colorbar": {
             "outlinewidth": 0,
             "ticks": ""
            },
            "colorscale": [
             [
              0,
              "#0d0887"
             ],
             [
              0.1111111111111111,
              "#46039f"
             ],
             [
              0.2222222222222222,
              "#7201a8"
             ],
             [
              0.3333333333333333,
              "#9c179e"
             ],
             [
              0.4444444444444444,
              "#bd3786"
             ],
             [
              0.5555555555555556,
              "#d8576b"
             ],
             [
              0.6666666666666666,
              "#ed7953"
             ],
             [
              0.7777777777777778,
              "#fb9f3a"
             ],
             [
              0.8888888888888888,
              "#fdca26"
             ],
             [
              1,
              "#f0f921"
             ]
            ],
            "type": "contour"
           }
          ],
          "contourcarpet": [
           {
            "colorbar": {
             "outlinewidth": 0,
             "ticks": ""
            },
            "type": "contourcarpet"
           }
          ],
          "heatmap": [
           {
            "colorbar": {
             "outlinewidth": 0,
             "ticks": ""
            },
            "colorscale": [
             [
              0,
              "#0d0887"
             ],
             [
              0.1111111111111111,
              "#46039f"
             ],
             [
              0.2222222222222222,
              "#7201a8"
             ],
             [
              0.3333333333333333,
              "#9c179e"
             ],
             [
              0.4444444444444444,
              "#bd3786"
             ],
             [
              0.5555555555555556,
              "#d8576b"
             ],
             [
              0.6666666666666666,
              "#ed7953"
             ],
             [
              0.7777777777777778,
              "#fb9f3a"
             ],
             [
              0.8888888888888888,
              "#fdca26"
             ],
             [
              1,
              "#f0f921"
             ]
            ],
            "type": "heatmap"
           }
          ],
          "heatmapgl": [
           {
            "colorbar": {
             "outlinewidth": 0,
             "ticks": ""
            },
            "colorscale": [
             [
              0,
              "#0d0887"
             ],
             [
              0.1111111111111111,
              "#46039f"
             ],
             [
              0.2222222222222222,
              "#7201a8"
             ],
             [
              0.3333333333333333,
              "#9c179e"
             ],
             [
              0.4444444444444444,
              "#bd3786"
             ],
             [
              0.5555555555555556,
              "#d8576b"
             ],
             [
              0.6666666666666666,
              "#ed7953"
             ],
             [
              0.7777777777777778,
              "#fb9f3a"
             ],
             [
              0.8888888888888888,
              "#fdca26"
             ],
             [
              1,
              "#f0f921"
             ]
            ],
            "type": "heatmapgl"
           }
          ],
          "histogram": [
           {
            "marker": {
             "pattern": {
              "fillmode": "overlay",
              "size": 10,
              "solidity": 0.2
             }
            },
            "type": "histogram"
           }
          ],
          "histogram2d": [
           {
            "colorbar": {
             "outlinewidth": 0,
             "ticks": ""
            },
            "colorscale": [
             [
              0,
              "#0d0887"
             ],
             [
              0.1111111111111111,
              "#46039f"
             ],
             [
              0.2222222222222222,
              "#7201a8"
             ],
             [
              0.3333333333333333,
              "#9c179e"
             ],
             [
              0.4444444444444444,
              "#bd3786"
             ],
             [
              0.5555555555555556,
              "#d8576b"
             ],
             [
              0.6666666666666666,
              "#ed7953"
             ],
             [
              0.7777777777777778,
              "#fb9f3a"
             ],
             [
              0.8888888888888888,
              "#fdca26"
             ],
             [
              1,
              "#f0f921"
             ]
            ],
            "type": "histogram2d"
           }
          ],
          "histogram2dcontour": [
           {
            "colorbar": {
             "outlinewidth": 0,
             "ticks": ""
            },
            "colorscale": [
             [
              0,
              "#0d0887"
             ],
             [
              0.1111111111111111,
              "#46039f"
             ],
             [
              0.2222222222222222,
              "#7201a8"
             ],
             [
              0.3333333333333333,
              "#9c179e"
             ],
             [
              0.4444444444444444,
              "#bd3786"
             ],
             [
              0.5555555555555556,
              "#d8576b"
             ],
             [
              0.6666666666666666,
              "#ed7953"
             ],
             [
              0.7777777777777778,
              "#fb9f3a"
             ],
             [
              0.8888888888888888,
              "#fdca26"
             ],
             [
              1,
              "#f0f921"
             ]
            ],
            "type": "histogram2dcontour"
           }
          ],
          "mesh3d": [
           {
            "colorbar": {
             "outlinewidth": 0,
             "ticks": ""
            },
            "type": "mesh3d"
           }
          ],
          "parcoords": [
           {
            "line": {
             "colorbar": {
              "outlinewidth": 0,
              "ticks": ""
             }
            },
            "type": "parcoords"
           }
          ],
          "pie": [
           {
            "automargin": true,
            "type": "pie"
           }
          ],
          "scatter": [
           {
            "marker": {
             "colorbar": {
              "outlinewidth": 0,
              "ticks": ""
             }
            },
            "type": "scatter"
           }
          ],
          "scatter3d": [
           {
            "line": {
             "colorbar": {
              "outlinewidth": 0,
              "ticks": ""
             }
            },
            "marker": {
             "colorbar": {
              "outlinewidth": 0,
              "ticks": ""
             }
            },
            "type": "scatter3d"
           }
          ],
          "scattercarpet": [
           {
            "marker": {
             "colorbar": {
              "outlinewidth": 0,
              "ticks": ""
             }
            },
            "type": "scattercarpet"
           }
          ],
          "scattergeo": [
           {
            "marker": {
             "colorbar": {
              "outlinewidth": 0,
              "ticks": ""
             }
            },
            "type": "scattergeo"
           }
          ],
          "scattergl": [
           {
            "marker": {
             "colorbar": {
              "outlinewidth": 0,
              "ticks": ""
             }
            },
            "type": "scattergl"
           }
          ],
          "scattermapbox": [
           {
            "marker": {
             "colorbar": {
              "outlinewidth": 0,
              "ticks": ""
             }
            },
            "type": "scattermapbox"
           }
          ],
          "scatterpolar": [
           {
            "marker": {
             "colorbar": {
              "outlinewidth": 0,
              "ticks": ""
             }
            },
            "type": "scatterpolar"
           }
          ],
          "scatterpolargl": [
           {
            "marker": {
             "colorbar": {
              "outlinewidth": 0,
              "ticks": ""
             }
            },
            "type": "scatterpolargl"
           }
          ],
          "scatterternary": [
           {
            "marker": {
             "colorbar": {
              "outlinewidth": 0,
              "ticks": ""
             }
            },
            "type": "scatterternary"
           }
          ],
          "surface": [
           {
            "colorbar": {
             "outlinewidth": 0,
             "ticks": ""
            },
            "colorscale": [
             [
              0,
              "#0d0887"
             ],
             [
              0.1111111111111111,
              "#46039f"
             ],
             [
              0.2222222222222222,
              "#7201a8"
             ],
             [
              0.3333333333333333,
              "#9c179e"
             ],
             [
              0.4444444444444444,
              "#bd3786"
             ],
             [
              0.5555555555555556,
              "#d8576b"
             ],
             [
              0.6666666666666666,
              "#ed7953"
             ],
             [
              0.7777777777777778,
              "#fb9f3a"
             ],
             [
              0.8888888888888888,
              "#fdca26"
             ],
             [
              1,
              "#f0f921"
             ]
            ],
            "type": "surface"
           }
          ],
          "table": [
           {
            "cells": {
             "fill": {
              "color": "#EBF0F8"
             },
             "line": {
              "color": "white"
             }
            },
            "header": {
             "fill": {
              "color": "#C8D4E3"
             },
             "line": {
              "color": "white"
             }
            },
            "type": "table"
           }
          ]
         },
         "layout": {
          "annotationdefaults": {
           "arrowcolor": "#2a3f5f",
           "arrowhead": 0,
           "arrowwidth": 1
          },
          "autotypenumbers": "strict",
          "coloraxis": {
           "colorbar": {
            "outlinewidth": 0,
            "ticks": ""
           }
          },
          "colorscale": {
           "diverging": [
            [
             0,
             "#8e0152"
            ],
            [
             0.1,
             "#c51b7d"
            ],
            [
             0.2,
             "#de77ae"
            ],
            [
             0.3,
             "#f1b6da"
            ],
            [
             0.4,
             "#fde0ef"
            ],
            [
             0.5,
             "#f7f7f7"
            ],
            [
             0.6,
             "#e6f5d0"
            ],
            [
             0.7,
             "#b8e186"
            ],
            [
             0.8,
             "#7fbc41"
            ],
            [
             0.9,
             "#4d9221"
            ],
            [
             1,
             "#276419"
            ]
           ],
           "sequential": [
            [
             0,
             "#0d0887"
            ],
            [
             0.1111111111111111,
             "#46039f"
            ],
            [
             0.2222222222222222,
             "#7201a8"
            ],
            [
             0.3333333333333333,
             "#9c179e"
            ],
            [
             0.4444444444444444,
             "#bd3786"
            ],
            [
             0.5555555555555556,
             "#d8576b"
            ],
            [
             0.6666666666666666,
             "#ed7953"
            ],
            [
             0.7777777777777778,
             "#fb9f3a"
            ],
            [
             0.8888888888888888,
             "#fdca26"
            ],
            [
             1,
             "#f0f921"
            ]
           ],
           "sequentialminus": [
            [
             0,
             "#0d0887"
            ],
            [
             0.1111111111111111,
             "#46039f"
            ],
            [
             0.2222222222222222,
             "#7201a8"
            ],
            [
             0.3333333333333333,
             "#9c179e"
            ],
            [
             0.4444444444444444,
             "#bd3786"
            ],
            [
             0.5555555555555556,
             "#d8576b"
            ],
            [
             0.6666666666666666,
             "#ed7953"
            ],
            [
             0.7777777777777778,
             "#fb9f3a"
            ],
            [
             0.8888888888888888,
             "#fdca26"
            ],
            [
             1,
             "#f0f921"
            ]
           ]
          },
          "colorway": [
           "#636efa",
           "#EF553B",
           "#00cc96",
           "#ab63fa",
           "#FFA15A",
           "#19d3f3",
           "#FF6692",
           "#B6E880",
           "#FF97FF",
           "#FECB52"
          ],
          "font": {
           "color": "#2a3f5f"
          },
          "geo": {
           "bgcolor": "white",
           "lakecolor": "white",
           "landcolor": "white",
           "showlakes": true,
           "showland": true,
           "subunitcolor": "#C8D4E3"
          },
          "hoverlabel": {
           "align": "left"
          },
          "hovermode": "closest",
          "mapbox": {
           "style": "light"
          },
          "paper_bgcolor": "white",
          "plot_bgcolor": "white",
          "polar": {
           "angularaxis": {
            "gridcolor": "#EBF0F8",
            "linecolor": "#EBF0F8",
            "ticks": ""
           },
           "bgcolor": "white",
           "radialaxis": {
            "gridcolor": "#EBF0F8",
            "linecolor": "#EBF0F8",
            "ticks": ""
           }
          },
          "scene": {
           "xaxis": {
            "backgroundcolor": "white",
            "gridcolor": "#DFE8F3",
            "gridwidth": 2,
            "linecolor": "#EBF0F8",
            "showbackground": true,
            "ticks": "",
            "zerolinecolor": "#EBF0F8"
           },
           "yaxis": {
            "backgroundcolor": "white",
            "gridcolor": "#DFE8F3",
            "gridwidth": 2,
            "linecolor": "#EBF0F8",
            "showbackground": true,
            "ticks": "",
            "zerolinecolor": "#EBF0F8"
           },
           "zaxis": {
            "backgroundcolor": "white",
            "gridcolor": "#DFE8F3",
            "gridwidth": 2,
            "linecolor": "#EBF0F8",
            "showbackground": true,
            "ticks": "",
            "zerolinecolor": "#EBF0F8"
           }
          },
          "shapedefaults": {
           "line": {
            "color": "#2a3f5f"
           }
          },
          "ternary": {
           "aaxis": {
            "gridcolor": "#DFE8F3",
            "linecolor": "#A2B1C6",
            "ticks": ""
           },
           "baxis": {
            "gridcolor": "#DFE8F3",
            "linecolor": "#A2B1C6",
            "ticks": ""
           },
           "bgcolor": "white",
           "caxis": {
            "gridcolor": "#DFE8F3",
            "linecolor": "#A2B1C6",
            "ticks": ""
           }
          },
          "title": {
           "x": 0.05
          },
          "xaxis": {
           "automargin": true,
           "gridcolor": "#EBF0F8",
           "linecolor": "#EBF0F8",
           "ticks": "",
           "title": {
            "standoff": 15
           },
           "zerolinecolor": "#EBF0F8",
           "zerolinewidth": 2
          },
          "yaxis": {
           "automargin": true,
           "gridcolor": "#EBF0F8",
           "linecolor": "#EBF0F8",
           "ticks": "",
           "title": {
            "standoff": 15
           },
           "zerolinecolor": "#EBF0F8",
           "zerolinewidth": 2
          }
         }
        },
        "title": {
         "text": "Distribution of Impressions"
        },
        "xaxis": {
         "anchor": "y",
         "domain": [
          0,
          1
         ],
         "title": {
          "text": "Impressions"
         }
        },
        "yaxis": {
         "anchor": "x",
         "domain": [
          0,
          1
         ],
         "title": {
          "text": "count"
         }
        }
       }
      }
     },
     "metadata": {},
     "output_type": "display_data"
    }
   ],
   "source": [
    "#Take  a look at the distribution of the Impressions\n",
    "fig = px.histogram(data, x='Impressions', nbins=10, title='Distribution of Impressions' )\n",
    "\n",
    "#fig: This variable is used to store the figure or plot that you're creating using Plotly Express.\n",
    "#px.histogram: This is a function from Plotly Express specifically designed for creating histogram plots_\n",
    "#x='Impressions': This parameter specifies the variable (column) from your DataFrame\n",
    "#nbins=10: This parameter sets the number of bins or bars in the histogram\n",
    "#title='Distribution of Impressions': This parameter sets the title of the histogram plot.\n",
    "\n",
    "fig.show()"
   ]
  },
  {
   "cell_type": "code",
   "execution_count": 9,
   "metadata": {},
   "outputs": [
    {
     "data": {
      "application/vnd.plotly.v1+json": {
       "config": {
        "plotlyServerURL": "https://plot.ly"
       },
       "data": [
        {
         "hovertemplate": "index=%{x}<br>Impressions=%{y}<extra></extra>",
         "legendgroup": "",
         "line": {
          "color": "#636efa",
          "dash": "solid"
         },
         "marker": {
          "symbol": "circle"
         },
         "mode": "lines",
         "name": "",
         "orientation": "v",
         "showlegend": false,
         "type": "scatter",
         "x": [
          0,
          1,
          2,
          3,
          4,
          5,
          6,
          7,
          8,
          9,
          10,
          11,
          12,
          13,
          14,
          15,
          16,
          17,
          18,
          19,
          20,
          21,
          22,
          23,
          24,
          25,
          26,
          27,
          28,
          29,
          30,
          31,
          32,
          33,
          34,
          35,
          36,
          37,
          38,
          39,
          40,
          41,
          42,
          43,
          44,
          45,
          46,
          47,
          48,
          49,
          50,
          51,
          52,
          53,
          54,
          55,
          56,
          57,
          58,
          59,
          60,
          61,
          62,
          63,
          64,
          65,
          66,
          67,
          68,
          69,
          70,
          71,
          72,
          73,
          74,
          75,
          76,
          77,
          78,
          79,
          80,
          81,
          82,
          83,
          84,
          85,
          86,
          87,
          88,
          89,
          90,
          91,
          92,
          93,
          94,
          95,
          96,
          97,
          98,
          99,
          100,
          101,
          102,
          103,
          104,
          105,
          106,
          107,
          108,
          109,
          110,
          111,
          112,
          113,
          114,
          115,
          116,
          117,
          118
         ],
         "xaxis": "x",
         "y": [
          3920,
          5394,
          4021,
          4528,
          2518,
          3884,
          2621,
          3541,
          3749,
          4115,
          2218,
          3234,
          4344,
          3216,
          9453,
          5055,
          4002,
          3169,
          6168,
          2407,
          2064,
          3973,
          7281,
          3052,
          4628,
          4082,
          5394,
          2766,
          3924,
          3015,
          6666,
          3854,
          4355,
          4343,
          6108,
          2523,
          2327,
          3990,
          2191,
          1941,
          16062,
          4998,
          4289,
          3880,
          3786,
          4298,
          3630,
          2826,
          7407,
          10386,
          2998,
          7018,
          2941,
          6432,
          10667,
          3988,
          4978,
          3388,
          4467,
          3246,
          5072,
          6339,
          4239,
          3454,
          7571,
          3333,
          3818,
          10933,
          5058,
          3601,
          3480,
          3525,
          3606,
          5542,
          6559,
          3623,
          10493,
          4446,
          2957,
          5538,
          4681,
          5273,
          5055,
          4002,
          3169,
          6168,
          2407,
          3630,
          2826,
          7407,
          10386,
          2998,
          3052,
          4628,
          4082,
          5394,
          2766,
          3924,
          3015,
          5409,
          5323,
          8001,
          4150,
          4609,
          6348,
          11068,
          7231,
          17396,
          6814,
          17713,
          5563,
          4842,
          11149,
          10206,
          13700,
          5731,
          4139,
          32695,
          36919
         ],
         "yaxis": "y"
        }
       ],
       "layout": {
        "legend": {
         "tracegroupgap": 0
        },
        "template": {
         "data": {
          "bar": [
           {
            "error_x": {
             "color": "#2a3f5f"
            },
            "error_y": {
             "color": "#2a3f5f"
            },
            "marker": {
             "line": {
              "color": "white",
              "width": 0.5
             },
             "pattern": {
              "fillmode": "overlay",
              "size": 10,
              "solidity": 0.2
             }
            },
            "type": "bar"
           }
          ],
          "barpolar": [
           {
            "marker": {
             "line": {
              "color": "white",
              "width": 0.5
             },
             "pattern": {
              "fillmode": "overlay",
              "size": 10,
              "solidity": 0.2
             }
            },
            "type": "barpolar"
           }
          ],
          "carpet": [
           {
            "aaxis": {
             "endlinecolor": "#2a3f5f",
             "gridcolor": "#C8D4E3",
             "linecolor": "#C8D4E3",
             "minorgridcolor": "#C8D4E3",
             "startlinecolor": "#2a3f5f"
            },
            "baxis": {
             "endlinecolor": "#2a3f5f",
             "gridcolor": "#C8D4E3",
             "linecolor": "#C8D4E3",
             "minorgridcolor": "#C8D4E3",
             "startlinecolor": "#2a3f5f"
            },
            "type": "carpet"
           }
          ],
          "choropleth": [
           {
            "colorbar": {
             "outlinewidth": 0,
             "ticks": ""
            },
            "type": "choropleth"
           }
          ],
          "contour": [
           {
            "colorbar": {
             "outlinewidth": 0,
             "ticks": ""
            },
            "colorscale": [
             [
              0,
              "#0d0887"
             ],
             [
              0.1111111111111111,
              "#46039f"
             ],
             [
              0.2222222222222222,
              "#7201a8"
             ],
             [
              0.3333333333333333,
              "#9c179e"
             ],
             [
              0.4444444444444444,
              "#bd3786"
             ],
             [
              0.5555555555555556,
              "#d8576b"
             ],
             [
              0.6666666666666666,
              "#ed7953"
             ],
             [
              0.7777777777777778,
              "#fb9f3a"
             ],
             [
              0.8888888888888888,
              "#fdca26"
             ],
             [
              1,
              "#f0f921"
             ]
            ],
            "type": "contour"
           }
          ],
          "contourcarpet": [
           {
            "colorbar": {
             "outlinewidth": 0,
             "ticks": ""
            },
            "type": "contourcarpet"
           }
          ],
          "heatmap": [
           {
            "colorbar": {
             "outlinewidth": 0,
             "ticks": ""
            },
            "colorscale": [
             [
              0,
              "#0d0887"
             ],
             [
              0.1111111111111111,
              "#46039f"
             ],
             [
              0.2222222222222222,
              "#7201a8"
             ],
             [
              0.3333333333333333,
              "#9c179e"
             ],
             [
              0.4444444444444444,
              "#bd3786"
             ],
             [
              0.5555555555555556,
              "#d8576b"
             ],
             [
              0.6666666666666666,
              "#ed7953"
             ],
             [
              0.7777777777777778,
              "#fb9f3a"
             ],
             [
              0.8888888888888888,
              "#fdca26"
             ],
             [
              1,
              "#f0f921"
             ]
            ],
            "type": "heatmap"
           }
          ],
          "heatmapgl": [
           {
            "colorbar": {
             "outlinewidth": 0,
             "ticks": ""
            },
            "colorscale": [
             [
              0,
              "#0d0887"
             ],
             [
              0.1111111111111111,
              "#46039f"
             ],
             [
              0.2222222222222222,
              "#7201a8"
             ],
             [
              0.3333333333333333,
              "#9c179e"
             ],
             [
              0.4444444444444444,
              "#bd3786"
             ],
             [
              0.5555555555555556,
              "#d8576b"
             ],
             [
              0.6666666666666666,
              "#ed7953"
             ],
             [
              0.7777777777777778,
              "#fb9f3a"
             ],
             [
              0.8888888888888888,
              "#fdca26"
             ],
             [
              1,
              "#f0f921"
             ]
            ],
            "type": "heatmapgl"
           }
          ],
          "histogram": [
           {
            "marker": {
             "pattern": {
              "fillmode": "overlay",
              "size": 10,
              "solidity": 0.2
             }
            },
            "type": "histogram"
           }
          ],
          "histogram2d": [
           {
            "colorbar": {
             "outlinewidth": 0,
             "ticks": ""
            },
            "colorscale": [
             [
              0,
              "#0d0887"
             ],
             [
              0.1111111111111111,
              "#46039f"
             ],
             [
              0.2222222222222222,
              "#7201a8"
             ],
             [
              0.3333333333333333,
              "#9c179e"
             ],
             [
              0.4444444444444444,
              "#bd3786"
             ],
             [
              0.5555555555555556,
              "#d8576b"
             ],
             [
              0.6666666666666666,
              "#ed7953"
             ],
             [
              0.7777777777777778,
              "#fb9f3a"
             ],
             [
              0.8888888888888888,
              "#fdca26"
             ],
             [
              1,
              "#f0f921"
             ]
            ],
            "type": "histogram2d"
           }
          ],
          "histogram2dcontour": [
           {
            "colorbar": {
             "outlinewidth": 0,
             "ticks": ""
            },
            "colorscale": [
             [
              0,
              "#0d0887"
             ],
             [
              0.1111111111111111,
              "#46039f"
             ],
             [
              0.2222222222222222,
              "#7201a8"
             ],
             [
              0.3333333333333333,
              "#9c179e"
             ],
             [
              0.4444444444444444,
              "#bd3786"
             ],
             [
              0.5555555555555556,
              "#d8576b"
             ],
             [
              0.6666666666666666,
              "#ed7953"
             ],
             [
              0.7777777777777778,
              "#fb9f3a"
             ],
             [
              0.8888888888888888,
              "#fdca26"
             ],
             [
              1,
              "#f0f921"
             ]
            ],
            "type": "histogram2dcontour"
           }
          ],
          "mesh3d": [
           {
            "colorbar": {
             "outlinewidth": 0,
             "ticks": ""
            },
            "type": "mesh3d"
           }
          ],
          "parcoords": [
           {
            "line": {
             "colorbar": {
              "outlinewidth": 0,
              "ticks": ""
             }
            },
            "type": "parcoords"
           }
          ],
          "pie": [
           {
            "automargin": true,
            "type": "pie"
           }
          ],
          "scatter": [
           {
            "marker": {
             "colorbar": {
              "outlinewidth": 0,
              "ticks": ""
             }
            },
            "type": "scatter"
           }
          ],
          "scatter3d": [
           {
            "line": {
             "colorbar": {
              "outlinewidth": 0,
              "ticks": ""
             }
            },
            "marker": {
             "colorbar": {
              "outlinewidth": 0,
              "ticks": ""
             }
            },
            "type": "scatter3d"
           }
          ],
          "scattercarpet": [
           {
            "marker": {
             "colorbar": {
              "outlinewidth": 0,
              "ticks": ""
             }
            },
            "type": "scattercarpet"
           }
          ],
          "scattergeo": [
           {
            "marker": {
             "colorbar": {
              "outlinewidth": 0,
              "ticks": ""
             }
            },
            "type": "scattergeo"
           }
          ],
          "scattergl": [
           {
            "marker": {
             "colorbar": {
              "outlinewidth": 0,
              "ticks": ""
             }
            },
            "type": "scattergl"
           }
          ],
          "scattermapbox": [
           {
            "marker": {
             "colorbar": {
              "outlinewidth": 0,
              "ticks": ""
             }
            },
            "type": "scattermapbox"
           }
          ],
          "scatterpolar": [
           {
            "marker": {
             "colorbar": {
              "outlinewidth": 0,
              "ticks": ""
             }
            },
            "type": "scatterpolar"
           }
          ],
          "scatterpolargl": [
           {
            "marker": {
             "colorbar": {
              "outlinewidth": 0,
              "ticks": ""
             }
            },
            "type": "scatterpolargl"
           }
          ],
          "scatterternary": [
           {
            "marker": {
             "colorbar": {
              "outlinewidth": 0,
              "ticks": ""
             }
            },
            "type": "scatterternary"
           }
          ],
          "surface": [
           {
            "colorbar": {
             "outlinewidth": 0,
             "ticks": ""
            },
            "colorscale": [
             [
              0,
              "#0d0887"
             ],
             [
              0.1111111111111111,
              "#46039f"
             ],
             [
              0.2222222222222222,
              "#7201a8"
             ],
             [
              0.3333333333333333,
              "#9c179e"
             ],
             [
              0.4444444444444444,
              "#bd3786"
             ],
             [
              0.5555555555555556,
              "#d8576b"
             ],
             [
              0.6666666666666666,
              "#ed7953"
             ],
             [
              0.7777777777777778,
              "#fb9f3a"
             ],
             [
              0.8888888888888888,
              "#fdca26"
             ],
             [
              1,
              "#f0f921"
             ]
            ],
            "type": "surface"
           }
          ],
          "table": [
           {
            "cells": {
             "fill": {
              "color": "#EBF0F8"
             },
             "line": {
              "color": "white"
             }
            },
            "header": {
             "fill": {
              "color": "#C8D4E3"
             },
             "line": {
              "color": "white"
             }
            },
            "type": "table"
           }
          ]
         },
         "layout": {
          "annotationdefaults": {
           "arrowcolor": "#2a3f5f",
           "arrowhead": 0,
           "arrowwidth": 1
          },
          "autotypenumbers": "strict",
          "coloraxis": {
           "colorbar": {
            "outlinewidth": 0,
            "ticks": ""
           }
          },
          "colorscale": {
           "diverging": [
            [
             0,
             "#8e0152"
            ],
            [
             0.1,
             "#c51b7d"
            ],
            [
             0.2,
             "#de77ae"
            ],
            [
             0.3,
             "#f1b6da"
            ],
            [
             0.4,
             "#fde0ef"
            ],
            [
             0.5,
             "#f7f7f7"
            ],
            [
             0.6,
             "#e6f5d0"
            ],
            [
             0.7,
             "#b8e186"
            ],
            [
             0.8,
             "#7fbc41"
            ],
            [
             0.9,
             "#4d9221"
            ],
            [
             1,
             "#276419"
            ]
           ],
           "sequential": [
            [
             0,
             "#0d0887"
            ],
            [
             0.1111111111111111,
             "#46039f"
            ],
            [
             0.2222222222222222,
             "#7201a8"
            ],
            [
             0.3333333333333333,
             "#9c179e"
            ],
            [
             0.4444444444444444,
             "#bd3786"
            ],
            [
             0.5555555555555556,
             "#d8576b"
            ],
            [
             0.6666666666666666,
             "#ed7953"
            ],
            [
             0.7777777777777778,
             "#fb9f3a"
            ],
            [
             0.8888888888888888,
             "#fdca26"
            ],
            [
             1,
             "#f0f921"
            ]
           ],
           "sequentialminus": [
            [
             0,
             "#0d0887"
            ],
            [
             0.1111111111111111,
             "#46039f"
            ],
            [
             0.2222222222222222,
             "#7201a8"
            ],
            [
             0.3333333333333333,
             "#9c179e"
            ],
            [
             0.4444444444444444,
             "#bd3786"
            ],
            [
             0.5555555555555556,
             "#d8576b"
            ],
            [
             0.6666666666666666,
             "#ed7953"
            ],
            [
             0.7777777777777778,
             "#fb9f3a"
            ],
            [
             0.8888888888888888,
             "#fdca26"
            ],
            [
             1,
             "#f0f921"
            ]
           ]
          },
          "colorway": [
           "#636efa",
           "#EF553B",
           "#00cc96",
           "#ab63fa",
           "#FFA15A",
           "#19d3f3",
           "#FF6692",
           "#B6E880",
           "#FF97FF",
           "#FECB52"
          ],
          "font": {
           "color": "#2a3f5f"
          },
          "geo": {
           "bgcolor": "white",
           "lakecolor": "white",
           "landcolor": "white",
           "showlakes": true,
           "showland": true,
           "subunitcolor": "#C8D4E3"
          },
          "hoverlabel": {
           "align": "left"
          },
          "hovermode": "closest",
          "mapbox": {
           "style": "light"
          },
          "paper_bgcolor": "white",
          "plot_bgcolor": "white",
          "polar": {
           "angularaxis": {
            "gridcolor": "#EBF0F8",
            "linecolor": "#EBF0F8",
            "ticks": ""
           },
           "bgcolor": "white",
           "radialaxis": {
            "gridcolor": "#EBF0F8",
            "linecolor": "#EBF0F8",
            "ticks": ""
           }
          },
          "scene": {
           "xaxis": {
            "backgroundcolor": "white",
            "gridcolor": "#DFE8F3",
            "gridwidth": 2,
            "linecolor": "#EBF0F8",
            "showbackground": true,
            "ticks": "",
            "zerolinecolor": "#EBF0F8"
           },
           "yaxis": {
            "backgroundcolor": "white",
            "gridcolor": "#DFE8F3",
            "gridwidth": 2,
            "linecolor": "#EBF0F8",
            "showbackground": true,
            "ticks": "",
            "zerolinecolor": "#EBF0F8"
           },
           "zaxis": {
            "backgroundcolor": "white",
            "gridcolor": "#DFE8F3",
            "gridwidth": 2,
            "linecolor": "#EBF0F8",
            "showbackground": true,
            "ticks": "",
            "zerolinecolor": "#EBF0F8"
           }
          },
          "shapedefaults": {
           "line": {
            "color": "#2a3f5f"
           }
          },
          "ternary": {
           "aaxis": {
            "gridcolor": "#DFE8F3",
            "linecolor": "#A2B1C6",
            "ticks": ""
           },
           "baxis": {
            "gridcolor": "#DFE8F3",
            "linecolor": "#A2B1C6",
            "ticks": ""
           },
           "bgcolor": "white",
           "caxis": {
            "gridcolor": "#DFE8F3",
            "linecolor": "#A2B1C6",
            "ticks": ""
           }
          },
          "title": {
           "x": 0.05
          },
          "xaxis": {
           "automargin": true,
           "gridcolor": "#EBF0F8",
           "linecolor": "#EBF0F8",
           "ticks": "",
           "title": {
            "standoff": 15
           },
           "zerolinecolor": "#EBF0F8",
           "zerolinewidth": 2
          },
          "yaxis": {
           "automargin": true,
           "gridcolor": "#EBF0F8",
           "linecolor": "#EBF0F8",
           "ticks": "",
           "title": {
            "standoff": 15
           },
           "zerolinecolor": "#EBF0F8",
           "zerolinewidth": 2
          }
         }
        },
        "title": {
         "text": "Impression Over Time"
        },
        "xaxis": {
         "anchor": "y",
         "domain": [
          0,
          1
         ],
         "title": {
          "text": "index"
         }
        },
        "yaxis": {
         "anchor": "x",
         "domain": [
          0,
          1
         ],
         "title": {
          "text": "Impressions"
         }
        }
       }
      }
     },
     "metadata": {},
     "output_type": "display_data"
    }
   ],
   "source": [
    "#Check number of impressions on each post over time\n",
    "fig = px.line(data, x = data.index, y = 'Impressions', title= 'Impression Over Time')\n",
    "\n",
    "fig.show()"
   ]
  },
  {
   "cell_type": "code",
   "execution_count": 10,
   "metadata": {},
   "outputs": [
    {
     "data": {
      "text/html": [
       "<div>\n",
       "<style scoped>\n",
       "    .dataframe tbody tr th:only-of-type {\n",
       "        vertical-align: middle;\n",
       "    }\n",
       "\n",
       "    .dataframe tbody tr th {\n",
       "        vertical-align: top;\n",
       "    }\n",
       "\n",
       "    .dataframe thead th {\n",
       "        text-align: right;\n",
       "    }\n",
       "</style>\n",
       "<table border=\"1\" class=\"dataframe\">\n",
       "  <thead>\n",
       "    <tr style=\"text-align: right;\">\n",
       "      <th></th>\n",
       "      <th>Impressions</th>\n",
       "      <th>From Home</th>\n",
       "      <th>From Hashtags</th>\n",
       "      <th>From Explore</th>\n",
       "      <th>From Other</th>\n",
       "      <th>Saves</th>\n",
       "      <th>Comments</th>\n",
       "      <th>Shares</th>\n",
       "      <th>Likes</th>\n",
       "      <th>Profile Visits</th>\n",
       "      <th>Follows</th>\n",
       "      <th>Caption</th>\n",
       "      <th>Hashtags</th>\n",
       "    </tr>\n",
       "  </thead>\n",
       "  <tbody>\n",
       "    <tr>\n",
       "      <th>0</th>\n",
       "      <td>3920</td>\n",
       "      <td>2586</td>\n",
       "      <td>1028</td>\n",
       "      <td>619</td>\n",
       "      <td>56</td>\n",
       "      <td>98</td>\n",
       "      <td>9</td>\n",
       "      <td>5</td>\n",
       "      <td>162</td>\n",
       "      <td>35</td>\n",
       "      <td>2</td>\n",
       "      <td>Here are some of the most important data visua...</td>\n",
       "      <td>#finance #money #business #investing #investme...</td>\n",
       "    </tr>\n",
       "    <tr>\n",
       "      <th>1</th>\n",
       "      <td>5394</td>\n",
       "      <td>2727</td>\n",
       "      <td>1838</td>\n",
       "      <td>1174</td>\n",
       "      <td>78</td>\n",
       "      <td>194</td>\n",
       "      <td>7</td>\n",
       "      <td>14</td>\n",
       "      <td>224</td>\n",
       "      <td>48</td>\n",
       "      <td>10</td>\n",
       "      <td>Here are some of the best data science project...</td>\n",
       "      <td>#healthcare #health #covid #data #datascience ...</td>\n",
       "    </tr>\n",
       "    <tr>\n",
       "      <th>2</th>\n",
       "      <td>4021</td>\n",
       "      <td>2085</td>\n",
       "      <td>1188</td>\n",
       "      <td>0</td>\n",
       "      <td>533</td>\n",
       "      <td>41</td>\n",
       "      <td>11</td>\n",
       "      <td>1</td>\n",
       "      <td>131</td>\n",
       "      <td>62</td>\n",
       "      <td>12</td>\n",
       "      <td>Learn how to train a machine learning model an...</td>\n",
       "      <td>#data #datascience #dataanalysis #dataanalytic...</td>\n",
       "    </tr>\n",
       "    <tr>\n",
       "      <th>3</th>\n",
       "      <td>4528</td>\n",
       "      <td>2700</td>\n",
       "      <td>621</td>\n",
       "      <td>932</td>\n",
       "      <td>73</td>\n",
       "      <td>172</td>\n",
       "      <td>10</td>\n",
       "      <td>7</td>\n",
       "      <td>213</td>\n",
       "      <td>23</td>\n",
       "      <td>8</td>\n",
       "      <td>Heres how you can write a Python program to d...</td>\n",
       "      <td>#python #pythonprogramming #pythonprojects #py...</td>\n",
       "    </tr>\n",
       "    <tr>\n",
       "      <th>4</th>\n",
       "      <td>2518</td>\n",
       "      <td>1704</td>\n",
       "      <td>255</td>\n",
       "      <td>279</td>\n",
       "      <td>37</td>\n",
       "      <td>96</td>\n",
       "      <td>5</td>\n",
       "      <td>4</td>\n",
       "      <td>123</td>\n",
       "      <td>8</td>\n",
       "      <td>0</td>\n",
       "      <td>Plotting annotations while visualizing your da...</td>\n",
       "      <td>#datavisualization #datascience #data #dataana...</td>\n",
       "    </tr>\n",
       "  </tbody>\n",
       "</table>\n",
       "</div>"
      ],
      "text/plain": [
       "   Impressions  From Home  From Hashtags  From Explore  From Other  Saves  \\\n",
       "0         3920       2586           1028           619          56     98   \n",
       "1         5394       2727           1838          1174          78    194   \n",
       "2         4021       2085           1188             0         533     41   \n",
       "3         4528       2700            621           932          73    172   \n",
       "4         2518       1704            255           279          37     96   \n",
       "\n",
       "   Comments  Shares  Likes  Profile Visits  Follows  \\\n",
       "0         9       5    162              35        2   \n",
       "1         7      14    224              48       10   \n",
       "2        11       1    131              62       12   \n",
       "3        10       7    213              23        8   \n",
       "4         5       4    123               8        0   \n",
       "\n",
       "                                             Caption  \\\n",
       "0  Here are some of the most important data visua...   \n",
       "1  Here are some of the best data science project...   \n",
       "2  Learn how to train a machine learning model an...   \n",
       "3  Heres how you can write a Python program to d...   \n",
       "4  Plotting annotations while visualizing your da...   \n",
       "\n",
       "                                            Hashtags  \n",
       "0  #finance #money #business #investing #investme...  \n",
       "1  #healthcare #health #covid #data #datascience ...  \n",
       "2  #data #datascience #dataanalysis #dataanalytic...  \n",
       "3  #python #pythonprogramming #pythonprojects #py...  \n",
       "4  #datavisualization #datascience #data #dataana...  "
      ]
     },
     "execution_count": 10,
     "metadata": {},
     "output_type": "execute_result"
    }
   ],
   "source": [
    "data.head(5)"
   ]
  },
  {
   "cell_type": "code",
   "execution_count": 11,
   "metadata": {},
   "outputs": [
    {
     "name": "stdout",
     "output_type": "stream",
     "text": [
      "549\n",
      "72\n",
      "173.78151260504202\n"
     ]
    }
   ],
   "source": [
    "print(data[\"Likes\"].max())\n",
    "print(data[\"Likes\"].min())\n",
    "print(data[\"Likes\"].mean())"
   ]
  },
  {
   "cell_type": "code",
   "execution_count": 12,
   "metadata": {},
   "outputs": [
    {
     "data": {
      "application/vnd.plotly.v1+json": {
       "config": {
        "plotlyServerURL": "https://plot.ly"
       },
       "data": [
        {
         "name": "Likes",
         "type": "scatter",
         "x": [
          0,
          1,
          2,
          3,
          4,
          5,
          6,
          7,
          8,
          9,
          10,
          11,
          12,
          13,
          14,
          15,
          16,
          17,
          18,
          19,
          20,
          21,
          22,
          23,
          24,
          25,
          26,
          27,
          28,
          29,
          30,
          31,
          32,
          33,
          34,
          35,
          36,
          37,
          38,
          39,
          40,
          41,
          42,
          43,
          44,
          45,
          46,
          47,
          48,
          49,
          50,
          51,
          52,
          53,
          54,
          55,
          56,
          57,
          58,
          59,
          60,
          61,
          62,
          63,
          64,
          65,
          66,
          67,
          68,
          69,
          70,
          71,
          72,
          73,
          74,
          75,
          76,
          77,
          78,
          79,
          80,
          81,
          82,
          83,
          84,
          85,
          86,
          87,
          88,
          89,
          90,
          91,
          92,
          93,
          94,
          95,
          96,
          97,
          98,
          99,
          100,
          101,
          102,
          103,
          104,
          105,
          106,
          107,
          108,
          109,
          110,
          111,
          112,
          113,
          114,
          115,
          116,
          117,
          118
         ],
         "y": [
          162,
          224,
          131,
          213,
          123,
          144,
          76,
          124,
          159,
          191,
          81,
          151,
          162,
          142,
          294,
          159,
          205,
          121,
          151,
          72,
          76,
          91,
          195,
          129,
          160,
          175,
          147,
          114,
          151,
          92,
          214,
          150,
          122,
          152,
          196,
          86,
          85,
          156,
          72,
          82,
          416,
          180,
          150,
          127,
          167,
          225,
          137,
          114,
          263,
          328,
          126,
          236,
          99,
          212,
          297,
          142,
          186,
          112,
          149,
          132,
          115,
          248,
          178,
          107,
          269,
          96,
          134,
          301,
          187,
          94,
          114,
          96,
          138,
          122,
          257,
          95,
          244,
          190,
          118,
          178,
          170,
          250,
          159,
          205,
          121,
          151,
          72,
          137,
          114,
          263,
          328,
          126,
          129,
          160,
          175,
          147,
          114,
          151,
          92,
          275,
          192,
          203,
          145,
          168,
          194,
          250,
          171,
          416,
          249,
          308,
          163,
          86,
          210,
          172,
          373,
          148,
          92,
          549,
          443
         ]
        },
        {
         "name": "Saves",
         "type": "scatter",
         "x": [
          0,
          1,
          2,
          3,
          4,
          5,
          6,
          7,
          8,
          9,
          10,
          11,
          12,
          13,
          14,
          15,
          16,
          17,
          18,
          19,
          20,
          21,
          22,
          23,
          24,
          25,
          26,
          27,
          28,
          29,
          30,
          31,
          32,
          33,
          34,
          35,
          36,
          37,
          38,
          39,
          40,
          41,
          42,
          43,
          44,
          45,
          46,
          47,
          48,
          49,
          50,
          51,
          52,
          53,
          54,
          55,
          56,
          57,
          58,
          59,
          60,
          61,
          62,
          63,
          64,
          65,
          66,
          67,
          68,
          69,
          70,
          71,
          72,
          73,
          74,
          75,
          76,
          77,
          78,
          79,
          80,
          81,
          82,
          83,
          84,
          85,
          86,
          87,
          88,
          89,
          90,
          91,
          92,
          93,
          94,
          95,
          96,
          97,
          98,
          99,
          100,
          101,
          102,
          103,
          104,
          105,
          106,
          107,
          108,
          109,
          110,
          111,
          112,
          113,
          114,
          115,
          116,
          117,
          118
         ],
         "y": [
          98,
          194,
          41,
          172,
          96,
          74,
          22,
          135,
          155,
          122,
          28,
          122,
          119,
          121,
          100,
          101,
          111,
          106,
          82,
          40,
          49,
          72,
          167,
          63,
          144,
          135,
          61,
          40,
          139,
          52,
          84,
          81,
          79,
          105,
          90,
          34,
          45,
          98,
          35,
          49,
          252,
          167,
          111,
          90,
          144,
          263,
          137,
          67,
          288,
          668,
          42,
          342,
          48,
          250,
          219,
          118,
          143,
          99,
          89,
          148,
          42,
          171,
          109,
          38,
          421,
          38,
          116,
          225,
          144,
          51,
          104,
          33,
          174,
          46,
          179,
          34,
          99,
          174,
          70,
          149,
          207,
          318,
          101,
          111,
          106,
          82,
          40,
          137,
          67,
          288,
          668,
          42,
          63,
          144,
          135,
          61,
          40,
          139,
          52,
          393,
          152,
          83,
          74,
          94,
          188,
          214,
          73,
          285,
          469,
          504,
          149,
          55,
          273,
          182,
          573,
          135,
          36,
          1095,
          653
         ]
        },
        {
         "name": "Follows",
         "type": "scatter",
         "x": [
          0,
          1,
          2,
          3,
          4,
          5,
          6,
          7,
          8,
          9,
          10,
          11,
          12,
          13,
          14,
          15,
          16,
          17,
          18,
          19,
          20,
          21,
          22,
          23,
          24,
          25,
          26,
          27,
          28,
          29,
          30,
          31,
          32,
          33,
          34,
          35,
          36,
          37,
          38,
          39,
          40,
          41,
          42,
          43,
          44,
          45,
          46,
          47,
          48,
          49,
          50,
          51,
          52,
          53,
          54,
          55,
          56,
          57,
          58,
          59,
          60,
          61,
          62,
          63,
          64,
          65,
          66,
          67,
          68,
          69,
          70,
          71,
          72,
          73,
          74,
          75,
          76,
          77,
          78,
          79,
          80,
          81,
          82,
          83,
          84,
          85,
          86,
          87,
          88,
          89,
          90,
          91,
          92,
          93,
          94,
          95,
          96,
          97,
          98,
          99,
          100,
          101,
          102,
          103,
          104,
          105,
          106,
          107,
          108,
          109,
          110,
          111,
          112,
          113,
          114,
          115,
          116,
          117,
          118
         ],
         "y": [
          2,
          10,
          12,
          8,
          0,
          2,
          0,
          6,
          4,
          6,
          4,
          0,
          2,
          4,
          42,
          6,
          2,
          2,
          30,
          0,
          0,
          24,
          100,
          2,
          4,
          6,
          6,
          6,
          2,
          2,
          20,
          2,
          4,
          8,
          26,
          2,
          2,
          4,
          0,
          2,
          94,
          8,
          18,
          10,
          4,
          4,
          4,
          4,
          18,
          38,
          10,
          12,
          4,
          4,
          74,
          0,
          6,
          6,
          0,
          6,
          12,
          10,
          8,
          8,
          46,
          12,
          10,
          94,
          6,
          10,
          6,
          4,
          12,
          16,
          12,
          8,
          32,
          8,
          16,
          6,
          10,
          10,
          6,
          2,
          2,
          30,
          0,
          4,
          4,
          18,
          38,
          10,
          2,
          4,
          6,
          6,
          6,
          2,
          2,
          14,
          8,
          14,
          28,
          18,
          12,
          34,
          26,
          260,
          16,
          96,
          20,
          30,
          58,
          100,
          80,
          18,
          10,
          214,
          228
         ]
        }
       ],
       "layout": {
        "template": {
         "data": {
          "bar": [
           {
            "error_x": {
             "color": "#2a3f5f"
            },
            "error_y": {
             "color": "#2a3f5f"
            },
            "marker": {
             "line": {
              "color": "white",
              "width": 0.5
             },
             "pattern": {
              "fillmode": "overlay",
              "size": 10,
              "solidity": 0.2
             }
            },
            "type": "bar"
           }
          ],
          "barpolar": [
           {
            "marker": {
             "line": {
              "color": "white",
              "width": 0.5
             },
             "pattern": {
              "fillmode": "overlay",
              "size": 10,
              "solidity": 0.2
             }
            },
            "type": "barpolar"
           }
          ],
          "carpet": [
           {
            "aaxis": {
             "endlinecolor": "#2a3f5f",
             "gridcolor": "#C8D4E3",
             "linecolor": "#C8D4E3",
             "minorgridcolor": "#C8D4E3",
             "startlinecolor": "#2a3f5f"
            },
            "baxis": {
             "endlinecolor": "#2a3f5f",
             "gridcolor": "#C8D4E3",
             "linecolor": "#C8D4E3",
             "minorgridcolor": "#C8D4E3",
             "startlinecolor": "#2a3f5f"
            },
            "type": "carpet"
           }
          ],
          "choropleth": [
           {
            "colorbar": {
             "outlinewidth": 0,
             "ticks": ""
            },
            "type": "choropleth"
           }
          ],
          "contour": [
           {
            "colorbar": {
             "outlinewidth": 0,
             "ticks": ""
            },
            "colorscale": [
             [
              0,
              "#0d0887"
             ],
             [
              0.1111111111111111,
              "#46039f"
             ],
             [
              0.2222222222222222,
              "#7201a8"
             ],
             [
              0.3333333333333333,
              "#9c179e"
             ],
             [
              0.4444444444444444,
              "#bd3786"
             ],
             [
              0.5555555555555556,
              "#d8576b"
             ],
             [
              0.6666666666666666,
              "#ed7953"
             ],
             [
              0.7777777777777778,
              "#fb9f3a"
             ],
             [
              0.8888888888888888,
              "#fdca26"
             ],
             [
              1,
              "#f0f921"
             ]
            ],
            "type": "contour"
           }
          ],
          "contourcarpet": [
           {
            "colorbar": {
             "outlinewidth": 0,
             "ticks": ""
            },
            "type": "contourcarpet"
           }
          ],
          "heatmap": [
           {
            "colorbar": {
             "outlinewidth": 0,
             "ticks": ""
            },
            "colorscale": [
             [
              0,
              "#0d0887"
             ],
             [
              0.1111111111111111,
              "#46039f"
             ],
             [
              0.2222222222222222,
              "#7201a8"
             ],
             [
              0.3333333333333333,
              "#9c179e"
             ],
             [
              0.4444444444444444,
              "#bd3786"
             ],
             [
              0.5555555555555556,
              "#d8576b"
             ],
             [
              0.6666666666666666,
              "#ed7953"
             ],
             [
              0.7777777777777778,
              "#fb9f3a"
             ],
             [
              0.8888888888888888,
              "#fdca26"
             ],
             [
              1,
              "#f0f921"
             ]
            ],
            "type": "heatmap"
           }
          ],
          "heatmapgl": [
           {
            "colorbar": {
             "outlinewidth": 0,
             "ticks": ""
            },
            "colorscale": [
             [
              0,
              "#0d0887"
             ],
             [
              0.1111111111111111,
              "#46039f"
             ],
             [
              0.2222222222222222,
              "#7201a8"
             ],
             [
              0.3333333333333333,
              "#9c179e"
             ],
             [
              0.4444444444444444,
              "#bd3786"
             ],
             [
              0.5555555555555556,
              "#d8576b"
             ],
             [
              0.6666666666666666,
              "#ed7953"
             ],
             [
              0.7777777777777778,
              "#fb9f3a"
             ],
             [
              0.8888888888888888,
              "#fdca26"
             ],
             [
              1,
              "#f0f921"
             ]
            ],
            "type": "heatmapgl"
           }
          ],
          "histogram": [
           {
            "marker": {
             "pattern": {
              "fillmode": "overlay",
              "size": 10,
              "solidity": 0.2
             }
            },
            "type": "histogram"
           }
          ],
          "histogram2d": [
           {
            "colorbar": {
             "outlinewidth": 0,
             "ticks": ""
            },
            "colorscale": [
             [
              0,
              "#0d0887"
             ],
             [
              0.1111111111111111,
              "#46039f"
             ],
             [
              0.2222222222222222,
              "#7201a8"
             ],
             [
              0.3333333333333333,
              "#9c179e"
             ],
             [
              0.4444444444444444,
              "#bd3786"
             ],
             [
              0.5555555555555556,
              "#d8576b"
             ],
             [
              0.6666666666666666,
              "#ed7953"
             ],
             [
              0.7777777777777778,
              "#fb9f3a"
             ],
             [
              0.8888888888888888,
              "#fdca26"
             ],
             [
              1,
              "#f0f921"
             ]
            ],
            "type": "histogram2d"
           }
          ],
          "histogram2dcontour": [
           {
            "colorbar": {
             "outlinewidth": 0,
             "ticks": ""
            },
            "colorscale": [
             [
              0,
              "#0d0887"
             ],
             [
              0.1111111111111111,
              "#46039f"
             ],
             [
              0.2222222222222222,
              "#7201a8"
             ],
             [
              0.3333333333333333,
              "#9c179e"
             ],
             [
              0.4444444444444444,
              "#bd3786"
             ],
             [
              0.5555555555555556,
              "#d8576b"
             ],
             [
              0.6666666666666666,
              "#ed7953"
             ],
             [
              0.7777777777777778,
              "#fb9f3a"
             ],
             [
              0.8888888888888888,
              "#fdca26"
             ],
             [
              1,
              "#f0f921"
             ]
            ],
            "type": "histogram2dcontour"
           }
          ],
          "mesh3d": [
           {
            "colorbar": {
             "outlinewidth": 0,
             "ticks": ""
            },
            "type": "mesh3d"
           }
          ],
          "parcoords": [
           {
            "line": {
             "colorbar": {
              "outlinewidth": 0,
              "ticks": ""
             }
            },
            "type": "parcoords"
           }
          ],
          "pie": [
           {
            "automargin": true,
            "type": "pie"
           }
          ],
          "scatter": [
           {
            "marker": {
             "colorbar": {
              "outlinewidth": 0,
              "ticks": ""
             }
            },
            "type": "scatter"
           }
          ],
          "scatter3d": [
           {
            "line": {
             "colorbar": {
              "outlinewidth": 0,
              "ticks": ""
             }
            },
            "marker": {
             "colorbar": {
              "outlinewidth": 0,
              "ticks": ""
             }
            },
            "type": "scatter3d"
           }
          ],
          "scattercarpet": [
           {
            "marker": {
             "colorbar": {
              "outlinewidth": 0,
              "ticks": ""
             }
            },
            "type": "scattercarpet"
           }
          ],
          "scattergeo": [
           {
            "marker": {
             "colorbar": {
              "outlinewidth": 0,
              "ticks": ""
             }
            },
            "type": "scattergeo"
           }
          ],
          "scattergl": [
           {
            "marker": {
             "colorbar": {
              "outlinewidth": 0,
              "ticks": ""
             }
            },
            "type": "scattergl"
           }
          ],
          "scattermapbox": [
           {
            "marker": {
             "colorbar": {
              "outlinewidth": 0,
              "ticks": ""
             }
            },
            "type": "scattermapbox"
           }
          ],
          "scatterpolar": [
           {
            "marker": {
             "colorbar": {
              "outlinewidth": 0,
              "ticks": ""
             }
            },
            "type": "scatterpolar"
           }
          ],
          "scatterpolargl": [
           {
            "marker": {
             "colorbar": {
              "outlinewidth": 0,
              "ticks": ""
             }
            },
            "type": "scatterpolargl"
           }
          ],
          "scatterternary": [
           {
            "marker": {
             "colorbar": {
              "outlinewidth": 0,
              "ticks": ""
             }
            },
            "type": "scatterternary"
           }
          ],
          "surface": [
           {
            "colorbar": {
             "outlinewidth": 0,
             "ticks": ""
            },
            "colorscale": [
             [
              0,
              "#0d0887"
             ],
             [
              0.1111111111111111,
              "#46039f"
             ],
             [
              0.2222222222222222,
              "#7201a8"
             ],
             [
              0.3333333333333333,
              "#9c179e"
             ],
             [
              0.4444444444444444,
              "#bd3786"
             ],
             [
              0.5555555555555556,
              "#d8576b"
             ],
             [
              0.6666666666666666,
              "#ed7953"
             ],
             [
              0.7777777777777778,
              "#fb9f3a"
             ],
             [
              0.8888888888888888,
              "#fdca26"
             ],
             [
              1,
              "#f0f921"
             ]
            ],
            "type": "surface"
           }
          ],
          "table": [
           {
            "cells": {
             "fill": {
              "color": "#EBF0F8"
             },
             "line": {
              "color": "white"
             }
            },
            "header": {
             "fill": {
              "color": "#C8D4E3"
             },
             "line": {
              "color": "white"
             }
            },
            "type": "table"
           }
          ]
         },
         "layout": {
          "annotationdefaults": {
           "arrowcolor": "#2a3f5f",
           "arrowhead": 0,
           "arrowwidth": 1
          },
          "autotypenumbers": "strict",
          "coloraxis": {
           "colorbar": {
            "outlinewidth": 0,
            "ticks": ""
           }
          },
          "colorscale": {
           "diverging": [
            [
             0,
             "#8e0152"
            ],
            [
             0.1,
             "#c51b7d"
            ],
            [
             0.2,
             "#de77ae"
            ],
            [
             0.3,
             "#f1b6da"
            ],
            [
             0.4,
             "#fde0ef"
            ],
            [
             0.5,
             "#f7f7f7"
            ],
            [
             0.6,
             "#e6f5d0"
            ],
            [
             0.7,
             "#b8e186"
            ],
            [
             0.8,
             "#7fbc41"
            ],
            [
             0.9,
             "#4d9221"
            ],
            [
             1,
             "#276419"
            ]
           ],
           "sequential": [
            [
             0,
             "#0d0887"
            ],
            [
             0.1111111111111111,
             "#46039f"
            ],
            [
             0.2222222222222222,
             "#7201a8"
            ],
            [
             0.3333333333333333,
             "#9c179e"
            ],
            [
             0.4444444444444444,
             "#bd3786"
            ],
            [
             0.5555555555555556,
             "#d8576b"
            ],
            [
             0.6666666666666666,
             "#ed7953"
            ],
            [
             0.7777777777777778,
             "#fb9f3a"
            ],
            [
             0.8888888888888888,
             "#fdca26"
            ],
            [
             1,
             "#f0f921"
            ]
           ],
           "sequentialminus": [
            [
             0,
             "#0d0887"
            ],
            [
             0.1111111111111111,
             "#46039f"
            ],
            [
             0.2222222222222222,
             "#7201a8"
            ],
            [
             0.3333333333333333,
             "#9c179e"
            ],
            [
             0.4444444444444444,
             "#bd3786"
            ],
            [
             0.5555555555555556,
             "#d8576b"
            ],
            [
             0.6666666666666666,
             "#ed7953"
            ],
            [
             0.7777777777777778,
             "#fb9f3a"
            ],
            [
             0.8888888888888888,
             "#fdca26"
            ],
            [
             1,
             "#f0f921"
            ]
           ]
          },
          "colorway": [
           "#636efa",
           "#EF553B",
           "#00cc96",
           "#ab63fa",
           "#FFA15A",
           "#19d3f3",
           "#FF6692",
           "#B6E880",
           "#FF97FF",
           "#FECB52"
          ],
          "font": {
           "color": "#2a3f5f"
          },
          "geo": {
           "bgcolor": "white",
           "lakecolor": "white",
           "landcolor": "white",
           "showlakes": true,
           "showland": true,
           "subunitcolor": "#C8D4E3"
          },
          "hoverlabel": {
           "align": "left"
          },
          "hovermode": "closest",
          "mapbox": {
           "style": "light"
          },
          "paper_bgcolor": "white",
          "plot_bgcolor": "white",
          "polar": {
           "angularaxis": {
            "gridcolor": "#EBF0F8",
            "linecolor": "#EBF0F8",
            "ticks": ""
           },
           "bgcolor": "white",
           "radialaxis": {
            "gridcolor": "#EBF0F8",
            "linecolor": "#EBF0F8",
            "ticks": ""
           }
          },
          "scene": {
           "xaxis": {
            "backgroundcolor": "white",
            "gridcolor": "#DFE8F3",
            "gridwidth": 2,
            "linecolor": "#EBF0F8",
            "showbackground": true,
            "ticks": "",
            "zerolinecolor": "#EBF0F8"
           },
           "yaxis": {
            "backgroundcolor": "white",
            "gridcolor": "#DFE8F3",
            "gridwidth": 2,
            "linecolor": "#EBF0F8",
            "showbackground": true,
            "ticks": "",
            "zerolinecolor": "#EBF0F8"
           },
           "zaxis": {
            "backgroundcolor": "white",
            "gridcolor": "#DFE8F3",
            "gridwidth": 2,
            "linecolor": "#EBF0F8",
            "showbackground": true,
            "ticks": "",
            "zerolinecolor": "#EBF0F8"
           }
          },
          "shapedefaults": {
           "line": {
            "color": "#2a3f5f"
           }
          },
          "ternary": {
           "aaxis": {
            "gridcolor": "#DFE8F3",
            "linecolor": "#A2B1C6",
            "ticks": ""
           },
           "baxis": {
            "gridcolor": "#DFE8F3",
            "linecolor": "#A2B1C6",
            "ticks": ""
           },
           "bgcolor": "white",
           "caxis": {
            "gridcolor": "#DFE8F3",
            "linecolor": "#A2B1C6",
            "ticks": ""
           }
          },
          "title": {
           "x": 0.05
          },
          "xaxis": {
           "automargin": true,
           "gridcolor": "#EBF0F8",
           "linecolor": "#EBF0F8",
           "ticks": "",
           "title": {
            "standoff": 15
           },
           "zerolinecolor": "#EBF0F8",
           "zerolinewidth": 2
          },
          "yaxis": {
           "automargin": true,
           "gridcolor": "#EBF0F8",
           "linecolor": "#EBF0F8",
           "ticks": "",
           "title": {
            "standoff": 15
           },
           "zerolinecolor": "#EBF0F8",
           "zerolinewidth": 2
          }
         }
        },
        "title": {
         "text": "Metrics Over Time"
        },
        "xaxis": {
         "title": {
          "text": "Date"
         }
        },
        "yaxis": {
         "title": {
          "text": "Count"
         }
        }
       }
      }
     },
     "metadata": {},
     "output_type": "display_data"
    }
   ],
   "source": [
    "#Look at all the metrics like Likes, Saves, and Follows from each post over time\n",
    "\n",
    "fig = go.Figure() #This line initializes a new empty figure object called fig.\n",
    "\n",
    "fig.add_trace(go.Scatter(x=data.index, y=data['Likes'], name='Likes')) # This line adds a scatter trace to the figure.\n",
    "#go.Scatter: This creates a scatter plot trace.\n",
    "#The x-axis data is taken from the index of your DataFrame \n",
    "#y=data['Likes']: The y-axis data is taken from the 'Likes' column of your DataFrame (data['Likes']).\n",
    "#name='Likes': This sets the name or label for this trace, which will be used in the legend.\n",
    "\n",
    "fig.add_trace(go.Scatter(x=data.index, y=data['Saves'], name='Saves'))\n",
    "fig.add_trace(go.Scatter(x=data.index, y=data['Follows'], name='Follows'))\n",
    "\n",
    "fig.update_layout(title='Metrics Over Time',                  # Sets the title of the plot to 'Metrics Over Time'.\n",
    "                  xaxis_title ='Date', yaxis_title='Count')\n",
    "\n",
    "fig.show()\n"
   ]
  },
  {
   "cell_type": "code",
   "execution_count": 13,
   "metadata": {},
   "outputs": [
    {
     "data": {
      "application/vnd.plotly.v1+json": {
       "config": {
        "plotlyServerURL": "https://plot.ly"
       },
       "data": [
        {
         "domain": {
          "x": [
           0,
           1
          ],
          "y": [
           0,
           1
          ]
         },
         "hovertemplate": "label=%{label}<br>value=%{value}<extra></extra>",
         "labels": [
          "From Home",
          "From Hashtags",
          "From Explore",
          "From Other"
         ],
         "legendgroup": "",
         "name": "",
         "showlegend": true,
         "type": "pie",
         "values": [
          294619,
          224614,
          128294,
          20360
         ]
        }
       ],
       "layout": {
        "legend": {
         "tracegroupgap": 0
        },
        "piecolorway": [
         "#FFB6C1",
         "#87CEFA",
         "#90EE90",
         "#FFDAB9"
        ],
        "template": {
         "data": {
          "bar": [
           {
            "error_x": {
             "color": "#2a3f5f"
            },
            "error_y": {
             "color": "#2a3f5f"
            },
            "marker": {
             "line": {
              "color": "white",
              "width": 0.5
             },
             "pattern": {
              "fillmode": "overlay",
              "size": 10,
              "solidity": 0.2
             }
            },
            "type": "bar"
           }
          ],
          "barpolar": [
           {
            "marker": {
             "line": {
              "color": "white",
              "width": 0.5
             },
             "pattern": {
              "fillmode": "overlay",
              "size": 10,
              "solidity": 0.2
             }
            },
            "type": "barpolar"
           }
          ],
          "carpet": [
           {
            "aaxis": {
             "endlinecolor": "#2a3f5f",
             "gridcolor": "#C8D4E3",
             "linecolor": "#C8D4E3",
             "minorgridcolor": "#C8D4E3",
             "startlinecolor": "#2a3f5f"
            },
            "baxis": {
             "endlinecolor": "#2a3f5f",
             "gridcolor": "#C8D4E3",
             "linecolor": "#C8D4E3",
             "minorgridcolor": "#C8D4E3",
             "startlinecolor": "#2a3f5f"
            },
            "type": "carpet"
           }
          ],
          "choropleth": [
           {
            "colorbar": {
             "outlinewidth": 0,
             "ticks": ""
            },
            "type": "choropleth"
           }
          ],
          "contour": [
           {
            "colorbar": {
             "outlinewidth": 0,
             "ticks": ""
            },
            "colorscale": [
             [
              0,
              "#0d0887"
             ],
             [
              0.1111111111111111,
              "#46039f"
             ],
             [
              0.2222222222222222,
              "#7201a8"
             ],
             [
              0.3333333333333333,
              "#9c179e"
             ],
             [
              0.4444444444444444,
              "#bd3786"
             ],
             [
              0.5555555555555556,
              "#d8576b"
             ],
             [
              0.6666666666666666,
              "#ed7953"
             ],
             [
              0.7777777777777778,
              "#fb9f3a"
             ],
             [
              0.8888888888888888,
              "#fdca26"
             ],
             [
              1,
              "#f0f921"
             ]
            ],
            "type": "contour"
           }
          ],
          "contourcarpet": [
           {
            "colorbar": {
             "outlinewidth": 0,
             "ticks": ""
            },
            "type": "contourcarpet"
           }
          ],
          "heatmap": [
           {
            "colorbar": {
             "outlinewidth": 0,
             "ticks": ""
            },
            "colorscale": [
             [
              0,
              "#0d0887"
             ],
             [
              0.1111111111111111,
              "#46039f"
             ],
             [
              0.2222222222222222,
              "#7201a8"
             ],
             [
              0.3333333333333333,
              "#9c179e"
             ],
             [
              0.4444444444444444,
              "#bd3786"
             ],
             [
              0.5555555555555556,
              "#d8576b"
             ],
             [
              0.6666666666666666,
              "#ed7953"
             ],
             [
              0.7777777777777778,
              "#fb9f3a"
             ],
             [
              0.8888888888888888,
              "#fdca26"
             ],
             [
              1,
              "#f0f921"
             ]
            ],
            "type": "heatmap"
           }
          ],
          "heatmapgl": [
           {
            "colorbar": {
             "outlinewidth": 0,
             "ticks": ""
            },
            "colorscale": [
             [
              0,
              "#0d0887"
             ],
             [
              0.1111111111111111,
              "#46039f"
             ],
             [
              0.2222222222222222,
              "#7201a8"
             ],
             [
              0.3333333333333333,
              "#9c179e"
             ],
             [
              0.4444444444444444,
              "#bd3786"
             ],
             [
              0.5555555555555556,
              "#d8576b"
             ],
             [
              0.6666666666666666,
              "#ed7953"
             ],
             [
              0.7777777777777778,
              "#fb9f3a"
             ],
             [
              0.8888888888888888,
              "#fdca26"
             ],
             [
              1,
              "#f0f921"
             ]
            ],
            "type": "heatmapgl"
           }
          ],
          "histogram": [
           {
            "marker": {
             "pattern": {
              "fillmode": "overlay",
              "size": 10,
              "solidity": 0.2
             }
            },
            "type": "histogram"
           }
          ],
          "histogram2d": [
           {
            "colorbar": {
             "outlinewidth": 0,
             "ticks": ""
            },
            "colorscale": [
             [
              0,
              "#0d0887"
             ],
             [
              0.1111111111111111,
              "#46039f"
             ],
             [
              0.2222222222222222,
              "#7201a8"
             ],
             [
              0.3333333333333333,
              "#9c179e"
             ],
             [
              0.4444444444444444,
              "#bd3786"
             ],
             [
              0.5555555555555556,
              "#d8576b"
             ],
             [
              0.6666666666666666,
              "#ed7953"
             ],
             [
              0.7777777777777778,
              "#fb9f3a"
             ],
             [
              0.8888888888888888,
              "#fdca26"
             ],
             [
              1,
              "#f0f921"
             ]
            ],
            "type": "histogram2d"
           }
          ],
          "histogram2dcontour": [
           {
            "colorbar": {
             "outlinewidth": 0,
             "ticks": ""
            },
            "colorscale": [
             [
              0,
              "#0d0887"
             ],
             [
              0.1111111111111111,
              "#46039f"
             ],
             [
              0.2222222222222222,
              "#7201a8"
             ],
             [
              0.3333333333333333,
              "#9c179e"
             ],
             [
              0.4444444444444444,
              "#bd3786"
             ],
             [
              0.5555555555555556,
              "#d8576b"
             ],
             [
              0.6666666666666666,
              "#ed7953"
             ],
             [
              0.7777777777777778,
              "#fb9f3a"
             ],
             [
              0.8888888888888888,
              "#fdca26"
             ],
             [
              1,
              "#f0f921"
             ]
            ],
            "type": "histogram2dcontour"
           }
          ],
          "mesh3d": [
           {
            "colorbar": {
             "outlinewidth": 0,
             "ticks": ""
            },
            "type": "mesh3d"
           }
          ],
          "parcoords": [
           {
            "line": {
             "colorbar": {
              "outlinewidth": 0,
              "ticks": ""
             }
            },
            "type": "parcoords"
           }
          ],
          "pie": [
           {
            "automargin": true,
            "type": "pie"
           }
          ],
          "scatter": [
           {
            "marker": {
             "colorbar": {
              "outlinewidth": 0,
              "ticks": ""
             }
            },
            "type": "scatter"
           }
          ],
          "scatter3d": [
           {
            "line": {
             "colorbar": {
              "outlinewidth": 0,
              "ticks": ""
             }
            },
            "marker": {
             "colorbar": {
              "outlinewidth": 0,
              "ticks": ""
             }
            },
            "type": "scatter3d"
           }
          ],
          "scattercarpet": [
           {
            "marker": {
             "colorbar": {
              "outlinewidth": 0,
              "ticks": ""
             }
            },
            "type": "scattercarpet"
           }
          ],
          "scattergeo": [
           {
            "marker": {
             "colorbar": {
              "outlinewidth": 0,
              "ticks": ""
             }
            },
            "type": "scattergeo"
           }
          ],
          "scattergl": [
           {
            "marker": {
             "colorbar": {
              "outlinewidth": 0,
              "ticks": ""
             }
            },
            "type": "scattergl"
           }
          ],
          "scattermapbox": [
           {
            "marker": {
             "colorbar": {
              "outlinewidth": 0,
              "ticks": ""
             }
            },
            "type": "scattermapbox"
           }
          ],
          "scatterpolar": [
           {
            "marker": {
             "colorbar": {
              "outlinewidth": 0,
              "ticks": ""
             }
            },
            "type": "scatterpolar"
           }
          ],
          "scatterpolargl": [
           {
            "marker": {
             "colorbar": {
              "outlinewidth": 0,
              "ticks": ""
             }
            },
            "type": "scatterpolargl"
           }
          ],
          "scatterternary": [
           {
            "marker": {
             "colorbar": {
              "outlinewidth": 0,
              "ticks": ""
             }
            },
            "type": "scatterternary"
           }
          ],
          "surface": [
           {
            "colorbar": {
             "outlinewidth": 0,
             "ticks": ""
            },
            "colorscale": [
             [
              0,
              "#0d0887"
             ],
             [
              0.1111111111111111,
              "#46039f"
             ],
             [
              0.2222222222222222,
              "#7201a8"
             ],
             [
              0.3333333333333333,
              "#9c179e"
             ],
             [
              0.4444444444444444,
              "#bd3786"
             ],
             [
              0.5555555555555556,
              "#d8576b"
             ],
             [
              0.6666666666666666,
              "#ed7953"
             ],
             [
              0.7777777777777778,
              "#fb9f3a"
             ],
             [
              0.8888888888888888,
              "#fdca26"
             ],
             [
              1,
              "#f0f921"
             ]
            ],
            "type": "surface"
           }
          ],
          "table": [
           {
            "cells": {
             "fill": {
              "color": "#EBF0F8"
             },
             "line": {
              "color": "white"
             }
            },
            "header": {
             "fill": {
              "color": "#C8D4E3"
             },
             "line": {
              "color": "white"
             }
            },
            "type": "table"
           }
          ]
         },
         "layout": {
          "annotationdefaults": {
           "arrowcolor": "#2a3f5f",
           "arrowhead": 0,
           "arrowwidth": 1
          },
          "autotypenumbers": "strict",
          "coloraxis": {
           "colorbar": {
            "outlinewidth": 0,
            "ticks": ""
           }
          },
          "colorscale": {
           "diverging": [
            [
             0,
             "#8e0152"
            ],
            [
             0.1,
             "#c51b7d"
            ],
            [
             0.2,
             "#de77ae"
            ],
            [
             0.3,
             "#f1b6da"
            ],
            [
             0.4,
             "#fde0ef"
            ],
            [
             0.5,
             "#f7f7f7"
            ],
            [
             0.6,
             "#e6f5d0"
            ],
            [
             0.7,
             "#b8e186"
            ],
            [
             0.8,
             "#7fbc41"
            ],
            [
             0.9,
             "#4d9221"
            ],
            [
             1,
             "#276419"
            ]
           ],
           "sequential": [
            [
             0,
             "#0d0887"
            ],
            [
             0.1111111111111111,
             "#46039f"
            ],
            [
             0.2222222222222222,
             "#7201a8"
            ],
            [
             0.3333333333333333,
             "#9c179e"
            ],
            [
             0.4444444444444444,
             "#bd3786"
            ],
            [
             0.5555555555555556,
             "#d8576b"
            ],
            [
             0.6666666666666666,
             "#ed7953"
            ],
            [
             0.7777777777777778,
             "#fb9f3a"
            ],
            [
             0.8888888888888888,
             "#fdca26"
            ],
            [
             1,
             "#f0f921"
            ]
           ],
           "sequentialminus": [
            [
             0,
             "#0d0887"
            ],
            [
             0.1111111111111111,
             "#46039f"
            ],
            [
             0.2222222222222222,
             "#7201a8"
            ],
            [
             0.3333333333333333,
             "#9c179e"
            ],
            [
             0.4444444444444444,
             "#bd3786"
            ],
            [
             0.5555555555555556,
             "#d8576b"
            ],
            [
             0.6666666666666666,
             "#ed7953"
            ],
            [
             0.7777777777777778,
             "#fb9f3a"
            ],
            [
             0.8888888888888888,
             "#fdca26"
            ],
            [
             1,
             "#f0f921"
            ]
           ]
          },
          "colorway": [
           "#636efa",
           "#EF553B",
           "#00cc96",
           "#ab63fa",
           "#FFA15A",
           "#19d3f3",
           "#FF6692",
           "#B6E880",
           "#FF97FF",
           "#FECB52"
          ],
          "font": {
           "color": "#2a3f5f"
          },
          "geo": {
           "bgcolor": "white",
           "lakecolor": "white",
           "landcolor": "white",
           "showlakes": true,
           "showland": true,
           "subunitcolor": "#C8D4E3"
          },
          "hoverlabel": {
           "align": "left"
          },
          "hovermode": "closest",
          "mapbox": {
           "style": "light"
          },
          "paper_bgcolor": "white",
          "plot_bgcolor": "white",
          "polar": {
           "angularaxis": {
            "gridcolor": "#EBF0F8",
            "linecolor": "#EBF0F8",
            "ticks": ""
           },
           "bgcolor": "white",
           "radialaxis": {
            "gridcolor": "#EBF0F8",
            "linecolor": "#EBF0F8",
            "ticks": ""
           }
          },
          "scene": {
           "xaxis": {
            "backgroundcolor": "white",
            "gridcolor": "#DFE8F3",
            "gridwidth": 2,
            "linecolor": "#EBF0F8",
            "showbackground": true,
            "ticks": "",
            "zerolinecolor": "#EBF0F8"
           },
           "yaxis": {
            "backgroundcolor": "white",
            "gridcolor": "#DFE8F3",
            "gridwidth": 2,
            "linecolor": "#EBF0F8",
            "showbackground": true,
            "ticks": "",
            "zerolinecolor": "#EBF0F8"
           },
           "zaxis": {
            "backgroundcolor": "white",
            "gridcolor": "#DFE8F3",
            "gridwidth": 2,
            "linecolor": "#EBF0F8",
            "showbackground": true,
            "ticks": "",
            "zerolinecolor": "#EBF0F8"
           }
          },
          "shapedefaults": {
           "line": {
            "color": "#2a3f5f"
           }
          },
          "ternary": {
           "aaxis": {
            "gridcolor": "#DFE8F3",
            "linecolor": "#A2B1C6",
            "ticks": ""
           },
           "baxis": {
            "gridcolor": "#DFE8F3",
            "linecolor": "#A2B1C6",
            "ticks": ""
           },
           "bgcolor": "white",
           "caxis": {
            "gridcolor": "#DFE8F3",
            "linecolor": "#A2B1C6",
            "ticks": ""
           }
          },
          "title": {
           "x": 0.05
          },
          "xaxis": {
           "automargin": true,
           "gridcolor": "#EBF0F8",
           "linecolor": "#EBF0F8",
           "ticks": "",
           "title": {
            "standoff": 15
           },
           "zerolinecolor": "#EBF0F8",
           "zerolinewidth": 2
          },
          "yaxis": {
           "automargin": true,
           "gridcolor": "#EBF0F8",
           "linecolor": "#EBF0F8",
           "ticks": "",
           "title": {
            "standoff": 15
           },
           "zerolinecolor": "#EBF0F8",
           "zerolinewidth": 2
          }
         }
        },
        "title": {
         "text": "Reach From different Sources"
        }
       }
      }
     },
     "metadata": {},
     "output_type": "display_data"
    }
   ],
   "source": [
    "#look at the distribution of reach from different sources\n",
    "reach_sources = ['From Home','From Hashtags','From Explore', 'From Other']\n",
    "reach_count = [data[source].sum() for source in reach_sources] #This line calculates the total reach count for each source specified in the reach_sources\n",
    "\n",
    "colors = ['#FFB6C1', '#87CEFA', '#90EE90', '#FFDAB9']\n",
    "\n",
    "fig = px.pie(data_frame=data, names=reach_sources, values=reach_count,\n",
    "             title='Reach From different Sources', color_discrete_sequence=colors)\n",
    "\n",
    "fig.show()"
   ]
  },
  {
   "cell_type": "code",
   "execution_count": 14,
   "metadata": {},
   "outputs": [
    {
     "data": {
      "application/vnd.plotly.v1+json": {
       "config": {
        "plotlyServerURL": "https://plot.ly"
       },
       "data": [
        {
         "domain": {
          "x": [
           0,
           1
          ],
          "y": [
           0,
           1
          ]
         },
         "hovertemplate": "label=%{label}<br>value=%{value}<extra></extra>",
         "labels": [
          "Saves",
          "Comments",
          "Shares",
          "Likes"
         ],
         "legendgroup": "",
         "name": "",
         "showlegend": true,
         "type": "pie",
         "values": [
          18244,
          793,
          1114,
          20680
         ]
        }
       ],
       "layout": {
        "legend": {
         "tracegroupgap": 0
        },
        "piecolorway": [
         "#00295b",
         "#205ada",
         "#5d63bf",
         "#0f01e5"
        ],
        "template": {
         "data": {
          "bar": [
           {
            "error_x": {
             "color": "#2a3f5f"
            },
            "error_y": {
             "color": "#2a3f5f"
            },
            "marker": {
             "line": {
              "color": "white",
              "width": 0.5
             },
             "pattern": {
              "fillmode": "overlay",
              "size": 10,
              "solidity": 0.2
             }
            },
            "type": "bar"
           }
          ],
          "barpolar": [
           {
            "marker": {
             "line": {
              "color": "white",
              "width": 0.5
             },
             "pattern": {
              "fillmode": "overlay",
              "size": 10,
              "solidity": 0.2
             }
            },
            "type": "barpolar"
           }
          ],
          "carpet": [
           {
            "aaxis": {
             "endlinecolor": "#2a3f5f",
             "gridcolor": "#C8D4E3",
             "linecolor": "#C8D4E3",
             "minorgridcolor": "#C8D4E3",
             "startlinecolor": "#2a3f5f"
            },
            "baxis": {
             "endlinecolor": "#2a3f5f",
             "gridcolor": "#C8D4E3",
             "linecolor": "#C8D4E3",
             "minorgridcolor": "#C8D4E3",
             "startlinecolor": "#2a3f5f"
            },
            "type": "carpet"
           }
          ],
          "choropleth": [
           {
            "colorbar": {
             "outlinewidth": 0,
             "ticks": ""
            },
            "type": "choropleth"
           }
          ],
          "contour": [
           {
            "colorbar": {
             "outlinewidth": 0,
             "ticks": ""
            },
            "colorscale": [
             [
              0,
              "#0d0887"
             ],
             [
              0.1111111111111111,
              "#46039f"
             ],
             [
              0.2222222222222222,
              "#7201a8"
             ],
             [
              0.3333333333333333,
              "#9c179e"
             ],
             [
              0.4444444444444444,
              "#bd3786"
             ],
             [
              0.5555555555555556,
              "#d8576b"
             ],
             [
              0.6666666666666666,
              "#ed7953"
             ],
             [
              0.7777777777777778,
              "#fb9f3a"
             ],
             [
              0.8888888888888888,
              "#fdca26"
             ],
             [
              1,
              "#f0f921"
             ]
            ],
            "type": "contour"
           }
          ],
          "contourcarpet": [
           {
            "colorbar": {
             "outlinewidth": 0,
             "ticks": ""
            },
            "type": "contourcarpet"
           }
          ],
          "heatmap": [
           {
            "colorbar": {
             "outlinewidth": 0,
             "ticks": ""
            },
            "colorscale": [
             [
              0,
              "#0d0887"
             ],
             [
              0.1111111111111111,
              "#46039f"
             ],
             [
              0.2222222222222222,
              "#7201a8"
             ],
             [
              0.3333333333333333,
              "#9c179e"
             ],
             [
              0.4444444444444444,
              "#bd3786"
             ],
             [
              0.5555555555555556,
              "#d8576b"
             ],
             [
              0.6666666666666666,
              "#ed7953"
             ],
             [
              0.7777777777777778,
              "#fb9f3a"
             ],
             [
              0.8888888888888888,
              "#fdca26"
             ],
             [
              1,
              "#f0f921"
             ]
            ],
            "type": "heatmap"
           }
          ],
          "heatmapgl": [
           {
            "colorbar": {
             "outlinewidth": 0,
             "ticks": ""
            },
            "colorscale": [
             [
              0,
              "#0d0887"
             ],
             [
              0.1111111111111111,
              "#46039f"
             ],
             [
              0.2222222222222222,
              "#7201a8"
             ],
             [
              0.3333333333333333,
              "#9c179e"
             ],
             [
              0.4444444444444444,
              "#bd3786"
             ],
             [
              0.5555555555555556,
              "#d8576b"
             ],
             [
              0.6666666666666666,
              "#ed7953"
             ],
             [
              0.7777777777777778,
              "#fb9f3a"
             ],
             [
              0.8888888888888888,
              "#fdca26"
             ],
             [
              1,
              "#f0f921"
             ]
            ],
            "type": "heatmapgl"
           }
          ],
          "histogram": [
           {
            "marker": {
             "pattern": {
              "fillmode": "overlay",
              "size": 10,
              "solidity": 0.2
             }
            },
            "type": "histogram"
           }
          ],
          "histogram2d": [
           {
            "colorbar": {
             "outlinewidth": 0,
             "ticks": ""
            },
            "colorscale": [
             [
              0,
              "#0d0887"
             ],
             [
              0.1111111111111111,
              "#46039f"
             ],
             [
              0.2222222222222222,
              "#7201a8"
             ],
             [
              0.3333333333333333,
              "#9c179e"
             ],
             [
              0.4444444444444444,
              "#bd3786"
             ],
             [
              0.5555555555555556,
              "#d8576b"
             ],
             [
              0.6666666666666666,
              "#ed7953"
             ],
             [
              0.7777777777777778,
              "#fb9f3a"
             ],
             [
              0.8888888888888888,
              "#fdca26"
             ],
             [
              1,
              "#f0f921"
             ]
            ],
            "type": "histogram2d"
           }
          ],
          "histogram2dcontour": [
           {
            "colorbar": {
             "outlinewidth": 0,
             "ticks": ""
            },
            "colorscale": [
             [
              0,
              "#0d0887"
             ],
             [
              0.1111111111111111,
              "#46039f"
             ],
             [
              0.2222222222222222,
              "#7201a8"
             ],
             [
              0.3333333333333333,
              "#9c179e"
             ],
             [
              0.4444444444444444,
              "#bd3786"
             ],
             [
              0.5555555555555556,
              "#d8576b"
             ],
             [
              0.6666666666666666,
              "#ed7953"
             ],
             [
              0.7777777777777778,
              "#fb9f3a"
             ],
             [
              0.8888888888888888,
              "#fdca26"
             ],
             [
              1,
              "#f0f921"
             ]
            ],
            "type": "histogram2dcontour"
           }
          ],
          "mesh3d": [
           {
            "colorbar": {
             "outlinewidth": 0,
             "ticks": ""
            },
            "type": "mesh3d"
           }
          ],
          "parcoords": [
           {
            "line": {
             "colorbar": {
              "outlinewidth": 0,
              "ticks": ""
             }
            },
            "type": "parcoords"
           }
          ],
          "pie": [
           {
            "automargin": true,
            "type": "pie"
           }
          ],
          "scatter": [
           {
            "marker": {
             "colorbar": {
              "outlinewidth": 0,
              "ticks": ""
             }
            },
            "type": "scatter"
           }
          ],
          "scatter3d": [
           {
            "line": {
             "colorbar": {
              "outlinewidth": 0,
              "ticks": ""
             }
            },
            "marker": {
             "colorbar": {
              "outlinewidth": 0,
              "ticks": ""
             }
            },
            "type": "scatter3d"
           }
          ],
          "scattercarpet": [
           {
            "marker": {
             "colorbar": {
              "outlinewidth": 0,
              "ticks": ""
             }
            },
            "type": "scattercarpet"
           }
          ],
          "scattergeo": [
           {
            "marker": {
             "colorbar": {
              "outlinewidth": 0,
              "ticks": ""
             }
            },
            "type": "scattergeo"
           }
          ],
          "scattergl": [
           {
            "marker": {
             "colorbar": {
              "outlinewidth": 0,
              "ticks": ""
             }
            },
            "type": "scattergl"
           }
          ],
          "scattermapbox": [
           {
            "marker": {
             "colorbar": {
              "outlinewidth": 0,
              "ticks": ""
             }
            },
            "type": "scattermapbox"
           }
          ],
          "scatterpolar": [
           {
            "marker": {
             "colorbar": {
              "outlinewidth": 0,
              "ticks": ""
             }
            },
            "type": "scatterpolar"
           }
          ],
          "scatterpolargl": [
           {
            "marker": {
             "colorbar": {
              "outlinewidth": 0,
              "ticks": ""
             }
            },
            "type": "scatterpolargl"
           }
          ],
          "scatterternary": [
           {
            "marker": {
             "colorbar": {
              "outlinewidth": 0,
              "ticks": ""
             }
            },
            "type": "scatterternary"
           }
          ],
          "surface": [
           {
            "colorbar": {
             "outlinewidth": 0,
             "ticks": ""
            },
            "colorscale": [
             [
              0,
              "#0d0887"
             ],
             [
              0.1111111111111111,
              "#46039f"
             ],
             [
              0.2222222222222222,
              "#7201a8"
             ],
             [
              0.3333333333333333,
              "#9c179e"
             ],
             [
              0.4444444444444444,
              "#bd3786"
             ],
             [
              0.5555555555555556,
              "#d8576b"
             ],
             [
              0.6666666666666666,
              "#ed7953"
             ],
             [
              0.7777777777777778,
              "#fb9f3a"
             ],
             [
              0.8888888888888888,
              "#fdca26"
             ],
             [
              1,
              "#f0f921"
             ]
            ],
            "type": "surface"
           }
          ],
          "table": [
           {
            "cells": {
             "fill": {
              "color": "#EBF0F8"
             },
             "line": {
              "color": "white"
             }
            },
            "header": {
             "fill": {
              "color": "#C8D4E3"
             },
             "line": {
              "color": "white"
             }
            },
            "type": "table"
           }
          ]
         },
         "layout": {
          "annotationdefaults": {
           "arrowcolor": "#2a3f5f",
           "arrowhead": 0,
           "arrowwidth": 1
          },
          "autotypenumbers": "strict",
          "coloraxis": {
           "colorbar": {
            "outlinewidth": 0,
            "ticks": ""
           }
          },
          "colorscale": {
           "diverging": [
            [
             0,
             "#8e0152"
            ],
            [
             0.1,
             "#c51b7d"
            ],
            [
             0.2,
             "#de77ae"
            ],
            [
             0.3,
             "#f1b6da"
            ],
            [
             0.4,
             "#fde0ef"
            ],
            [
             0.5,
             "#f7f7f7"
            ],
            [
             0.6,
             "#e6f5d0"
            ],
            [
             0.7,
             "#b8e186"
            ],
            [
             0.8,
             "#7fbc41"
            ],
            [
             0.9,
             "#4d9221"
            ],
            [
             1,
             "#276419"
            ]
           ],
           "sequential": [
            [
             0,
             "#0d0887"
            ],
            [
             0.1111111111111111,
             "#46039f"
            ],
            [
             0.2222222222222222,
             "#7201a8"
            ],
            [
             0.3333333333333333,
             "#9c179e"
            ],
            [
             0.4444444444444444,
             "#bd3786"
            ],
            [
             0.5555555555555556,
             "#d8576b"
            ],
            [
             0.6666666666666666,
             "#ed7953"
            ],
            [
             0.7777777777777778,
             "#fb9f3a"
            ],
            [
             0.8888888888888888,
             "#fdca26"
            ],
            [
             1,
             "#f0f921"
            ]
           ],
           "sequentialminus": [
            [
             0,
             "#0d0887"
            ],
            [
             0.1111111111111111,
             "#46039f"
            ],
            [
             0.2222222222222222,
             "#7201a8"
            ],
            [
             0.3333333333333333,
             "#9c179e"
            ],
            [
             0.4444444444444444,
             "#bd3786"
            ],
            [
             0.5555555555555556,
             "#d8576b"
            ],
            [
             0.6666666666666666,
             "#ed7953"
            ],
            [
             0.7777777777777778,
             "#fb9f3a"
            ],
            [
             0.8888888888888888,
             "#fdca26"
            ],
            [
             1,
             "#f0f921"
            ]
           ]
          },
          "colorway": [
           "#636efa",
           "#EF553B",
           "#00cc96",
           "#ab63fa",
           "#FFA15A",
           "#19d3f3",
           "#FF6692",
           "#B6E880",
           "#FF97FF",
           "#FECB52"
          ],
          "font": {
           "color": "#2a3f5f"
          },
          "geo": {
           "bgcolor": "white",
           "lakecolor": "white",
           "landcolor": "white",
           "showlakes": true,
           "showland": true,
           "subunitcolor": "#C8D4E3"
          },
          "hoverlabel": {
           "align": "left"
          },
          "hovermode": "closest",
          "mapbox": {
           "style": "light"
          },
          "paper_bgcolor": "white",
          "plot_bgcolor": "white",
          "polar": {
           "angularaxis": {
            "gridcolor": "#EBF0F8",
            "linecolor": "#EBF0F8",
            "ticks": ""
           },
           "bgcolor": "white",
           "radialaxis": {
            "gridcolor": "#EBF0F8",
            "linecolor": "#EBF0F8",
            "ticks": ""
           }
          },
          "scene": {
           "xaxis": {
            "backgroundcolor": "white",
            "gridcolor": "#DFE8F3",
            "gridwidth": 2,
            "linecolor": "#EBF0F8",
            "showbackground": true,
            "ticks": "",
            "zerolinecolor": "#EBF0F8"
           },
           "yaxis": {
            "backgroundcolor": "white",
            "gridcolor": "#DFE8F3",
            "gridwidth": 2,
            "linecolor": "#EBF0F8",
            "showbackground": true,
            "ticks": "",
            "zerolinecolor": "#EBF0F8"
           },
           "zaxis": {
            "backgroundcolor": "white",
            "gridcolor": "#DFE8F3",
            "gridwidth": 2,
            "linecolor": "#EBF0F8",
            "showbackground": true,
            "ticks": "",
            "zerolinecolor": "#EBF0F8"
           }
          },
          "shapedefaults": {
           "line": {
            "color": "#2a3f5f"
           }
          },
          "ternary": {
           "aaxis": {
            "gridcolor": "#DFE8F3",
            "linecolor": "#A2B1C6",
            "ticks": ""
           },
           "baxis": {
            "gridcolor": "#DFE8F3",
            "linecolor": "#A2B1C6",
            "ticks": ""
           },
           "bgcolor": "white",
           "caxis": {
            "gridcolor": "#DFE8F3",
            "linecolor": "#A2B1C6",
            "ticks": ""
           }
          },
          "title": {
           "x": 0.05
          },
          "xaxis": {
           "automargin": true,
           "gridcolor": "#EBF0F8",
           "linecolor": "#EBF0F8",
           "ticks": "",
           "title": {
            "standoff": 15
           },
           "zerolinecolor": "#EBF0F8",
           "zerolinewidth": 2
          },
          "yaxis": {
           "automargin": true,
           "gridcolor": "#EBF0F8",
           "linecolor": "#EBF0F8",
           "ticks": "",
           "title": {
            "standoff": 15
           },
           "zerolinecolor": "#EBF0F8",
           "zerolinewidth": 2
          }
         }
        },
        "title": {
         "text": "Engagement Sources"
        }
       }
      }
     },
     "metadata": {},
     "output_type": "display_data"
    }
   ],
   "source": [
    "import random\n",
    "\n",
    "#have a look at the distribution of engagement sources\n",
    "engagement_metrics = ['Saves','Comments','Shares','Likes']\n",
    "engagement_count = [data[metric].sum() for metric in engagement_metrics]\n",
    "\n",
    "# Generate random color codes for each data source\n",
    "def generate_random_color():\n",
    "    return \"#{:02x}{:02x}{:02x}\".format(random.randint(0,100), random.randint(0, 219), random.randint(0, 255))\n",
    "\n",
    "colors = [generate_random_color() for _ in reach_sources]\n",
    "\n",
    "fig = px.pie(data_frame=data, names=engagement_metrics, values=engagement_count, title='Engagement Sources', color_discrete_sequence=colors)\n",
    "\n",
    "fig.show()"
   ]
  },
  {
   "cell_type": "code",
   "execution_count": 15,
   "metadata": {},
   "outputs": [
    {
     "data": {
      "application/vnd.plotly.v1+json": {
       "config": {
        "plotlyServerURL": "https://plot.ly"
       },
       "data": [
        {
         "hovertemplate": "Profile Visits=%{x}<br>Follows=%{y}<extra></extra>",
         "legendgroup": "",
         "marker": {
          "color": "#636efa",
          "symbol": "circle"
         },
         "mode": "markers",
         "name": "",
         "orientation": "v",
         "showlegend": false,
         "type": "scatter",
         "x": [
          35,
          48,
          62,
          23,
          8,
          9,
          26,
          12,
          36,
          31,
          29,
          15,
          8,
          20,
          181,
          17,
          16,
          21,
          77,
          10,
          9,
          11,
          144,
          14,
          10,
          19,
          69,
          11,
          19,
          9,
          57,
          13,
          11,
          24,
          81,
          4,
          7,
          14,
          18,
          8,
          330,
          21,
          19,
          32,
          19,
          21,
          14,
          30,
          39,
          42,
          31,
          20,
          12,
          22,
          306,
          13,
          26,
          16,
          15,
          15,
          39,
          21,
          8,
          45,
          50,
          37,
          25,
          347,
          26,
          48,
          16,
          26,
          17,
          52,
          22,
          41,
          155,
          12,
          22,
          20,
          23,
          25,
          17,
          16,
          21,
          77,
          10,
          14,
          30,
          39,
          42,
          31,
          14,
          10,
          19,
          69,
          11,
          19,
          9,
          38,
          42,
          92,
          75,
          21,
          26,
          39,
          74,
          467,
          24,
          70,
          22,
          46,
          61,
          237,
          73,
          20,
          34,
          148,
          611
         ],
         "xaxis": "x",
         "y": [
          2,
          10,
          12,
          8,
          0,
          2,
          0,
          6,
          4,
          6,
          4,
          0,
          2,
          4,
          42,
          6,
          2,
          2,
          30,
          0,
          0,
          24,
          100,
          2,
          4,
          6,
          6,
          6,
          2,
          2,
          20,
          2,
          4,
          8,
          26,
          2,
          2,
          4,
          0,
          2,
          94,
          8,
          18,
          10,
          4,
          4,
          4,
          4,
          18,
          38,
          10,
          12,
          4,
          4,
          74,
          0,
          6,
          6,
          0,
          6,
          12,
          10,
          8,
          8,
          46,
          12,
          10,
          94,
          6,
          10,
          6,
          4,
          12,
          16,
          12,
          8,
          32,
          8,
          16,
          6,
          10,
          10,
          6,
          2,
          2,
          30,
          0,
          4,
          4,
          18,
          38,
          10,
          2,
          4,
          6,
          6,
          6,
          2,
          2,
          14,
          8,
          14,
          28,
          18,
          12,
          34,
          26,
          260,
          16,
          96,
          20,
          30,
          58,
          100,
          80,
          18,
          10,
          214,
          228
         ],
         "yaxis": "y"
        },
        {
         "hovertemplate": "<b>OLS trendline</b><br>Follows = 0.400884 * Profile Visits + 0.46283<br>R<sup>2</sup>=0.727868<br><br>Profile Visits=%{x}<br>Follows=%{y} <b>(trend)</b><extra></extra>",
         "legendgroup": "",
         "marker": {
          "color": "#636efa",
          "symbol": "circle"
         },
         "mode": "lines",
         "name": "",
         "showlegend": false,
         "type": "scatter",
         "x": [
          4,
          7,
          8,
          8,
          8,
          8,
          9,
          9,
          9,
          9,
          10,
          10,
          10,
          10,
          11,
          11,
          11,
          11,
          12,
          12,
          12,
          13,
          13,
          14,
          14,
          14,
          14,
          14,
          15,
          15,
          15,
          16,
          16,
          16,
          16,
          17,
          17,
          17,
          18,
          19,
          19,
          19,
          19,
          19,
          19,
          20,
          20,
          20,
          20,
          21,
          21,
          21,
          21,
          21,
          21,
          22,
          22,
          22,
          22,
          23,
          23,
          24,
          24,
          25,
          25,
          26,
          26,
          26,
          26,
          26,
          29,
          30,
          30,
          31,
          31,
          31,
          32,
          34,
          35,
          36,
          37,
          38,
          39,
          39,
          39,
          39,
          41,
          42,
          42,
          42,
          45,
          46,
          48,
          48,
          50,
          52,
          57,
          61,
          62,
          69,
          69,
          70,
          73,
          74,
          75,
          77,
          77,
          81,
          92,
          144,
          148,
          155,
          181,
          237,
          306,
          330,
          347,
          467,
          611
         ],
         "xaxis": "x",
         "y": [
          2.066365070422533,
          3.269016056338026,
          3.669899718309857,
          3.669899718309857,
          3.669899718309857,
          3.669899718309857,
          4.0707833802816875,
          4.0707833802816875,
          4.0707833802816875,
          4.0707833802816875,
          4.471667042253519,
          4.471667042253519,
          4.471667042253519,
          4.471667042253519,
          4.87255070422535,
          4.87255070422535,
          4.87255070422535,
          4.87255070422535,
          5.273434366197181,
          5.273434366197181,
          5.273434366197181,
          5.6743180281690115,
          5.6743180281690115,
          6.075201690140843,
          6.075201690140843,
          6.075201690140843,
          6.075201690140843,
          6.075201690140843,
          6.476085352112674,
          6.476085352112674,
          6.476085352112674,
          6.876969014084505,
          6.876969014084505,
          6.876969014084505,
          6.876969014084505,
          7.277852676056336,
          7.277852676056336,
          7.277852676056336,
          7.678736338028167,
          8.079619999999998,
          8.079619999999998,
          8.079619999999998,
          8.079619999999998,
          8.079619999999998,
          8.079619999999998,
          8.480503661971829,
          8.480503661971829,
          8.480503661971829,
          8.480503661971829,
          8.88138732394366,
          8.88138732394366,
          8.88138732394366,
          8.88138732394366,
          8.88138732394366,
          8.88138732394366,
          9.282270985915492,
          9.282270985915492,
          9.282270985915492,
          9.282270985915492,
          9.683154647887322,
          9.683154647887322,
          10.084038309859153,
          10.084038309859153,
          10.484921971830984,
          10.484921971830984,
          10.885805633802814,
          10.885805633802814,
          10.885805633802814,
          10.885805633802814,
          10.885805633802814,
          12.088456619718308,
          12.48934028169014,
          12.48934028169014,
          12.89022394366197,
          12.89022394366197,
          12.89022394366197,
          13.291107605633801,
          14.092874929577462,
          14.493758591549295,
          14.894642253521125,
          15.295525915492956,
          15.696409577464788,
          16.097293239436617,
          16.097293239436617,
          16.097293239436617,
          16.097293239436617,
          16.89906056338028,
          17.29994422535211,
          17.29994422535211,
          17.29994422535211,
          18.502595211267604,
          18.903478873239436,
          19.705246197183097,
          19.705246197183097,
          20.50701352112676,
          21.30878084507042,
          23.313199154929578,
          24.9167338028169,
          25.317617464788732,
          28.123803098591548,
          28.123803098591548,
          28.52468676056338,
          29.727337746478874,
          30.128221408450703,
          30.529105070422535,
          31.330872394366196,
          31.330872394366196,
          32.934407042253525,
          37.34412732394367,
          58.19007774647888,
          59.79361239436619,
          62.59979802816902,
          73.02277323943662,
          95.47225830985916,
          123.13323098591549,
          132.75443887323945,
          139.56946112676056,
          187.6755005633803,
          245.40274788732395
         ],
         "yaxis": "y"
        }
       ],
       "layout": {
        "legend": {
         "tracegroupgap": 0
        },
        "template": {
         "data": {
          "bar": [
           {
            "error_x": {
             "color": "#2a3f5f"
            },
            "error_y": {
             "color": "#2a3f5f"
            },
            "marker": {
             "line": {
              "color": "white",
              "width": 0.5
             },
             "pattern": {
              "fillmode": "overlay",
              "size": 10,
              "solidity": 0.2
             }
            },
            "type": "bar"
           }
          ],
          "barpolar": [
           {
            "marker": {
             "line": {
              "color": "white",
              "width": 0.5
             },
             "pattern": {
              "fillmode": "overlay",
              "size": 10,
              "solidity": 0.2
             }
            },
            "type": "barpolar"
           }
          ],
          "carpet": [
           {
            "aaxis": {
             "endlinecolor": "#2a3f5f",
             "gridcolor": "#C8D4E3",
             "linecolor": "#C8D4E3",
             "minorgridcolor": "#C8D4E3",
             "startlinecolor": "#2a3f5f"
            },
            "baxis": {
             "endlinecolor": "#2a3f5f",
             "gridcolor": "#C8D4E3",
             "linecolor": "#C8D4E3",
             "minorgridcolor": "#C8D4E3",
             "startlinecolor": "#2a3f5f"
            },
            "type": "carpet"
           }
          ],
          "choropleth": [
           {
            "colorbar": {
             "outlinewidth": 0,
             "ticks": ""
            },
            "type": "choropleth"
           }
          ],
          "contour": [
           {
            "colorbar": {
             "outlinewidth": 0,
             "ticks": ""
            },
            "colorscale": [
             [
              0,
              "#0d0887"
             ],
             [
              0.1111111111111111,
              "#46039f"
             ],
             [
              0.2222222222222222,
              "#7201a8"
             ],
             [
              0.3333333333333333,
              "#9c179e"
             ],
             [
              0.4444444444444444,
              "#bd3786"
             ],
             [
              0.5555555555555556,
              "#d8576b"
             ],
             [
              0.6666666666666666,
              "#ed7953"
             ],
             [
              0.7777777777777778,
              "#fb9f3a"
             ],
             [
              0.8888888888888888,
              "#fdca26"
             ],
             [
              1,
              "#f0f921"
             ]
            ],
            "type": "contour"
           }
          ],
          "contourcarpet": [
           {
            "colorbar": {
             "outlinewidth": 0,
             "ticks": ""
            },
            "type": "contourcarpet"
           }
          ],
          "heatmap": [
           {
            "colorbar": {
             "outlinewidth": 0,
             "ticks": ""
            },
            "colorscale": [
             [
              0,
              "#0d0887"
             ],
             [
              0.1111111111111111,
              "#46039f"
             ],
             [
              0.2222222222222222,
              "#7201a8"
             ],
             [
              0.3333333333333333,
              "#9c179e"
             ],
             [
              0.4444444444444444,
              "#bd3786"
             ],
             [
              0.5555555555555556,
              "#d8576b"
             ],
             [
              0.6666666666666666,
              "#ed7953"
             ],
             [
              0.7777777777777778,
              "#fb9f3a"
             ],
             [
              0.8888888888888888,
              "#fdca26"
             ],
             [
              1,
              "#f0f921"
             ]
            ],
            "type": "heatmap"
           }
          ],
          "heatmapgl": [
           {
            "colorbar": {
             "outlinewidth": 0,
             "ticks": ""
            },
            "colorscale": [
             [
              0,
              "#0d0887"
             ],
             [
              0.1111111111111111,
              "#46039f"
             ],
             [
              0.2222222222222222,
              "#7201a8"
             ],
             [
              0.3333333333333333,
              "#9c179e"
             ],
             [
              0.4444444444444444,
              "#bd3786"
             ],
             [
              0.5555555555555556,
              "#d8576b"
             ],
             [
              0.6666666666666666,
              "#ed7953"
             ],
             [
              0.7777777777777778,
              "#fb9f3a"
             ],
             [
              0.8888888888888888,
              "#fdca26"
             ],
             [
              1,
              "#f0f921"
             ]
            ],
            "type": "heatmapgl"
           }
          ],
          "histogram": [
           {
            "marker": {
             "pattern": {
              "fillmode": "overlay",
              "size": 10,
              "solidity": 0.2
             }
            },
            "type": "histogram"
           }
          ],
          "histogram2d": [
           {
            "colorbar": {
             "outlinewidth": 0,
             "ticks": ""
            },
            "colorscale": [
             [
              0,
              "#0d0887"
             ],
             [
              0.1111111111111111,
              "#46039f"
             ],
             [
              0.2222222222222222,
              "#7201a8"
             ],
             [
              0.3333333333333333,
              "#9c179e"
             ],
             [
              0.4444444444444444,
              "#bd3786"
             ],
             [
              0.5555555555555556,
              "#d8576b"
             ],
             [
              0.6666666666666666,
              "#ed7953"
             ],
             [
              0.7777777777777778,
              "#fb9f3a"
             ],
             [
              0.8888888888888888,
              "#fdca26"
             ],
             [
              1,
              "#f0f921"
             ]
            ],
            "type": "histogram2d"
           }
          ],
          "histogram2dcontour": [
           {
            "colorbar": {
             "outlinewidth": 0,
             "ticks": ""
            },
            "colorscale": [
             [
              0,
              "#0d0887"
             ],
             [
              0.1111111111111111,
              "#46039f"
             ],
             [
              0.2222222222222222,
              "#7201a8"
             ],
             [
              0.3333333333333333,
              "#9c179e"
             ],
             [
              0.4444444444444444,
              "#bd3786"
             ],
             [
              0.5555555555555556,
              "#d8576b"
             ],
             [
              0.6666666666666666,
              "#ed7953"
             ],
             [
              0.7777777777777778,
              "#fb9f3a"
             ],
             [
              0.8888888888888888,
              "#fdca26"
             ],
             [
              1,
              "#f0f921"
             ]
            ],
            "type": "histogram2dcontour"
           }
          ],
          "mesh3d": [
           {
            "colorbar": {
             "outlinewidth": 0,
             "ticks": ""
            },
            "type": "mesh3d"
           }
          ],
          "parcoords": [
           {
            "line": {
             "colorbar": {
              "outlinewidth": 0,
              "ticks": ""
             }
            },
            "type": "parcoords"
           }
          ],
          "pie": [
           {
            "automargin": true,
            "type": "pie"
           }
          ],
          "scatter": [
           {
            "marker": {
             "colorbar": {
              "outlinewidth": 0,
              "ticks": ""
             }
            },
            "type": "scatter"
           }
          ],
          "scatter3d": [
           {
            "line": {
             "colorbar": {
              "outlinewidth": 0,
              "ticks": ""
             }
            },
            "marker": {
             "colorbar": {
              "outlinewidth": 0,
              "ticks": ""
             }
            },
            "type": "scatter3d"
           }
          ],
          "scattercarpet": [
           {
            "marker": {
             "colorbar": {
              "outlinewidth": 0,
              "ticks": ""
             }
            },
            "type": "scattercarpet"
           }
          ],
          "scattergeo": [
           {
            "marker": {
             "colorbar": {
              "outlinewidth": 0,
              "ticks": ""
             }
            },
            "type": "scattergeo"
           }
          ],
          "scattergl": [
           {
            "marker": {
             "colorbar": {
              "outlinewidth": 0,
              "ticks": ""
             }
            },
            "type": "scattergl"
           }
          ],
          "scattermapbox": [
           {
            "marker": {
             "colorbar": {
              "outlinewidth": 0,
              "ticks": ""
             }
            },
            "type": "scattermapbox"
           }
          ],
          "scatterpolar": [
           {
            "marker": {
             "colorbar": {
              "outlinewidth": 0,
              "ticks": ""
             }
            },
            "type": "scatterpolar"
           }
          ],
          "scatterpolargl": [
           {
            "marker": {
             "colorbar": {
              "outlinewidth": 0,
              "ticks": ""
             }
            },
            "type": "scatterpolargl"
           }
          ],
          "scatterternary": [
           {
            "marker": {
             "colorbar": {
              "outlinewidth": 0,
              "ticks": ""
             }
            },
            "type": "scatterternary"
           }
          ],
          "surface": [
           {
            "colorbar": {
             "outlinewidth": 0,
             "ticks": ""
            },
            "colorscale": [
             [
              0,
              "#0d0887"
             ],
             [
              0.1111111111111111,
              "#46039f"
             ],
             [
              0.2222222222222222,
              "#7201a8"
             ],
             [
              0.3333333333333333,
              "#9c179e"
             ],
             [
              0.4444444444444444,
              "#bd3786"
             ],
             [
              0.5555555555555556,
              "#d8576b"
             ],
             [
              0.6666666666666666,
              "#ed7953"
             ],
             [
              0.7777777777777778,
              "#fb9f3a"
             ],
             [
              0.8888888888888888,
              "#fdca26"
             ],
             [
              1,
              "#f0f921"
             ]
            ],
            "type": "surface"
           }
          ],
          "table": [
           {
            "cells": {
             "fill": {
              "color": "#EBF0F8"
             },
             "line": {
              "color": "white"
             }
            },
            "header": {
             "fill": {
              "color": "#C8D4E3"
             },
             "line": {
              "color": "white"
             }
            },
            "type": "table"
           }
          ]
         },
         "layout": {
          "annotationdefaults": {
           "arrowcolor": "#2a3f5f",
           "arrowhead": 0,
           "arrowwidth": 1
          },
          "autotypenumbers": "strict",
          "coloraxis": {
           "colorbar": {
            "outlinewidth": 0,
            "ticks": ""
           }
          },
          "colorscale": {
           "diverging": [
            [
             0,
             "#8e0152"
            ],
            [
             0.1,
             "#c51b7d"
            ],
            [
             0.2,
             "#de77ae"
            ],
            [
             0.3,
             "#f1b6da"
            ],
            [
             0.4,
             "#fde0ef"
            ],
            [
             0.5,
             "#f7f7f7"
            ],
            [
             0.6,
             "#e6f5d0"
            ],
            [
             0.7,
             "#b8e186"
            ],
            [
             0.8,
             "#7fbc41"
            ],
            [
             0.9,
             "#4d9221"
            ],
            [
             1,
             "#276419"
            ]
           ],
           "sequential": [
            [
             0,
             "#0d0887"
            ],
            [
             0.1111111111111111,
             "#46039f"
            ],
            [
             0.2222222222222222,
             "#7201a8"
            ],
            [
             0.3333333333333333,
             "#9c179e"
            ],
            [
             0.4444444444444444,
             "#bd3786"
            ],
            [
             0.5555555555555556,
             "#d8576b"
            ],
            [
             0.6666666666666666,
             "#ed7953"
            ],
            [
             0.7777777777777778,
             "#fb9f3a"
            ],
            [
             0.8888888888888888,
             "#fdca26"
            ],
            [
             1,
             "#f0f921"
            ]
           ],
           "sequentialminus": [
            [
             0,
             "#0d0887"
            ],
            [
             0.1111111111111111,
             "#46039f"
            ],
            [
             0.2222222222222222,
             "#7201a8"
            ],
            [
             0.3333333333333333,
             "#9c179e"
            ],
            [
             0.4444444444444444,
             "#bd3786"
            ],
            [
             0.5555555555555556,
             "#d8576b"
            ],
            [
             0.6666666666666666,
             "#ed7953"
            ],
            [
             0.7777777777777778,
             "#fb9f3a"
            ],
            [
             0.8888888888888888,
             "#fdca26"
            ],
            [
             1,
             "#f0f921"
            ]
           ]
          },
          "colorway": [
           "#636efa",
           "#EF553B",
           "#00cc96",
           "#ab63fa",
           "#FFA15A",
           "#19d3f3",
           "#FF6692",
           "#B6E880",
           "#FF97FF",
           "#FECB52"
          ],
          "font": {
           "color": "#2a3f5f"
          },
          "geo": {
           "bgcolor": "white",
           "lakecolor": "white",
           "landcolor": "white",
           "showlakes": true,
           "showland": true,
           "subunitcolor": "#C8D4E3"
          },
          "hoverlabel": {
           "align": "left"
          },
          "hovermode": "closest",
          "mapbox": {
           "style": "light"
          },
          "paper_bgcolor": "white",
          "plot_bgcolor": "white",
          "polar": {
           "angularaxis": {
            "gridcolor": "#EBF0F8",
            "linecolor": "#EBF0F8",
            "ticks": ""
           },
           "bgcolor": "white",
           "radialaxis": {
            "gridcolor": "#EBF0F8",
            "linecolor": "#EBF0F8",
            "ticks": ""
           }
          },
          "scene": {
           "xaxis": {
            "backgroundcolor": "white",
            "gridcolor": "#DFE8F3",
            "gridwidth": 2,
            "linecolor": "#EBF0F8",
            "showbackground": true,
            "ticks": "",
            "zerolinecolor": "#EBF0F8"
           },
           "yaxis": {
            "backgroundcolor": "white",
            "gridcolor": "#DFE8F3",
            "gridwidth": 2,
            "linecolor": "#EBF0F8",
            "showbackground": true,
            "ticks": "",
            "zerolinecolor": "#EBF0F8"
           },
           "zaxis": {
            "backgroundcolor": "white",
            "gridcolor": "#DFE8F3",
            "gridwidth": 2,
            "linecolor": "#EBF0F8",
            "showbackground": true,
            "ticks": "",
            "zerolinecolor": "#EBF0F8"
           }
          },
          "shapedefaults": {
           "line": {
            "color": "#2a3f5f"
           }
          },
          "ternary": {
           "aaxis": {
            "gridcolor": "#DFE8F3",
            "linecolor": "#A2B1C6",
            "ticks": ""
           },
           "baxis": {
            "gridcolor": "#DFE8F3",
            "linecolor": "#A2B1C6",
            "ticks": ""
           },
           "bgcolor": "white",
           "caxis": {
            "gridcolor": "#DFE8F3",
            "linecolor": "#A2B1C6",
            "ticks": ""
           }
          },
          "title": {
           "x": 0.05
          },
          "xaxis": {
           "automargin": true,
           "gridcolor": "#EBF0F8",
           "linecolor": "#EBF0F8",
           "ticks": "",
           "title": {
            "standoff": 15
           },
           "zerolinecolor": "#EBF0F8",
           "zerolinewidth": 2
          },
          "yaxis": {
           "automargin": true,
           "gridcolor": "#EBF0F8",
           "linecolor": "#EBF0F8",
           "ticks": "",
           "title": {
            "standoff": 15
           },
           "zerolinecolor": "#EBF0F8",
           "zerolinewidth": 2
          }
         }
        },
        "title": {
         "text": "Profile Visits  vs Follows"
        },
        "xaxis": {
         "anchor": "y",
         "domain": [
          0,
          1
         ],
         "title": {
          "text": "Profile Visits"
         }
        },
        "yaxis": {
         "anchor": "x",
         "domain": [
          0,
          1
         ],
         "title": {
          "text": "Follows"
         }
        }
       }
      }
     },
     "metadata": {},
     "output_type": "display_data"
    }
   ],
   "source": [
    "#Relationship between the number of profile visits and follows\n",
    "fig = px.scatter(data, x = 'Profile Visits', y= 'Follows', trendline='ols', title= 'Profile Visits  vs Follows')\n",
    "\n",
    "fig.show()"
   ]
  },
  {
   "cell_type": "code",
   "execution_count": 16,
   "metadata": {},
   "outputs": [
    {
     "data": {
      "text/html": [
       "<div>\n",
       "<style scoped>\n",
       "    .dataframe tbody tr th:only-of-type {\n",
       "        vertical-align: middle;\n",
       "    }\n",
       "\n",
       "    .dataframe tbody tr th {\n",
       "        vertical-align: top;\n",
       "    }\n",
       "\n",
       "    .dataframe thead th {\n",
       "        text-align: right;\n",
       "    }\n",
       "</style>\n",
       "<table border=\"1\" class=\"dataframe\">\n",
       "  <thead>\n",
       "    <tr style=\"text-align: right;\">\n",
       "      <th></th>\n",
       "      <th>Impressions</th>\n",
       "      <th>From Home</th>\n",
       "      <th>From Hashtags</th>\n",
       "      <th>From Explore</th>\n",
       "      <th>From Other</th>\n",
       "      <th>Saves</th>\n",
       "      <th>Comments</th>\n",
       "      <th>Shares</th>\n",
       "      <th>Likes</th>\n",
       "      <th>Profile Visits</th>\n",
       "      <th>Follows</th>\n",
       "      <th>Caption</th>\n",
       "      <th>Hashtags</th>\n",
       "    </tr>\n",
       "  </thead>\n",
       "  <tbody>\n",
       "    <tr>\n",
       "      <th>0</th>\n",
       "      <td>3920</td>\n",
       "      <td>2586</td>\n",
       "      <td>1028</td>\n",
       "      <td>619</td>\n",
       "      <td>56</td>\n",
       "      <td>98</td>\n",
       "      <td>9</td>\n",
       "      <td>5</td>\n",
       "      <td>162</td>\n",
       "      <td>35</td>\n",
       "      <td>2</td>\n",
       "      <td>Here are some of the most important data visua...</td>\n",
       "      <td>#finance #money #business #investing #investme...</td>\n",
       "    </tr>\n",
       "    <tr>\n",
       "      <th>1</th>\n",
       "      <td>5394</td>\n",
       "      <td>2727</td>\n",
       "      <td>1838</td>\n",
       "      <td>1174</td>\n",
       "      <td>78</td>\n",
       "      <td>194</td>\n",
       "      <td>7</td>\n",
       "      <td>14</td>\n",
       "      <td>224</td>\n",
       "      <td>48</td>\n",
       "      <td>10</td>\n",
       "      <td>Here are some of the best data science project...</td>\n",
       "      <td>#healthcare #health #covid #data #datascience ...</td>\n",
       "    </tr>\n",
       "    <tr>\n",
       "      <th>2</th>\n",
       "      <td>4021</td>\n",
       "      <td>2085</td>\n",
       "      <td>1188</td>\n",
       "      <td>0</td>\n",
       "      <td>533</td>\n",
       "      <td>41</td>\n",
       "      <td>11</td>\n",
       "      <td>1</td>\n",
       "      <td>131</td>\n",
       "      <td>62</td>\n",
       "      <td>12</td>\n",
       "      <td>Learn how to train a machine learning model an...</td>\n",
       "      <td>#data #datascience #dataanalysis #dataanalytic...</td>\n",
       "    </tr>\n",
       "    <tr>\n",
       "      <th>3</th>\n",
       "      <td>4528</td>\n",
       "      <td>2700</td>\n",
       "      <td>621</td>\n",
       "      <td>932</td>\n",
       "      <td>73</td>\n",
       "      <td>172</td>\n",
       "      <td>10</td>\n",
       "      <td>7</td>\n",
       "      <td>213</td>\n",
       "      <td>23</td>\n",
       "      <td>8</td>\n",
       "      <td>Heres how you can write a Python program to d...</td>\n",
       "      <td>#python #pythonprogramming #pythonprojects #py...</td>\n",
       "    </tr>\n",
       "    <tr>\n",
       "      <th>4</th>\n",
       "      <td>2518</td>\n",
       "      <td>1704</td>\n",
       "      <td>255</td>\n",
       "      <td>279</td>\n",
       "      <td>37</td>\n",
       "      <td>96</td>\n",
       "      <td>5</td>\n",
       "      <td>4</td>\n",
       "      <td>123</td>\n",
       "      <td>8</td>\n",
       "      <td>0</td>\n",
       "      <td>Plotting annotations while visualizing your da...</td>\n",
       "      <td>#datavisualization #datascience #data #dataana...</td>\n",
       "    </tr>\n",
       "  </tbody>\n",
       "</table>\n",
       "</div>"
      ],
      "text/plain": [
       "   Impressions  From Home  From Hashtags  From Explore  From Other  Saves  \\\n",
       "0         3920       2586           1028           619          56     98   \n",
       "1         5394       2727           1838          1174          78    194   \n",
       "2         4021       2085           1188             0         533     41   \n",
       "3         4528       2700            621           932          73    172   \n",
       "4         2518       1704            255           279          37     96   \n",
       "\n",
       "   Comments  Shares  Likes  Profile Visits  Follows  \\\n",
       "0         9       5    162              35        2   \n",
       "1         7      14    224              48       10   \n",
       "2        11       1    131              62       12   \n",
       "3        10       7    213              23        8   \n",
       "4         5       4    123               8        0   \n",
       "\n",
       "                                             Caption  \\\n",
       "0  Here are some of the most important data visua...   \n",
       "1  Here are some of the best data science project...   \n",
       "2  Learn how to train a machine learning model an...   \n",
       "3  Heres how you can write a Python program to d...   \n",
       "4  Plotting annotations while visualizing your da...   \n",
       "\n",
       "                                            Hashtags  \n",
       "0  #finance #money #business #investing #investme...  \n",
       "1  #healthcare #health #covid #data #datascience ...  \n",
       "2  #data #datascience #dataanalysis #dataanalytic...  \n",
       "3  #python #pythonprogramming #pythonprojects #py...  \n",
       "4  #datavisualization #datascience #data #dataana...  "
      ]
     },
     "execution_count": 16,
     "metadata": {},
     "output_type": "execute_result"
    }
   ],
   "source": [
    "data.head(5)"
   ]
  },
  {
   "cell_type": "code",
   "execution_count": 17,
   "metadata": {},
   "outputs": [
    {
     "data": {
      "application/vnd.plotly.v1+json": {
       "config": {
        "plotlyServerURL": "https://plot.ly"
       },
       "data": [
        {
         "hovertemplate": "x: %{x}<br>y: %{y}<br>color: [%{z[0]}, %{z[1]}, %{z[2]}]<extra></extra>",
         "name": "0",
         "source": "data:image/png;base64,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",
         "type": "image",
         "xaxis": "x",
         "yaxis": "y"
        }
       ],
       "layout": {
        "template": {
         "data": {
          "bar": [
           {
            "error_x": {
             "color": "#2a3f5f"
            },
            "error_y": {
             "color": "#2a3f5f"
            },
            "marker": {
             "line": {
              "color": "white",
              "width": 0.5
             },
             "pattern": {
              "fillmode": "overlay",
              "size": 10,
              "solidity": 0.2
             }
            },
            "type": "bar"
           }
          ],
          "barpolar": [
           {
            "marker": {
             "line": {
              "color": "white",
              "width": 0.5
             },
             "pattern": {
              "fillmode": "overlay",
              "size": 10,
              "solidity": 0.2
             }
            },
            "type": "barpolar"
           }
          ],
          "carpet": [
           {
            "aaxis": {
             "endlinecolor": "#2a3f5f",
             "gridcolor": "#C8D4E3",
             "linecolor": "#C8D4E3",
             "minorgridcolor": "#C8D4E3",
             "startlinecolor": "#2a3f5f"
            },
            "baxis": {
             "endlinecolor": "#2a3f5f",
             "gridcolor": "#C8D4E3",
             "linecolor": "#C8D4E3",
             "minorgridcolor": "#C8D4E3",
             "startlinecolor": "#2a3f5f"
            },
            "type": "carpet"
           }
          ],
          "choropleth": [
           {
            "colorbar": {
             "outlinewidth": 0,
             "ticks": ""
            },
            "type": "choropleth"
           }
          ],
          "contour": [
           {
            "colorbar": {
             "outlinewidth": 0,
             "ticks": ""
            },
            "colorscale": [
             [
              0,
              "#0d0887"
             ],
             [
              0.1111111111111111,
              "#46039f"
             ],
             [
              0.2222222222222222,
              "#7201a8"
             ],
             [
              0.3333333333333333,
              "#9c179e"
             ],
             [
              0.4444444444444444,
              "#bd3786"
             ],
             [
              0.5555555555555556,
              "#d8576b"
             ],
             [
              0.6666666666666666,
              "#ed7953"
             ],
             [
              0.7777777777777778,
              "#fb9f3a"
             ],
             [
              0.8888888888888888,
              "#fdca26"
             ],
             [
              1,
              "#f0f921"
             ]
            ],
            "type": "contour"
           }
          ],
          "contourcarpet": [
           {
            "colorbar": {
             "outlinewidth": 0,
             "ticks": ""
            },
            "type": "contourcarpet"
           }
          ],
          "heatmap": [
           {
            "colorbar": {
             "outlinewidth": 0,
             "ticks": ""
            },
            "colorscale": [
             [
              0,
              "#0d0887"
             ],
             [
              0.1111111111111111,
              "#46039f"
             ],
             [
              0.2222222222222222,
              "#7201a8"
             ],
             [
              0.3333333333333333,
              "#9c179e"
             ],
             [
              0.4444444444444444,
              "#bd3786"
             ],
             [
              0.5555555555555556,
              "#d8576b"
             ],
             [
              0.6666666666666666,
              "#ed7953"
             ],
             [
              0.7777777777777778,
              "#fb9f3a"
             ],
             [
              0.8888888888888888,
              "#fdca26"
             ],
             [
              1,
              "#f0f921"
             ]
            ],
            "type": "heatmap"
           }
          ],
          "heatmapgl": [
           {
            "colorbar": {
             "outlinewidth": 0,
             "ticks": ""
            },
            "colorscale": [
             [
              0,
              "#0d0887"
             ],
             [
              0.1111111111111111,
              "#46039f"
             ],
             [
              0.2222222222222222,
              "#7201a8"
             ],
             [
              0.3333333333333333,
              "#9c179e"
             ],
             [
              0.4444444444444444,
              "#bd3786"
             ],
             [
              0.5555555555555556,
              "#d8576b"
             ],
             [
              0.6666666666666666,
              "#ed7953"
             ],
             [
              0.7777777777777778,
              "#fb9f3a"
             ],
             [
              0.8888888888888888,
              "#fdca26"
             ],
             [
              1,
              "#f0f921"
             ]
            ],
            "type": "heatmapgl"
           }
          ],
          "histogram": [
           {
            "marker": {
             "pattern": {
              "fillmode": "overlay",
              "size": 10,
              "solidity": 0.2
             }
            },
            "type": "histogram"
           }
          ],
          "histogram2d": [
           {
            "colorbar": {
             "outlinewidth": 0,
             "ticks": ""
            },
            "colorscale": [
             [
              0,
              "#0d0887"
             ],
             [
              0.1111111111111111,
              "#46039f"
             ],
             [
              0.2222222222222222,
              "#7201a8"
             ],
             [
              0.3333333333333333,
              "#9c179e"
             ],
             [
              0.4444444444444444,
              "#bd3786"
             ],
             [
              0.5555555555555556,
              "#d8576b"
             ],
             [
              0.6666666666666666,
              "#ed7953"
             ],
             [
              0.7777777777777778,
              "#fb9f3a"
             ],
             [
              0.8888888888888888,
              "#fdca26"
             ],
             [
              1,
              "#f0f921"
             ]
            ],
            "type": "histogram2d"
           }
          ],
          "histogram2dcontour": [
           {
            "colorbar": {
             "outlinewidth": 0,
             "ticks": ""
            },
            "colorscale": [
             [
              0,
              "#0d0887"
             ],
             [
              0.1111111111111111,
              "#46039f"
             ],
             [
              0.2222222222222222,
              "#7201a8"
             ],
             [
              0.3333333333333333,
              "#9c179e"
             ],
             [
              0.4444444444444444,
              "#bd3786"
             ],
             [
              0.5555555555555556,
              "#d8576b"
             ],
             [
              0.6666666666666666,
              "#ed7953"
             ],
             [
              0.7777777777777778,
              "#fb9f3a"
             ],
             [
              0.8888888888888888,
              "#fdca26"
             ],
             [
              1,
              "#f0f921"
             ]
            ],
            "type": "histogram2dcontour"
           }
          ],
          "mesh3d": [
           {
            "colorbar": {
             "outlinewidth": 0,
             "ticks": ""
            },
            "type": "mesh3d"
           }
          ],
          "parcoords": [
           {
            "line": {
             "colorbar": {
              "outlinewidth": 0,
              "ticks": ""
             }
            },
            "type": "parcoords"
           }
          ],
          "pie": [
           {
            "automargin": true,
            "type": "pie"
           }
          ],
          "scatter": [
           {
            "marker": {
             "colorbar": {
              "outlinewidth": 0,
              "ticks": ""
             }
            },
            "type": "scatter"
           }
          ],
          "scatter3d": [
           {
            "line": {
             "colorbar": {
              "outlinewidth": 0,
              "ticks": ""
             }
            },
            "marker": {
             "colorbar": {
              "outlinewidth": 0,
              "ticks": ""
             }
            },
            "type": "scatter3d"
           }
          ],
          "scattercarpet": [
           {
            "marker": {
             "colorbar": {
              "outlinewidth": 0,
              "ticks": ""
             }
            },
            "type": "scattercarpet"
           }
          ],
          "scattergeo": [
           {
            "marker": {
             "colorbar": {
              "outlinewidth": 0,
              "ticks": ""
             }
            },
            "type": "scattergeo"
           }
          ],
          "scattergl": [
           {
            "marker": {
             "colorbar": {
              "outlinewidth": 0,
              "ticks": ""
             }
            },
            "type": "scattergl"
           }
          ],
          "scattermapbox": [
           {
            "marker": {
             "colorbar": {
              "outlinewidth": 0,
              "ticks": ""
             }
            },
            "type": "scattermapbox"
           }
          ],
          "scatterpolar": [
           {
            "marker": {
             "colorbar": {
              "outlinewidth": 0,
              "ticks": ""
             }
            },
            "type": "scatterpolar"
           }
          ],
          "scatterpolargl": [
           {
            "marker": {
             "colorbar": {
              "outlinewidth": 0,
              "ticks": ""
             }
            },
            "type": "scatterpolargl"
           }
          ],
          "scatterternary": [
           {
            "marker": {
             "colorbar": {
              "outlinewidth": 0,
              "ticks": ""
             }
            },
            "type": "scatterternary"
           }
          ],
          "surface": [
           {
            "colorbar": {
             "outlinewidth": 0,
             "ticks": ""
            },
            "colorscale": [
             [
              0,
              "#0d0887"
             ],
             [
              0.1111111111111111,
              "#46039f"
             ],
             [
              0.2222222222222222,
              "#7201a8"
             ],
             [
              0.3333333333333333,
              "#9c179e"
             ],
             [
              0.4444444444444444,
              "#bd3786"
             ],
             [
              0.5555555555555556,
              "#d8576b"
             ],
             [
              0.6666666666666666,
              "#ed7953"
             ],
             [
              0.7777777777777778,
              "#fb9f3a"
             ],
             [
              0.8888888888888888,
              "#fdca26"
             ],
             [
              1,
              "#f0f921"
             ]
            ],
            "type": "surface"
           }
          ],
          "table": [
           {
            "cells": {
             "fill": {
              "color": "#EBF0F8"
             },
             "line": {
              "color": "white"
             }
            },
            "header": {
             "fill": {
              "color": "#C8D4E3"
             },
             "line": {
              "color": "white"
             }
            },
            "type": "table"
           }
          ]
         },
         "layout": {
          "annotationdefaults": {
           "arrowcolor": "#2a3f5f",
           "arrowhead": 0,
           "arrowwidth": 1
          },
          "autotypenumbers": "strict",
          "coloraxis": {
           "colorbar": {
            "outlinewidth": 0,
            "ticks": ""
           }
          },
          "colorscale": {
           "diverging": [
            [
             0,
             "#8e0152"
            ],
            [
             0.1,
             "#c51b7d"
            ],
            [
             0.2,
             "#de77ae"
            ],
            [
             0.3,
             "#f1b6da"
            ],
            [
             0.4,
             "#fde0ef"
            ],
            [
             0.5,
             "#f7f7f7"
            ],
            [
             0.6,
             "#e6f5d0"
            ],
            [
             0.7,
             "#b8e186"
            ],
            [
             0.8,
             "#7fbc41"
            ],
            [
             0.9,
             "#4d9221"
            ],
            [
             1,
             "#276419"
            ]
           ],
           "sequential": [
            [
             0,
             "#0d0887"
            ],
            [
             0.1111111111111111,
             "#46039f"
            ],
            [
             0.2222222222222222,
             "#7201a8"
            ],
            [
             0.3333333333333333,
             "#9c179e"
            ],
            [
             0.4444444444444444,
             "#bd3786"
            ],
            [
             0.5555555555555556,
             "#d8576b"
            ],
            [
             0.6666666666666666,
             "#ed7953"
            ],
            [
             0.7777777777777778,
             "#fb9f3a"
            ],
            [
             0.8888888888888888,
             "#fdca26"
            ],
            [
             1,
             "#f0f921"
            ]
           ],
           "sequentialminus": [
            [
             0,
             "#0d0887"
            ],
            [
             0.1111111111111111,
             "#46039f"
            ],
            [
             0.2222222222222222,
             "#7201a8"
            ],
            [
             0.3333333333333333,
             "#9c179e"
            ],
            [
             0.4444444444444444,
             "#bd3786"
            ],
            [
             0.5555555555555556,
             "#d8576b"
            ],
            [
             0.6666666666666666,
             "#ed7953"
            ],
            [
             0.7777777777777778,
             "#fb9f3a"
            ],
            [
             0.8888888888888888,
             "#fdca26"
            ],
            [
             1,
             "#f0f921"
            ]
           ]
          },
          "colorway": [
           "#636efa",
           "#EF553B",
           "#00cc96",
           "#ab63fa",
           "#FFA15A",
           "#19d3f3",
           "#FF6692",
           "#B6E880",
           "#FF97FF",
           "#FECB52"
          ],
          "font": {
           "color": "#2a3f5f"
          },
          "geo": {
           "bgcolor": "white",
           "lakecolor": "white",
           "landcolor": "white",
           "showlakes": true,
           "showland": true,
           "subunitcolor": "#C8D4E3"
          },
          "hoverlabel": {
           "align": "left"
          },
          "hovermode": "closest",
          "mapbox": {
           "style": "light"
          },
          "paper_bgcolor": "white",
          "plot_bgcolor": "white",
          "polar": {
           "angularaxis": {
            "gridcolor": "#EBF0F8",
            "linecolor": "#EBF0F8",
            "ticks": ""
           },
           "bgcolor": "white",
           "radialaxis": {
            "gridcolor": "#EBF0F8",
            "linecolor": "#EBF0F8",
            "ticks": ""
           }
          },
          "scene": {
           "xaxis": {
            "backgroundcolor": "white",
            "gridcolor": "#DFE8F3",
            "gridwidth": 2,
            "linecolor": "#EBF0F8",
            "showbackground": true,
            "ticks": "",
            "zerolinecolor": "#EBF0F8"
           },
           "yaxis": {
            "backgroundcolor": "white",
            "gridcolor": "#DFE8F3",
            "gridwidth": 2,
            "linecolor": "#EBF0F8",
            "showbackground": true,
            "ticks": "",
            "zerolinecolor": "#EBF0F8"
           },
           "zaxis": {
            "backgroundcolor": "white",
            "gridcolor": "#DFE8F3",
            "gridwidth": 2,
            "linecolor": "#EBF0F8",
            "showbackground": true,
            "ticks": "",
            "zerolinecolor": "#EBF0F8"
           }
          },
          "shapedefaults": {
           "line": {
            "color": "#2a3f5f"
           }
          },
          "ternary": {
           "aaxis": {
            "gridcolor": "#DFE8F3",
            "linecolor": "#A2B1C6",
            "ticks": ""
           },
           "baxis": {
            "gridcolor": "#DFE8F3",
            "linecolor": "#A2B1C6",
            "ticks": ""
           },
           "bgcolor": "white",
           "caxis": {
            "gridcolor": "#DFE8F3",
            "linecolor": "#A2B1C6",
            "ticks": ""
           }
          },
          "title": {
           "x": 0.05
          },
          "xaxis": {
           "automargin": true,
           "gridcolor": "#EBF0F8",
           "linecolor": "#EBF0F8",
           "ticks": "",
           "title": {
            "standoff": 15
           },
           "zerolinecolor": "#EBF0F8",
           "zerolinewidth": 2
          },
          "yaxis": {
           "automargin": true,
           "gridcolor": "#EBF0F8",
           "linecolor": "#EBF0F8",
           "ticks": "",
           "title": {
            "standoff": 15
           },
           "zerolinecolor": "#EBF0F8",
           "zerolinewidth": 2
          }
         }
        },
        "title": {
         "text": "Hashtags Word Cloud"
        },
        "xaxis": {
         "anchor": "y",
         "domain": [
          0,
          1
         ]
        },
        "yaxis": {
         "anchor": "x",
         "domain": [
          0,
          1
         ]
        }
       }
      }
     },
     "metadata": {},
     "output_type": "display_data"
    }
   ],
   "source": [
    "#look at the type of hashtags used in the posts using a wordcloud\n",
    "'''A word cloud is a data visualization technique that represents the frequency of words in a text corpus visually.\n",
    " In a word cloud, individual words from the text are displayed as graphical elements, and the size of each word is proportional\n",
    "   to its frequency or importance within the text.'''\n",
    "from wordcloud import WordCloud\n",
    "\n",
    "hastags = ' '.join(data['Hashtags'].astype(str))\n",
    "wordcloud = WordCloud().generate(hastags)\n",
    "fig = px.imshow(wordcloud, title = 'Hashtags Word Cloud')\n",
    "fig.show()"
   ]
  },
  {
   "cell_type": "code",
   "execution_count": 19,
   "metadata": {},
   "outputs": [
    {
     "data": {
      "application/vnd.plotly.v1+json": {
       "config": {
        "plotlyServerURL": "https://plot.ly"
       },
       "data": [
        {
         "colorscale": [
          [
           0,
           "rgb(103,0,31)"
          ],
          [
           0.1,
           "rgb(178,24,43)"
          ],
          [
           0.2,
           "rgb(214,96,77)"
          ],
          [
           0.3,
           "rgb(244,165,130)"
          ],
          [
           0.4,
           "rgb(253,219,199)"
          ],
          [
           0.5,
           "rgb(247,247,247)"
          ],
          [
           0.6,
           "rgb(209,229,240)"
          ],
          [
           0.7,
           "rgb(146,197,222)"
          ],
          [
           0.8,
           "rgb(67,147,195)"
          ],
          [
           0.9,
           "rgb(33,102,172)"
          ],
          [
           1,
           "rgb(5,48,97)"
          ]
         ],
         "type": "heatmap",
         "x": [
          "Impressions",
          "From Home",
          "From Hashtags",
          "From Explore",
          "From Other",
          "Saves",
          "Comments",
          "Shares",
          "Likes",
          "Profile Visits",
          "Follows"
         ],
         "y": [
          "Impressions",
          "From Home",
          "From Hashtags",
          "From Explore",
          "From Other",
          "Saves",
          "Comments",
          "Shares",
          "Likes",
          "Profile Visits",
          "Follows"
         ],
         "z": [
          [
           1,
           0.8446984764644079,
           0.5607600444158378,
           0.8936074202433567,
           0.5929604758091378,
           0.7792314114268593,
           -0.028523933548663824,
           0.6346751252181763,
           0.8498353377178177,
           0.7609809286546657,
           0.8893634430344086
          ],
          [
           0.8446984764644079,
           1,
           0.1775156543309878,
           0.800573110578866,
           0.5556659551465412,
           0.768817005684724,
           0.012716248342545502,
           0.6749850448685393,
           0.698329637893805,
           0.531076205366268,
           0.6726750588858736
          ],
          [
           0.5607600444158378,
           0.1775156543309878,
           1,
           0.1904532189703739,
           0.2296233181732429,
           0.30592870314657494,
           0.1614388259073108,
           0.21951145515685286,
           0.6621242000877943,
           0.6913449048454711,
           0.5554854735531087
          ],
          [
           0.8936074202433567,
           0.800573110578866,
           0.1904532189703739,
           1,
           0.49568473618614567,
           0.7478028035868068,
           -0.15856537914498336,
           0.6157309658741993,
           0.653699336224973,
           0.5318502558055156,
           0.7960189422044351
          ],
          [
           0.5929604758091378,
           0.5556659551465412,
           0.2296233181732429,
           0.49568473618614567,
           1,
           0.3319068864386735,
           -0.1087029734222875,
           0.15683375635736396,
           0.3935104122090607,
           0.6330799446255249,
           0.5467370225356449
          ],
          [
           0.7792314114268593,
           0.768817005684724,
           0.30592870314657494,
           0.7478028035868068,
           0.3319068864386735,
           1,
           -0.026912263707560984,
           0.860324185158795,
           0.8456432932068351,
           0.36062821319868793,
           0.6284608823148304
          ],
          [
           -0.028523933548663824,
           0.012716248342545502,
           0.1614388259073108,
           -0.15856537914498336,
           -0.1087029734222875,
           -0.026912263707560984,
           1,
           0.016932532855360494,
           0.1235861027264814,
           0.09671424134518669,
           -0.060630774375331827
          ],
          [
           0.6346751252181763,
           0.6749850448685393,
           0.21951145515685286,
           0.6157309658741993,
           0.15683375635736396,
           0.860324185158795,
           0.016932532855360494,
           1,
           0.707794002688105,
           0.24536082330737743,
           0.4930698051158401
          ],
          [
           0.8498353377178177,
           0.698329637893805,
           0.6621242000877943,
           0.653699336224973,
           0.3935104122090607,
           0.8456432932068351,
           0.1235861027264814,
           0.707794002688105,
           1,
           0.6261070345218044,
           0.746333165592919
          ],
          [
           0.7609809286546657,
           0.531076205366268,
           0.6913449048454711,
           0.5318502558055156,
           0.6330799446255249,
           0.36062821319868793,
           0.09671424134518669,
           0.24536082330737743,
           0.6261070345218044,
           1,
           0.8531517459145104
          ],
          [
           0.8893634430344086,
           0.6726750588858736,
           0.5554854735531087,
           0.7960189422044351,
           0.5467370225356449,
           0.6284608823148304,
           -0.060630774375331827,
           0.4930698051158401,
           0.746333165592919,
           0.8531517459145104,
           1
          ]
         ],
         "zmax": 1,
         "zmin": 1
        }
       ],
       "layout": {
        "template": {
         "data": {
          "bar": [
           {
            "error_x": {
             "color": "#2a3f5f"
            },
            "error_y": {
             "color": "#2a3f5f"
            },
            "marker": {
             "line": {
              "color": "white",
              "width": 0.5
             },
             "pattern": {
              "fillmode": "overlay",
              "size": 10,
              "solidity": 0.2
             }
            },
            "type": "bar"
           }
          ],
          "barpolar": [
           {
            "marker": {
             "line": {
              "color": "white",
              "width": 0.5
             },
             "pattern": {
              "fillmode": "overlay",
              "size": 10,
              "solidity": 0.2
             }
            },
            "type": "barpolar"
           }
          ],
          "carpet": [
           {
            "aaxis": {
             "endlinecolor": "#2a3f5f",
             "gridcolor": "#C8D4E3",
             "linecolor": "#C8D4E3",
             "minorgridcolor": "#C8D4E3",
             "startlinecolor": "#2a3f5f"
            },
            "baxis": {
             "endlinecolor": "#2a3f5f",
             "gridcolor": "#C8D4E3",
             "linecolor": "#C8D4E3",
             "minorgridcolor": "#C8D4E3",
             "startlinecolor": "#2a3f5f"
            },
            "type": "carpet"
           }
          ],
          "choropleth": [
           {
            "colorbar": {
             "outlinewidth": 0,
             "ticks": ""
            },
            "type": "choropleth"
           }
          ],
          "contour": [
           {
            "colorbar": {
             "outlinewidth": 0,
             "ticks": ""
            },
            "colorscale": [
             [
              0,
              "#0d0887"
             ],
             [
              0.1111111111111111,
              "#46039f"
             ],
             [
              0.2222222222222222,
              "#7201a8"
             ],
             [
              0.3333333333333333,
              "#9c179e"
             ],
             [
              0.4444444444444444,
              "#bd3786"
             ],
             [
              0.5555555555555556,
              "#d8576b"
             ],
             [
              0.6666666666666666,
              "#ed7953"
             ],
             [
              0.7777777777777778,
              "#fb9f3a"
             ],
             [
              0.8888888888888888,
              "#fdca26"
             ],
             [
              1,
              "#f0f921"
             ]
            ],
            "type": "contour"
           }
          ],
          "contourcarpet": [
           {
            "colorbar": {
             "outlinewidth": 0,
             "ticks": ""
            },
            "type": "contourcarpet"
           }
          ],
          "heatmap": [
           {
            "colorbar": {
             "outlinewidth": 0,
             "ticks": ""
            },
            "colorscale": [
             [
              0,
              "#0d0887"
             ],
             [
              0.1111111111111111,
              "#46039f"
             ],
             [
              0.2222222222222222,
              "#7201a8"
             ],
             [
              0.3333333333333333,
              "#9c179e"
             ],
             [
              0.4444444444444444,
              "#bd3786"
             ],
             [
              0.5555555555555556,
              "#d8576b"
             ],
             [
              0.6666666666666666,
              "#ed7953"
             ],
             [
              0.7777777777777778,
              "#fb9f3a"
             ],
             [
              0.8888888888888888,
              "#fdca26"
             ],
             [
              1,
              "#f0f921"
             ]
            ],
            "type": "heatmap"
           }
          ],
          "heatmapgl": [
           {
            "colorbar": {
             "outlinewidth": 0,
             "ticks": ""
            },
            "colorscale": [
             [
              0,
              "#0d0887"
             ],
             [
              0.1111111111111111,
              "#46039f"
             ],
             [
              0.2222222222222222,
              "#7201a8"
             ],
             [
              0.3333333333333333,
              "#9c179e"
             ],
             [
              0.4444444444444444,
              "#bd3786"
             ],
             [
              0.5555555555555556,
              "#d8576b"
             ],
             [
              0.6666666666666666,
              "#ed7953"
             ],
             [
              0.7777777777777778,
              "#fb9f3a"
             ],
             [
              0.8888888888888888,
              "#fdca26"
             ],
             [
              1,
              "#f0f921"
             ]
            ],
            "type": "heatmapgl"
           }
          ],
          "histogram": [
           {
            "marker": {
             "pattern": {
              "fillmode": "overlay",
              "size": 10,
              "solidity": 0.2
             }
            },
            "type": "histogram"
           }
          ],
          "histogram2d": [
           {
            "colorbar": {
             "outlinewidth": 0,
             "ticks": ""
            },
            "colorscale": [
             [
              0,
              "#0d0887"
             ],
             [
              0.1111111111111111,
              "#46039f"
             ],
             [
              0.2222222222222222,
              "#7201a8"
             ],
             [
              0.3333333333333333,
              "#9c179e"
             ],
             [
              0.4444444444444444,
              "#bd3786"
             ],
             [
              0.5555555555555556,
              "#d8576b"
             ],
             [
              0.6666666666666666,
              "#ed7953"
             ],
             [
              0.7777777777777778,
              "#fb9f3a"
             ],
             [
              0.8888888888888888,
              "#fdca26"
             ],
             [
              1,
              "#f0f921"
             ]
            ],
            "type": "histogram2d"
           }
          ],
          "histogram2dcontour": [
           {
            "colorbar": {
             "outlinewidth": 0,
             "ticks": ""
            },
            "colorscale": [
             [
              0,
              "#0d0887"
             ],
             [
              0.1111111111111111,
              "#46039f"
             ],
             [
              0.2222222222222222,
              "#7201a8"
             ],
             [
              0.3333333333333333,
              "#9c179e"
             ],
             [
              0.4444444444444444,
              "#bd3786"
             ],
             [
              0.5555555555555556,
              "#d8576b"
             ],
             [
              0.6666666666666666,
              "#ed7953"
             ],
             [
              0.7777777777777778,
              "#fb9f3a"
             ],
             [
              0.8888888888888888,
              "#fdca26"
             ],
             [
              1,
              "#f0f921"
             ]
            ],
            "type": "histogram2dcontour"
           }
          ],
          "mesh3d": [
           {
            "colorbar": {
             "outlinewidth": 0,
             "ticks": ""
            },
            "type": "mesh3d"
           }
          ],
          "parcoords": [
           {
            "line": {
             "colorbar": {
              "outlinewidth": 0,
              "ticks": ""
             }
            },
            "type": "parcoords"
           }
          ],
          "pie": [
           {
            "automargin": true,
            "type": "pie"
           }
          ],
          "scatter": [
           {
            "marker": {
             "colorbar": {
              "outlinewidth": 0,
              "ticks": ""
             }
            },
            "type": "scatter"
           }
          ],
          "scatter3d": [
           {
            "line": {
             "colorbar": {
              "outlinewidth": 0,
              "ticks": ""
             }
            },
            "marker": {
             "colorbar": {
              "outlinewidth": 0,
              "ticks": ""
             }
            },
            "type": "scatter3d"
           }
          ],
          "scattercarpet": [
           {
            "marker": {
             "colorbar": {
              "outlinewidth": 0,
              "ticks": ""
             }
            },
            "type": "scattercarpet"
           }
          ],
          "scattergeo": [
           {
            "marker": {
             "colorbar": {
              "outlinewidth": 0,
              "ticks": ""
             }
            },
            "type": "scattergeo"
           }
          ],
          "scattergl": [
           {
            "marker": {
             "colorbar": {
              "outlinewidth": 0,
              "ticks": ""
             }
            },
            "type": "scattergl"
           }
          ],
          "scattermapbox": [
           {
            "marker": {
             "colorbar": {
              "outlinewidth": 0,
              "ticks": ""
             }
            },
            "type": "scattermapbox"
           }
          ],
          "scatterpolar": [
           {
            "marker": {
             "colorbar": {
              "outlinewidth": 0,
              "ticks": ""
             }
            },
            "type": "scatterpolar"
           }
          ],
          "scatterpolargl": [
           {
            "marker": {
             "colorbar": {
              "outlinewidth": 0,
              "ticks": ""
             }
            },
            "type": "scatterpolargl"
           }
          ],
          "scatterternary": [
           {
            "marker": {
             "colorbar": {
              "outlinewidth": 0,
              "ticks": ""
             }
            },
            "type": "scatterternary"
           }
          ],
          "surface": [
           {
            "colorbar": {
             "outlinewidth": 0,
             "ticks": ""
            },
            "colorscale": [
             [
              0,
              "#0d0887"
             ],
             [
              0.1111111111111111,
              "#46039f"
             ],
             [
              0.2222222222222222,
              "#7201a8"
             ],
             [
              0.3333333333333333,
              "#9c179e"
             ],
             [
              0.4444444444444444,
              "#bd3786"
             ],
             [
              0.5555555555555556,
              "#d8576b"
             ],
             [
              0.6666666666666666,
              "#ed7953"
             ],
             [
              0.7777777777777778,
              "#fb9f3a"
             ],
             [
              0.8888888888888888,
              "#fdca26"
             ],
             [
              1,
              "#f0f921"
             ]
            ],
            "type": "surface"
           }
          ],
          "table": [
           {
            "cells": {
             "fill": {
              "color": "#EBF0F8"
             },
             "line": {
              "color": "white"
             }
            },
            "header": {
             "fill": {
              "color": "#C8D4E3"
             },
             "line": {
              "color": "white"
             }
            },
            "type": "table"
           }
          ]
         },
         "layout": {
          "annotationdefaults": {
           "arrowcolor": "#2a3f5f",
           "arrowhead": 0,
           "arrowwidth": 1
          },
          "autotypenumbers": "strict",
          "coloraxis": {
           "colorbar": {
            "outlinewidth": 0,
            "ticks": ""
           }
          },
          "colorscale": {
           "diverging": [
            [
             0,
             "#8e0152"
            ],
            [
             0.1,
             "#c51b7d"
            ],
            [
             0.2,
             "#de77ae"
            ],
            [
             0.3,
             "#f1b6da"
            ],
            [
             0.4,
             "#fde0ef"
            ],
            [
             0.5,
             "#f7f7f7"
            ],
            [
             0.6,
             "#e6f5d0"
            ],
            [
             0.7,
             "#b8e186"
            ],
            [
             0.8,
             "#7fbc41"
            ],
            [
             0.9,
             "#4d9221"
            ],
            [
             1,
             "#276419"
            ]
           ],
           "sequential": [
            [
             0,
             "#0d0887"
            ],
            [
             0.1111111111111111,
             "#46039f"
            ],
            [
             0.2222222222222222,
             "#7201a8"
            ],
            [
             0.3333333333333333,
             "#9c179e"
            ],
            [
             0.4444444444444444,
             "#bd3786"
            ],
            [
             0.5555555555555556,
             "#d8576b"
            ],
            [
             0.6666666666666666,
             "#ed7953"
            ],
            [
             0.7777777777777778,
             "#fb9f3a"
            ],
            [
             0.8888888888888888,
             "#fdca26"
            ],
            [
             1,
             "#f0f921"
            ]
           ],
           "sequentialminus": [
            [
             0,
             "#0d0887"
            ],
            [
             0.1111111111111111,
             "#46039f"
            ],
            [
             0.2222222222222222,
             "#7201a8"
            ],
            [
             0.3333333333333333,
             "#9c179e"
            ],
            [
             0.4444444444444444,
             "#bd3786"
            ],
            [
             0.5555555555555556,
             "#d8576b"
            ],
            [
             0.6666666666666666,
             "#ed7953"
            ],
            [
             0.7777777777777778,
             "#fb9f3a"
            ],
            [
             0.8888888888888888,
             "#fdca26"
            ],
            [
             1,
             "#f0f921"
            ]
           ]
          },
          "colorway": [
           "#636efa",
           "#EF553B",
           "#00cc96",
           "#ab63fa",
           "#FFA15A",
           "#19d3f3",
           "#FF6692",
           "#B6E880",
           "#FF97FF",
           "#FECB52"
          ],
          "font": {
           "color": "#2a3f5f"
          },
          "geo": {
           "bgcolor": "white",
           "lakecolor": "white",
           "landcolor": "white",
           "showlakes": true,
           "showland": true,
           "subunitcolor": "#C8D4E3"
          },
          "hoverlabel": {
           "align": "left"
          },
          "hovermode": "closest",
          "mapbox": {
           "style": "light"
          },
          "paper_bgcolor": "white",
          "plot_bgcolor": "white",
          "polar": {
           "angularaxis": {
            "gridcolor": "#EBF0F8",
            "linecolor": "#EBF0F8",
            "ticks": ""
           },
           "bgcolor": "white",
           "radialaxis": {
            "gridcolor": "#EBF0F8",
            "linecolor": "#EBF0F8",
            "ticks": ""
           }
          },
          "scene": {
           "xaxis": {
            "backgroundcolor": "white",
            "gridcolor": "#DFE8F3",
            "gridwidth": 2,
            "linecolor": "#EBF0F8",
            "showbackground": true,
            "ticks": "",
            "zerolinecolor": "#EBF0F8"
           },
           "yaxis": {
            "backgroundcolor": "white",
            "gridcolor": "#DFE8F3",
            "gridwidth": 2,
            "linecolor": "#EBF0F8",
            "showbackground": true,
            "ticks": "",
            "zerolinecolor": "#EBF0F8"
           },
           "zaxis": {
            "backgroundcolor": "white",
            "gridcolor": "#DFE8F3",
            "gridwidth": 2,
            "linecolor": "#EBF0F8",
            "showbackground": true,
            "ticks": "",
            "zerolinecolor": "#EBF0F8"
           }
          },
          "shapedefaults": {
           "line": {
            "color": "#2a3f5f"
           }
          },
          "ternary": {
           "aaxis": {
            "gridcolor": "#DFE8F3",
            "linecolor": "#A2B1C6",
            "ticks": ""
           },
           "baxis": {
            "gridcolor": "#DFE8F3",
            "linecolor": "#A2B1C6",
            "ticks": ""
           },
           "bgcolor": "white",
           "caxis": {
            "gridcolor": "#DFE8F3",
            "linecolor": "#A2B1C6",
            "ticks": ""
           }
          },
          "title": {
           "x": 0.05
          },
          "xaxis": {
           "automargin": true,
           "gridcolor": "#EBF0F8",
           "linecolor": "#EBF0F8",
           "ticks": "",
           "title": {
            "standoff": 15
           },
           "zerolinecolor": "#EBF0F8",
           "zerolinewidth": 2
          },
          "yaxis": {
           "automargin": true,
           "gridcolor": "#EBF0F8",
           "linecolor": "#EBF0F8",
           "ticks": "",
           "title": {
            "standoff": 15
           },
           "zerolinecolor": "#EBF0F8",
           "zerolinewidth": 2
          }
         }
        },
        "title": {
         "text": "Correlation Matrx"
        },
        "xaxis": {
         "title": {
          "text": "Features"
         }
        },
        "yaxis": {
         "title": {
          "text": "Features"
         }
        }
       }
      }
     },
     "metadata": {},
     "output_type": "display_data"
    }
   ],
   "source": [
    "#Look at the correlation between all the features\n",
    "\n",
    "corr_matrix = data.corr() #This line calculates the correlation matrix of your dataset, assuming data is a Pandas DataFrame.\n",
    "\n",
    "fig = go.Figure(data=go.Heatmap(z=corr_matrix.values, #specifies the values to be displayed in the heatmap, which are the correlation coefficients from your corr_matrix\n",
    "                                x=corr_matrix.columns, #defines the labels for the x-axis of the heatmap, which are the column names of your dataset.\n",
    "                                y=corr_matrix.index, #defines the labels for the y-axis of the heatmap, which are also the column names of your dataset.\n",
    "                                colorscale='RdBu', #is a diverging color scale where negative correlations are displayed in one color (red) and positive correlations in another (blue)\n",
    "                                zmin=1, #the color scale will range from -1 (strong negative correlation) to 1 (strong positive correlation\n",
    "                                zmax=1))\n",
    "\n",
    "fig.update_layout(title='Correlation Matrx',\n",
    "                  xaxis_title='Features', \n",
    "                  yaxis_title='Features')\n",
    "\n",
    "fig.show()"
   ]
  },
  {
   "cell_type": "code",
   "execution_count": 20,
   "metadata": {},
   "outputs": [
    {
     "data": {
      "application/vnd.plotly.v1+json": {
       "config": {
        "plotlyServerURL": "https://plot.ly"
       },
       "data": [
        {
         "alignmentgroup": "True",
         "hovertemplate": "Hashtag=%{x}<br>Count=%{y}<extra></extra>",
         "legendgroup": "",
         "marker": {
          "color": "#636efa",
          "pattern": {
           "shape": ""
          }
         },
         "name": "",
         "offsetgroup": "",
         "orientation": "v",
         "showlegend": false,
         "textposition": "auto",
         "type": "bar",
         "x": [
          "#thecleverprogrammer",
          "#amankharwal",
          "#python",
          "#machinelearning",
          "#pythonprogramming",
          "#datascience",
          "#ai",
          "#pythonprojects",
          "#artificialintelligence",
          "#data",
          "#dataanalytics",
          "#datascientist",
          "#pythoncode",
          "#dataanalysis",
          "#deeplearning",
          "#datascienceprojects",
          "#machinelearningprojects",
          "#programming",
          "#technology",
          "#coding",
          "#tech",
          "#computerscience",
          "#bigdata",
          "#pythonlearning",
          "#pythoncoding",
          "#pythondeveloper",
          "#datavisualization",
          "#pythonprogrammer",
          "#analytics",
          "#business",
          "#statistics",
          "#machinelearningalgorithms",
          "#dataanalyst",
          "#webdevelopment",
          "#algorithm",
          "#software",
          "#naturallanguageprocessing",
          "#algorithms",
          "#nlp",
          "#neuralnetwork",
          "#ml",
          "#database",
          "#javascript",
          "#code",
          "#coder",
          "#programmer",
          "#java",
          "#softwaredeveloper",
          "#codinglife",
          "#sentimentanalysis",
          "#sentiment",
          "#webdeveloper",
          "#css",
          "#html",
          "#machinelearningmodels",
          "#developer",
          "#timeseriesanalysis",
          "#iot",
          "#analysis",
          "#timeseriesmalaysia",
          "#businessintelligence",
          "#datasciencejobs",
          "#datasciencetraining",
          "#datascienceeducation",
          "#datasciencecourse",
          "#datamining",
          "#time",
          "#timeseries",
          "#php",
          "#programminglife",
          "#hacking",
          "#programmingmemes",
          "#programmers",
          "#neuralnetworks",
          "#webdesign",
          "#dataviz",
          "#linux",
          "#casestudy",
          "#businessmodel",
          "#zomato",
          "#money",
          "#interview",
          "#finance",
          "#powerbi",
          "#tensorflow",
          "#job",
          "#artificialintelligenceai",
          "#investing",
          "#trading",
          "#stockmarket",
          "#healthcare",
          "#health",
          "#covid",
          "#investment",
          "#cryptocurrency",
          "#bitcoin",
          "#dataanalysisprojects",
          "#businessanalytics",
          "#python3",
          "#roadmap",
          "#codinginterview",
          "#pythonprogramminglanguage",
          "#otp",
          "#innovation",
          "#recommendationsystem",
          "#recommendations",
          "#recommended",
          "#otpverification",
          "#projects",
          "#casestudies",
          "#amazonfinds",
          "#security",
          "#cybersecurity",
          "#network",
          "#internet",
          "#cloud",
          "#recommendation",
          "#careergoals",
          "#jobsearch",
          "#work",
          "#tableau",
          "#stocks",
          "#forex",
          "#candlestick",
          "#candlestickcharts",
          "#career",
          "#jobs",
          "#stressdetection",
          "#education",
          "#success",
          "#motivation",
          "#clustering",
          "#careerdevelopment",
          "#careeradvice",
          "#digitalmarketing",
          "#media",
          "#socialmedia",
          "#IT",
          "#marketing",
          "#students",
          "#resume",
          "#goals",
          "#careers",
          "#stress",
          "#sql",
          "#pythonbooks",
          "#mysql",
          "#softskills",
          "#instagramreach",
          "#instagram",
          "#ukraine",
          "#pythonprogram",
          "#whatsapp",
          "@codergallery",
          "#google",
          "#news",
          "#flipkart",
          "#bookstagram",
          "#alexnet",
          "#bigdataanalytics",
          "#qrcodes",
          "#datascienceinterview",
          "#facebook",
          "#boxplots"
         ],
         "xaxis": "x",
         "y": [
          117,
          117,
          109,
          97,
          95,
          94,
          91,
          90,
          89,
          88,
          87,
          83,
          78,
          77,
          75,
          43,
          43,
          26,
          25,
          24,
          23,
          21,
          20,
          19,
          19,
          19,
          19,
          19,
          16,
          16,
          14,
          13,
          12,
          10,
          9,
          9,
          9,
          9,
          9,
          8,
          8,
          7,
          7,
          7,
          7,
          7,
          7,
          7,
          7,
          7,
          7,
          7,
          7,
          7,
          7,
          7,
          6,
          6,
          6,
          6,
          6,
          6,
          6,
          6,
          6,
          6,
          6,
          6,
          5,
          5,
          5,
          5,
          5,
          5,
          5,
          5,
          5,
          4,
          4,
          4,
          4,
          4,
          4,
          4,
          4,
          4,
          4,
          4,
          3,
          3,
          3,
          3,
          3,
          3,
          3,
          3,
          3,
          3,
          2,
          2,
          2,
          2,
          2,
          2,
          2,
          2,
          2,
          2,
          2,
          2,
          2,
          2,
          2,
          2,
          2,
          2,
          2,
          2,
          2,
          2,
          2,
          2,
          2,
          2,
          2,
          2,
          2,
          2,
          2,
          2,
          2,
          2,
          2,
          2,
          2,
          2,
          2,
          2,
          2,
          2,
          2,
          2,
          2,
          2,
          1,
          1,
          1,
          1,
          1,
          1,
          1,
          1,
          1,
          1,
          1,
          1,
          1,
          1,
          1,
          1,
          1,
          1,
          1,
          1
         ],
         "yaxis": "y"
        }
       ],
       "layout": {
        "barmode": "relative",
        "legend": {
         "tracegroupgap": 0
        },
        "template": {
         "data": {
          "bar": [
           {
            "error_x": {
             "color": "#2a3f5f"
            },
            "error_y": {
             "color": "#2a3f5f"
            },
            "marker": {
             "line": {
              "color": "white",
              "width": 0.5
             },
             "pattern": {
              "fillmode": "overlay",
              "size": 10,
              "solidity": 0.2
             }
            },
            "type": "bar"
           }
          ],
          "barpolar": [
           {
            "marker": {
             "line": {
              "color": "white",
              "width": 0.5
             },
             "pattern": {
              "fillmode": "overlay",
              "size": 10,
              "solidity": 0.2
             }
            },
            "type": "barpolar"
           }
          ],
          "carpet": [
           {
            "aaxis": {
             "endlinecolor": "#2a3f5f",
             "gridcolor": "#C8D4E3",
             "linecolor": "#C8D4E3",
             "minorgridcolor": "#C8D4E3",
             "startlinecolor": "#2a3f5f"
            },
            "baxis": {
             "endlinecolor": "#2a3f5f",
             "gridcolor": "#C8D4E3",
             "linecolor": "#C8D4E3",
             "minorgridcolor": "#C8D4E3",
             "startlinecolor": "#2a3f5f"
            },
            "type": "carpet"
           }
          ],
          "choropleth": [
           {
            "colorbar": {
             "outlinewidth": 0,
             "ticks": ""
            },
            "type": "choropleth"
           }
          ],
          "contour": [
           {
            "colorbar": {
             "outlinewidth": 0,
             "ticks": ""
            },
            "colorscale": [
             [
              0,
              "#0d0887"
             ],
             [
              0.1111111111111111,
              "#46039f"
             ],
             [
              0.2222222222222222,
              "#7201a8"
             ],
             [
              0.3333333333333333,
              "#9c179e"
             ],
             [
              0.4444444444444444,
              "#bd3786"
             ],
             [
              0.5555555555555556,
              "#d8576b"
             ],
             [
              0.6666666666666666,
              "#ed7953"
             ],
             [
              0.7777777777777778,
              "#fb9f3a"
             ],
             [
              0.8888888888888888,
              "#fdca26"
             ],
             [
              1,
              "#f0f921"
             ]
            ],
            "type": "contour"
           }
          ],
          "contourcarpet": [
           {
            "colorbar": {
             "outlinewidth": 0,
             "ticks": ""
            },
            "type": "contourcarpet"
           }
          ],
          "heatmap": [
           {
            "colorbar": {
             "outlinewidth": 0,
             "ticks": ""
            },
            "colorscale": [
             [
              0,
              "#0d0887"
             ],
             [
              0.1111111111111111,
              "#46039f"
             ],
             [
              0.2222222222222222,
              "#7201a8"
             ],
             [
              0.3333333333333333,
              "#9c179e"
             ],
             [
              0.4444444444444444,
              "#bd3786"
             ],
             [
              0.5555555555555556,
              "#d8576b"
             ],
             [
              0.6666666666666666,
              "#ed7953"
             ],
             [
              0.7777777777777778,
              "#fb9f3a"
             ],
             [
              0.8888888888888888,
              "#fdca26"
             ],
             [
              1,
              "#f0f921"
             ]
            ],
            "type": "heatmap"
           }
          ],
          "heatmapgl": [
           {
            "colorbar": {
             "outlinewidth": 0,
             "ticks": ""
            },
            "colorscale": [
             [
              0,
              "#0d0887"
             ],
             [
              0.1111111111111111,
              "#46039f"
             ],
             [
              0.2222222222222222,
              "#7201a8"
             ],
             [
              0.3333333333333333,
              "#9c179e"
             ],
             [
              0.4444444444444444,
              "#bd3786"
             ],
             [
              0.5555555555555556,
              "#d8576b"
             ],
             [
              0.6666666666666666,
              "#ed7953"
             ],
             [
              0.7777777777777778,
              "#fb9f3a"
             ],
             [
              0.8888888888888888,
              "#fdca26"
             ],
             [
              1,
              "#f0f921"
             ]
            ],
            "type": "heatmapgl"
           }
          ],
          "histogram": [
           {
            "marker": {
             "pattern": {
              "fillmode": "overlay",
              "size": 10,
              "solidity": 0.2
             }
            },
            "type": "histogram"
           }
          ],
          "histogram2d": [
           {
            "colorbar": {
             "outlinewidth": 0,
             "ticks": ""
            },
            "colorscale": [
             [
              0,
              "#0d0887"
             ],
             [
              0.1111111111111111,
              "#46039f"
             ],
             [
              0.2222222222222222,
              "#7201a8"
             ],
             [
              0.3333333333333333,
              "#9c179e"
             ],
             [
              0.4444444444444444,
              "#bd3786"
             ],
             [
              0.5555555555555556,
              "#d8576b"
             ],
             [
              0.6666666666666666,
              "#ed7953"
             ],
             [
              0.7777777777777778,
              "#fb9f3a"
             ],
             [
              0.8888888888888888,
              "#fdca26"
             ],
             [
              1,
              "#f0f921"
             ]
            ],
            "type": "histogram2d"
           }
          ],
          "histogram2dcontour": [
           {
            "colorbar": {
             "outlinewidth": 0,
             "ticks": ""
            },
            "colorscale": [
             [
              0,
              "#0d0887"
             ],
             [
              0.1111111111111111,
              "#46039f"
             ],
             [
              0.2222222222222222,
              "#7201a8"
             ],
             [
              0.3333333333333333,
              "#9c179e"
             ],
             [
              0.4444444444444444,
              "#bd3786"
             ],
             [
              0.5555555555555556,
              "#d8576b"
             ],
             [
              0.6666666666666666,
              "#ed7953"
             ],
             [
              0.7777777777777778,
              "#fb9f3a"
             ],
             [
              0.8888888888888888,
              "#fdca26"
             ],
             [
              1,
              "#f0f921"
             ]
            ],
            "type": "histogram2dcontour"
           }
          ],
          "mesh3d": [
           {
            "colorbar": {
             "outlinewidth": 0,
             "ticks": ""
            },
            "type": "mesh3d"
           }
          ],
          "parcoords": [
           {
            "line": {
             "colorbar": {
              "outlinewidth": 0,
              "ticks": ""
             }
            },
            "type": "parcoords"
           }
          ],
          "pie": [
           {
            "automargin": true,
            "type": "pie"
           }
          ],
          "scatter": [
           {
            "marker": {
             "colorbar": {
              "outlinewidth": 0,
              "ticks": ""
             }
            },
            "type": "scatter"
           }
          ],
          "scatter3d": [
           {
            "line": {
             "colorbar": {
              "outlinewidth": 0,
              "ticks": ""
             }
            },
            "marker": {
             "colorbar": {
              "outlinewidth": 0,
              "ticks": ""
             }
            },
            "type": "scatter3d"
           }
          ],
          "scattercarpet": [
           {
            "marker": {
             "colorbar": {
              "outlinewidth": 0,
              "ticks": ""
             }
            },
            "type": "scattercarpet"
           }
          ],
          "scattergeo": [
           {
            "marker": {
             "colorbar": {
              "outlinewidth": 0,
              "ticks": ""
             }
            },
            "type": "scattergeo"
           }
          ],
          "scattergl": [
           {
            "marker": {
             "colorbar": {
              "outlinewidth": 0,
              "ticks": ""
             }
            },
            "type": "scattergl"
           }
          ],
          "scattermapbox": [
           {
            "marker": {
             "colorbar": {
              "outlinewidth": 0,
              "ticks": ""
             }
            },
            "type": "scattermapbox"
           }
          ],
          "scatterpolar": [
           {
            "marker": {
             "colorbar": {
              "outlinewidth": 0,
              "ticks": ""
             }
            },
            "type": "scatterpolar"
           }
          ],
          "scatterpolargl": [
           {
            "marker": {
             "colorbar": {
              "outlinewidth": 0,
              "ticks": ""
             }
            },
            "type": "scatterpolargl"
           }
          ],
          "scatterternary": [
           {
            "marker": {
             "colorbar": {
              "outlinewidth": 0,
              "ticks": ""
             }
            },
            "type": "scatterternary"
           }
          ],
          "surface": [
           {
            "colorbar": {
             "outlinewidth": 0,
             "ticks": ""
            },
            "colorscale": [
             [
              0,
              "#0d0887"
             ],
             [
              0.1111111111111111,
              "#46039f"
             ],
             [
              0.2222222222222222,
              "#7201a8"
             ],
             [
              0.3333333333333333,
              "#9c179e"
             ],
             [
              0.4444444444444444,
              "#bd3786"
             ],
             [
              0.5555555555555556,
              "#d8576b"
             ],
             [
              0.6666666666666666,
              "#ed7953"
             ],
             [
              0.7777777777777778,
              "#fb9f3a"
             ],
             [
              0.8888888888888888,
              "#fdca26"
             ],
             [
              1,
              "#f0f921"
             ]
            ],
            "type": "surface"
           }
          ],
          "table": [
           {
            "cells": {
             "fill": {
              "color": "#EBF0F8"
             },
             "line": {
              "color": "white"
             }
            },
            "header": {
             "fill": {
              "color": "#C8D4E3"
             },
             "line": {
              "color": "white"
             }
            },
            "type": "table"
           }
          ]
         },
         "layout": {
          "annotationdefaults": {
           "arrowcolor": "#2a3f5f",
           "arrowhead": 0,
           "arrowwidth": 1
          },
          "autotypenumbers": "strict",
          "coloraxis": {
           "colorbar": {
            "outlinewidth": 0,
            "ticks": ""
           }
          },
          "colorscale": {
           "diverging": [
            [
             0,
             "#8e0152"
            ],
            [
             0.1,
             "#c51b7d"
            ],
            [
             0.2,
             "#de77ae"
            ],
            [
             0.3,
             "#f1b6da"
            ],
            [
             0.4,
             "#fde0ef"
            ],
            [
             0.5,
             "#f7f7f7"
            ],
            [
             0.6,
             "#e6f5d0"
            ],
            [
             0.7,
             "#b8e186"
            ],
            [
             0.8,
             "#7fbc41"
            ],
            [
             0.9,
             "#4d9221"
            ],
            [
             1,
             "#276419"
            ]
           ],
           "sequential": [
            [
             0,
             "#0d0887"
            ],
            [
             0.1111111111111111,
             "#46039f"
            ],
            [
             0.2222222222222222,
             "#7201a8"
            ],
            [
             0.3333333333333333,
             "#9c179e"
            ],
            [
             0.4444444444444444,
             "#bd3786"
            ],
            [
             0.5555555555555556,
             "#d8576b"
            ],
            [
             0.6666666666666666,
             "#ed7953"
            ],
            [
             0.7777777777777778,
             "#fb9f3a"
            ],
            [
             0.8888888888888888,
             "#fdca26"
            ],
            [
             1,
             "#f0f921"
            ]
           ],
           "sequentialminus": [
            [
             0,
             "#0d0887"
            ],
            [
             0.1111111111111111,
             "#46039f"
            ],
            [
             0.2222222222222222,
             "#7201a8"
            ],
            [
             0.3333333333333333,
             "#9c179e"
            ],
            [
             0.4444444444444444,
             "#bd3786"
            ],
            [
             0.5555555555555556,
             "#d8576b"
            ],
            [
             0.6666666666666666,
             "#ed7953"
            ],
            [
             0.7777777777777778,
             "#fb9f3a"
            ],
            [
             0.8888888888888888,
             "#fdca26"
            ],
            [
             1,
             "#f0f921"
            ]
           ]
          },
          "colorway": [
           "#636efa",
           "#EF553B",
           "#00cc96",
           "#ab63fa",
           "#FFA15A",
           "#19d3f3",
           "#FF6692",
           "#B6E880",
           "#FF97FF",
           "#FECB52"
          ],
          "font": {
           "color": "#2a3f5f"
          },
          "geo": {
           "bgcolor": "white",
           "lakecolor": "white",
           "landcolor": "white",
           "showlakes": true,
           "showland": true,
           "subunitcolor": "#C8D4E3"
          },
          "hoverlabel": {
           "align": "left"
          },
          "hovermode": "closest",
          "mapbox": {
           "style": "light"
          },
          "paper_bgcolor": "white",
          "plot_bgcolor": "white",
          "polar": {
           "angularaxis": {
            "gridcolor": "#EBF0F8",
            "linecolor": "#EBF0F8",
            "ticks": ""
           },
           "bgcolor": "white",
           "radialaxis": {
            "gridcolor": "#EBF0F8",
            "linecolor": "#EBF0F8",
            "ticks": ""
           }
          },
          "scene": {
           "xaxis": {
            "backgroundcolor": "white",
            "gridcolor": "#DFE8F3",
            "gridwidth": 2,
            "linecolor": "#EBF0F8",
            "showbackground": true,
            "ticks": "",
            "zerolinecolor": "#EBF0F8"
           },
           "yaxis": {
            "backgroundcolor": "white",
            "gridcolor": "#DFE8F3",
            "gridwidth": 2,
            "linecolor": "#EBF0F8",
            "showbackground": true,
            "ticks": "",
            "zerolinecolor": "#EBF0F8"
           },
           "zaxis": {
            "backgroundcolor": "white",
            "gridcolor": "#DFE8F3",
            "gridwidth": 2,
            "linecolor": "#EBF0F8",
            "showbackground": true,
            "ticks": "",
            "zerolinecolor": "#EBF0F8"
           }
          },
          "shapedefaults": {
           "line": {
            "color": "#2a3f5f"
           }
          },
          "ternary": {
           "aaxis": {
            "gridcolor": "#DFE8F3",
            "linecolor": "#A2B1C6",
            "ticks": ""
           },
           "baxis": {
            "gridcolor": "#DFE8F3",
            "linecolor": "#A2B1C6",
            "ticks": ""
           },
           "bgcolor": "white",
           "caxis": {
            "gridcolor": "#DFE8F3",
            "linecolor": "#A2B1C6",
            "ticks": ""
           }
          },
          "title": {
           "x": 0.05
          },
          "xaxis": {
           "automargin": true,
           "gridcolor": "#EBF0F8",
           "linecolor": "#EBF0F8",
           "ticks": "",
           "title": {
            "standoff": 15
           },
           "zerolinecolor": "#EBF0F8",
           "zerolinewidth": 2
          },
          "yaxis": {
           "automargin": true,
           "gridcolor": "#EBF0F8",
           "linecolor": "#EBF0F8",
           "ticks": "",
           "title": {
            "standoff": 15
           },
           "zerolinecolor": "#EBF0F8",
           "zerolinewidth": 2
          }
         }
        },
        "title": {
         "text": "Distribution of Hashtag"
        },
        "xaxis": {
         "anchor": "y",
         "domain": [
          0,
          1
         ],
         "title": {
          "text": "Hashtag"
         }
        },
        "yaxis": {
         "anchor": "x",
         "domain": [
          0,
          1
         ],
         "title": {
          "text": "Count"
         }
        }
       }
      }
     },
     "metadata": {},
     "output_type": "display_data"
    }
   ],
   "source": [
    "#Explore the hashtags column in detail\n",
    "\n",
    "# Create an empty list to store all hashtags\n",
    "all_hashtags = []\n",
    "\n",
    "# Iterate through each row in the 'Hashtags' column of the DataFrame\n",
    "for row in data['Hashtags']:\n",
    "    # Split the 'Hashtags' column into individual words (hashtags)\n",
    "    hashtags = str(row).split()\n",
    "    \n",
    "    # Remove any leading or trailing spaces from each hashtag\n",
    "    hashtags = [tag.strip() for tag in hashtags]\n",
    "    \n",
    "    # Extend the 'all_hashtags' list with the extracted hashtags\n",
    "    all_hashtags.extend(hashtags)\n",
    "\n",
    "#create a pandas Dataframe to store the hashtag distribution\n",
    "hashtag_distribution = pd.Series(all_hashtags).value_counts().reset_index()\n",
    "hashtag_distribution.columns = ['Hashtag', 'Count']\n",
    "\n",
    "\n",
    "fig = px.bar(hashtag_distribution, x='Hashtag', y ='Count', title='Distribution of Hashtag')\n",
    "fig.show()"
   ]
  },
  {
   "cell_type": "code",
   "execution_count": 21,
   "metadata": {},
   "outputs": [
    {
     "data": {
      "text/plain": [
       "Hashtag    164\n",
       "Count      164\n",
       "dtype: int64"
      ]
     },
     "execution_count": 21,
     "metadata": {},
     "output_type": "execute_result"
    }
   ],
   "source": [
    "hashtag_distribution.count()"
   ]
  },
  {
   "cell_type": "code",
   "execution_count": 28,
   "metadata": {},
   "outputs": [
    {
     "name": "stdout",
     "output_type": "stream",
     "text": [
      "Hashtag    @codergallery\n",
      "Count                117\n",
      "dtype: object\n",
      "Hashtag    #IT\n",
      "Count        1\n",
      "dtype: object\n"
     ]
    }
   ],
   "source": [
    "print(hashtag_distribution.max())\n",
    "print(hashtag_distribution.min())"
   ]
  },
  {
   "cell_type": "code",
   "execution_count": 29,
   "metadata": {},
   "outputs": [
    {
     "data": {
      "application/vnd.plotly.v1+json": {
       "config": {
        "plotlyServerURL": "https://plot.ly"
       },
       "data": [
        {
         "alignmentgroup": "True",
         "hovertemplate": "Hashtag=%{x}<br>Likes=%{y}<extra></extra>",
         "legendgroup": "",
         "marker": {
          "color": "#636efa",
          "pattern": {
           "shape": ""
          }
         },
         "name": "",
         "offsetgroup": "",
         "orientation": "v",
         "showlegend": false,
         "textposition": "auto",
         "type": "bar",
         "x": [
          "#finance",
          "#money",
          "#business",
          "#investing",
          "#investment",
          "#trading",
          "#stockmarket",
          "#data",
          "#datascience",
          "#dataanalysis",
          "#dataanalytics",
          "#datascientist",
          "#machinelearning",
          "#python",
          "#pythonprogramming",
          "#pythonprojects",
          "#pythoncode",
          "#artificialintelligence",
          "#ai",
          "#dataanalyst",
          "#amankharwal",
          "#thecleverprogrammer",
          "#healthcare",
          "#health",
          "#covid",
          "#deeplearning",
          "#machinelearningprojects",
          "#datascienceprojects",
          "#machinelearningmodels",
          "#pythonlearning",
          "#pythondeveloper",
          "#pythoncoding",
          "#pythonprogrammer",
          "#datavisualization",
          "#bigdata",
          "#dataviz",
          "#analytics",
          "#technology",
          "#programming",
          "#statistics",
          "#coding",
          "#businessintelligence",
          "#datamining",
          "#tech",
          "#computerscience",
          "#tableau",
          "#database",
          "#algorithm",
          "#algorithms",
          "#machinelearningalgorithms",
          "#ml",
          "#softskills",
          "#stocks",
          "#forex",
          "#candlestick",
          "#candlestickcharts",
          "#pythonbooks",
          "#bookstagram",
          "#powerbi",
          "#dataanalysisprojects",
          "#businessanalytics",
          "#neuralnetwork",
          "#neuralnetworks",
          "#tensorflow",
          "#artificialintelligenceai",
          "#alexnet",
          "#sentimentanalysis",
          "#sentiment",
          "#nlp",
          "#naturallanguageprocessing",
          "#timeseries",
          "#time",
          "#timeseriesanalysis",
          "#iot",
          "#analysis",
          "#timeseriesmalaysia",
          "#career",
          "#job",
          "#jobs",
          "#jobsearch",
          "#education",
          "#success",
          "#careergoals",
          "#motivation",
          "#work",
          "#careerdevelopment",
          "#careers",
          "#goals",
          "#resume",
          "#students",
          "#careeradvice",
          "#marketing",
          "#digitalmarketing",
          "#media",
          "#socialmedia",
          "#IT",
          "#webdevelopment",
          "#stress",
          "#stressdetection",
          "#zomato",
          "#casestudy",
          "#businessmodel",
          "#boxplots",
          "#programmer",
          "#developer",
          "#javascript",
          "#code",
          "#coder",
          "#java",
          "#html",
          "#css",
          "#webdeveloper",
          "#software",
          "#codinglife",
          "#softwaredeveloper",
          "#linux",
          "#programmingmemes",
          "#webdesign",
          "#programmers",
          "#php",
          "#programminglife",
          "#hacking",
          "#bitcoin",
          "#cryptocurrency",
          "#projects",
          "#casestudies",
          "#amazonfinds",
          "#security",
          "#cybersecurity",
          "#network",
          "#internet",
          "#cloud",
          "#innovation",
          "#google",
          "#facebook",
          "#interview",
          "#datascienceinterview",
          "#otp",
          "#otpverification",
          "#qrcodes",
          "#bigdataanalytics",
          "#recommended",
          "#recommendations",
          "#recommendationsystem",
          "#recommendation",
          "#codinginterview",
          "#flipkart",
          "#news",
          "#pythonprogram",
          "@codergallery",
          "#whatsapp",
          "#roadmap",
          "#ukraine",
          "#instagram",
          "#instagramreach",
          "#datasciencejobs",
          "#datasciencetraining",
          "#datascienceeducation",
          "#datasciencecourse",
          "#sql",
          "#mysql",
          "#python3",
          "#pythonprogramminglanguage",
          "#clustering"
         ],
         "xaxis": "x",
         "y": [
          529,
          529,
          2012,
          529,
          380,
          380,
          380,
          15077,
          16311,
          13801,
          15283,
          14703,
          16509,
          18238,
          16251,
          16818,
          14239,
          15515,
          15733,
          1845,
          20462,
          20462,
          729,
          729,
          729,
          13204,
          8458,
          8458,
          761,
          3659,
          3659,
          3659,
          3659,
          2382,
          2671,
          567,
          2001,
          3187,
          3355,
          1766,
          3129,
          728,
          728,
          2961,
          2818,
          265,
          887,
          1615,
          1615,
          2065,
          1058,
          144,
          218,
          218,
          218,
          218,
          124,
          124,
          529,
          387,
          387,
          1120,
          600,
          450,
          450,
          81,
          1057,
          1057,
          1238,
          1238,
          812,
          812,
          812,
          812,
          812,
          812,
          410,
          680,
          410,
          410,
          410,
          410,
          410,
          410,
          410,
          410,
          410,
          410,
          410,
          410,
          410,
          410,
          410,
          410,
          410,
          410,
          1456,
          302,
          302,
          328,
          328,
          328,
          76,
          878,
          878,
          878,
          878,
          878,
          878,
          878,
          878,
          878,
          1113,
          878,
          878,
          608,
          608,
          608,
          608,
          608,
          608,
          608,
          390,
          390,
          302,
          302,
          184,
          235,
          235,
          235,
          235,
          235,
          235,
          150,
          85,
          600,
          180,
          272,
          272,
          167,
          142,
          373,
          373,
          373,
          373,
          270,
          94,
          96,
          118,
          118,
          178,
          525,
          203,
          171,
          171,
          1814,
          1814,
          1814,
          1814,
          308,
          308,
          296,
          296,
          240
         ],
         "yaxis": "y"
        }
       ],
       "layout": {
        "barmode": "relative",
        "legend": {
         "tracegroupgap": 0
        },
        "template": {
         "data": {
          "bar": [
           {
            "error_x": {
             "color": "#2a3f5f"
            },
            "error_y": {
             "color": "#2a3f5f"
            },
            "marker": {
             "line": {
              "color": "white",
              "width": 0.5
             },
             "pattern": {
              "fillmode": "overlay",
              "size": 10,
              "solidity": 0.2
             }
            },
            "type": "bar"
           }
          ],
          "barpolar": [
           {
            "marker": {
             "line": {
              "color": "white",
              "width": 0.5
             },
             "pattern": {
              "fillmode": "overlay",
              "size": 10,
              "solidity": 0.2
             }
            },
            "type": "barpolar"
           }
          ],
          "carpet": [
           {
            "aaxis": {
             "endlinecolor": "#2a3f5f",
             "gridcolor": "#C8D4E3",
             "linecolor": "#C8D4E3",
             "minorgridcolor": "#C8D4E3",
             "startlinecolor": "#2a3f5f"
            },
            "baxis": {
             "endlinecolor": "#2a3f5f",
             "gridcolor": "#C8D4E3",
             "linecolor": "#C8D4E3",
             "minorgridcolor": "#C8D4E3",
             "startlinecolor": "#2a3f5f"
            },
            "type": "carpet"
           }
          ],
          "choropleth": [
           {
            "colorbar": {
             "outlinewidth": 0,
             "ticks": ""
            },
            "type": "choropleth"
           }
          ],
          "contour": [
           {
            "colorbar": {
             "outlinewidth": 0,
             "ticks": ""
            },
            "colorscale": [
             [
              0,
              "#0d0887"
             ],
             [
              0.1111111111111111,
              "#46039f"
             ],
             [
              0.2222222222222222,
              "#7201a8"
             ],
             [
              0.3333333333333333,
              "#9c179e"
             ],
             [
              0.4444444444444444,
              "#bd3786"
             ],
             [
              0.5555555555555556,
              "#d8576b"
             ],
             [
              0.6666666666666666,
              "#ed7953"
             ],
             [
              0.7777777777777778,
              "#fb9f3a"
             ],
             [
              0.8888888888888888,
              "#fdca26"
             ],
             [
              1,
              "#f0f921"
             ]
            ],
            "type": "contour"
           }
          ],
          "contourcarpet": [
           {
            "colorbar": {
             "outlinewidth": 0,
             "ticks": ""
            },
            "type": "contourcarpet"
           }
          ],
          "heatmap": [
           {
            "colorbar": {
             "outlinewidth": 0,
             "ticks": ""
            },
            "colorscale": [
             [
              0,
              "#0d0887"
             ],
             [
              0.1111111111111111,
              "#46039f"
             ],
             [
              0.2222222222222222,
              "#7201a8"
             ],
             [
              0.3333333333333333,
              "#9c179e"
             ],
             [
              0.4444444444444444,
              "#bd3786"
             ],
             [
              0.5555555555555556,
              "#d8576b"
             ],
             [
              0.6666666666666666,
              "#ed7953"
             ],
             [
              0.7777777777777778,
              "#fb9f3a"
             ],
             [
              0.8888888888888888,
              "#fdca26"
             ],
             [
              1,
              "#f0f921"
             ]
            ],
            "type": "heatmap"
           }
          ],
          "heatmapgl": [
           {
            "colorbar": {
             "outlinewidth": 0,
             "ticks": ""
            },
            "colorscale": [
             [
              0,
              "#0d0887"
             ],
             [
              0.1111111111111111,
              "#46039f"
             ],
             [
              0.2222222222222222,
              "#7201a8"
             ],
             [
              0.3333333333333333,
              "#9c179e"
             ],
             [
              0.4444444444444444,
              "#bd3786"
             ],
             [
              0.5555555555555556,
              "#d8576b"
             ],
             [
              0.6666666666666666,
              "#ed7953"
             ],
             [
              0.7777777777777778,
              "#fb9f3a"
             ],
             [
              0.8888888888888888,
              "#fdca26"
             ],
             [
              1,
              "#f0f921"
             ]
            ],
            "type": "heatmapgl"
           }
          ],
          "histogram": [
           {
            "marker": {
             "pattern": {
              "fillmode": "overlay",
              "size": 10,
              "solidity": 0.2
             }
            },
            "type": "histogram"
           }
          ],
          "histogram2d": [
           {
            "colorbar": {
             "outlinewidth": 0,
             "ticks": ""
            },
            "colorscale": [
             [
              0,
              "#0d0887"
             ],
             [
              0.1111111111111111,
              "#46039f"
             ],
             [
              0.2222222222222222,
              "#7201a8"
             ],
             [
              0.3333333333333333,
              "#9c179e"
             ],
             [
              0.4444444444444444,
              "#bd3786"
             ],
             [
              0.5555555555555556,
              "#d8576b"
             ],
             [
              0.6666666666666666,
              "#ed7953"
             ],
             [
              0.7777777777777778,
              "#fb9f3a"
             ],
             [
              0.8888888888888888,
              "#fdca26"
             ],
             [
              1,
              "#f0f921"
             ]
            ],
            "type": "histogram2d"
           }
          ],
          "histogram2dcontour": [
           {
            "colorbar": {
             "outlinewidth": 0,
             "ticks": ""
            },
            "colorscale": [
             [
              0,
              "#0d0887"
             ],
             [
              0.1111111111111111,
              "#46039f"
             ],
             [
              0.2222222222222222,
              "#7201a8"
             ],
             [
              0.3333333333333333,
              "#9c179e"
             ],
             [
              0.4444444444444444,
              "#bd3786"
             ],
             [
              0.5555555555555556,
              "#d8576b"
             ],
             [
              0.6666666666666666,
              "#ed7953"
             ],
             [
              0.7777777777777778,
              "#fb9f3a"
             ],
             [
              0.8888888888888888,
              "#fdca26"
             ],
             [
              1,
              "#f0f921"
             ]
            ],
            "type": "histogram2dcontour"
           }
          ],
          "mesh3d": [
           {
            "colorbar": {
             "outlinewidth": 0,
             "ticks": ""
            },
            "type": "mesh3d"
           }
          ],
          "parcoords": [
           {
            "line": {
             "colorbar": {
              "outlinewidth": 0,
              "ticks": ""
             }
            },
            "type": "parcoords"
           }
          ],
          "pie": [
           {
            "automargin": true,
            "type": "pie"
           }
          ],
          "scatter": [
           {
            "marker": {
             "colorbar": {
              "outlinewidth": 0,
              "ticks": ""
             }
            },
            "type": "scatter"
           }
          ],
          "scatter3d": [
           {
            "line": {
             "colorbar": {
              "outlinewidth": 0,
              "ticks": ""
             }
            },
            "marker": {
             "colorbar": {
              "outlinewidth": 0,
              "ticks": ""
             }
            },
            "type": "scatter3d"
           }
          ],
          "scattercarpet": [
           {
            "marker": {
             "colorbar": {
              "outlinewidth": 0,
              "ticks": ""
             }
            },
            "type": "scattercarpet"
           }
          ],
          "scattergeo": [
           {
            "marker": {
             "colorbar": {
              "outlinewidth": 0,
              "ticks": ""
             }
            },
            "type": "scattergeo"
           }
          ],
          "scattergl": [
           {
            "marker": {
             "colorbar": {
              "outlinewidth": 0,
              "ticks": ""
             }
            },
            "type": "scattergl"
           }
          ],
          "scattermapbox": [
           {
            "marker": {
             "colorbar": {
              "outlinewidth": 0,
              "ticks": ""
             }
            },
            "type": "scattermapbox"
           }
          ],
          "scatterpolar": [
           {
            "marker": {
             "colorbar": {
              "outlinewidth": 0,
              "ticks": ""
             }
            },
            "type": "scatterpolar"
           }
          ],
          "scatterpolargl": [
           {
            "marker": {
             "colorbar": {
              "outlinewidth": 0,
              "ticks": ""
             }
            },
            "type": "scatterpolargl"
           }
          ],
          "scatterternary": [
           {
            "marker": {
             "colorbar": {
              "outlinewidth": 0,
              "ticks": ""
             }
            },
            "type": "scatterternary"
           }
          ],
          "surface": [
           {
            "colorbar": {
             "outlinewidth": 0,
             "ticks": ""
            },
            "colorscale": [
             [
              0,
              "#0d0887"
             ],
             [
              0.1111111111111111,
              "#46039f"
             ],
             [
              0.2222222222222222,
              "#7201a8"
             ],
             [
              0.3333333333333333,
              "#9c179e"
             ],
             [
              0.4444444444444444,
              "#bd3786"
             ],
             [
              0.5555555555555556,
              "#d8576b"
             ],
             [
              0.6666666666666666,
              "#ed7953"
             ],
             [
              0.7777777777777778,
              "#fb9f3a"
             ],
             [
              0.8888888888888888,
              "#fdca26"
             ],
             [
              1,
              "#f0f921"
             ]
            ],
            "type": "surface"
           }
          ],
          "table": [
           {
            "cells": {
             "fill": {
              "color": "#EBF0F8"
             },
             "line": {
              "color": "white"
             }
            },
            "header": {
             "fill": {
              "color": "#C8D4E3"
             },
             "line": {
              "color": "white"
             }
            },
            "type": "table"
           }
          ]
         },
         "layout": {
          "annotationdefaults": {
           "arrowcolor": "#2a3f5f",
           "arrowhead": 0,
           "arrowwidth": 1
          },
          "autotypenumbers": "strict",
          "coloraxis": {
           "colorbar": {
            "outlinewidth": 0,
            "ticks": ""
           }
          },
          "colorscale": {
           "diverging": [
            [
             0,
             "#8e0152"
            ],
            [
             0.1,
             "#c51b7d"
            ],
            [
             0.2,
             "#de77ae"
            ],
            [
             0.3,
             "#f1b6da"
            ],
            [
             0.4,
             "#fde0ef"
            ],
            [
             0.5,
             "#f7f7f7"
            ],
            [
             0.6,
             "#e6f5d0"
            ],
            [
             0.7,
             "#b8e186"
            ],
            [
             0.8,
             "#7fbc41"
            ],
            [
             0.9,
             "#4d9221"
            ],
            [
             1,
             "#276419"
            ]
           ],
           "sequential": [
            [
             0,
             "#0d0887"
            ],
            [
             0.1111111111111111,
             "#46039f"
            ],
            [
             0.2222222222222222,
             "#7201a8"
            ],
            [
             0.3333333333333333,
             "#9c179e"
            ],
            [
             0.4444444444444444,
             "#bd3786"
            ],
            [
             0.5555555555555556,
             "#d8576b"
            ],
            [
             0.6666666666666666,
             "#ed7953"
            ],
            [
             0.7777777777777778,
             "#fb9f3a"
            ],
            [
             0.8888888888888888,
             "#fdca26"
            ],
            [
             1,
             "#f0f921"
            ]
           ],
           "sequentialminus": [
            [
             0,
             "#0d0887"
            ],
            [
             0.1111111111111111,
             "#46039f"
            ],
            [
             0.2222222222222222,
             "#7201a8"
            ],
            [
             0.3333333333333333,
             "#9c179e"
            ],
            [
             0.4444444444444444,
             "#bd3786"
            ],
            [
             0.5555555555555556,
             "#d8576b"
            ],
            [
             0.6666666666666666,
             "#ed7953"
            ],
            [
             0.7777777777777778,
             "#fb9f3a"
            ],
            [
             0.8888888888888888,
             "#fdca26"
            ],
            [
             1,
             "#f0f921"
            ]
           ]
          },
          "colorway": [
           "#636efa",
           "#EF553B",
           "#00cc96",
           "#ab63fa",
           "#FFA15A",
           "#19d3f3",
           "#FF6692",
           "#B6E880",
           "#FF97FF",
           "#FECB52"
          ],
          "font": {
           "color": "#2a3f5f"
          },
          "geo": {
           "bgcolor": "white",
           "lakecolor": "white",
           "landcolor": "white",
           "showlakes": true,
           "showland": true,
           "subunitcolor": "#C8D4E3"
          },
          "hoverlabel": {
           "align": "left"
          },
          "hovermode": "closest",
          "mapbox": {
           "style": "light"
          },
          "paper_bgcolor": "white",
          "plot_bgcolor": "white",
          "polar": {
           "angularaxis": {
            "gridcolor": "#EBF0F8",
            "linecolor": "#EBF0F8",
            "ticks": ""
           },
           "bgcolor": "white",
           "radialaxis": {
            "gridcolor": "#EBF0F8",
            "linecolor": "#EBF0F8",
            "ticks": ""
           }
          },
          "scene": {
           "xaxis": {
            "backgroundcolor": "white",
            "gridcolor": "#DFE8F3",
            "gridwidth": 2,
            "linecolor": "#EBF0F8",
            "showbackground": true,
            "ticks": "",
            "zerolinecolor": "#EBF0F8"
           },
           "yaxis": {
            "backgroundcolor": "white",
            "gridcolor": "#DFE8F3",
            "gridwidth": 2,
            "linecolor": "#EBF0F8",
            "showbackground": true,
            "ticks": "",
            "zerolinecolor": "#EBF0F8"
           },
           "zaxis": {
            "backgroundcolor": "white",
            "gridcolor": "#DFE8F3",
            "gridwidth": 2,
            "linecolor": "#EBF0F8",
            "showbackground": true,
            "ticks": "",
            "zerolinecolor": "#EBF0F8"
           }
          },
          "shapedefaults": {
           "line": {
            "color": "#2a3f5f"
           }
          },
          "ternary": {
           "aaxis": {
            "gridcolor": "#DFE8F3",
            "linecolor": "#A2B1C6",
            "ticks": ""
           },
           "baxis": {
            "gridcolor": "#DFE8F3",
            "linecolor": "#A2B1C6",
            "ticks": ""
           },
           "bgcolor": "white",
           "caxis": {
            "gridcolor": "#DFE8F3",
            "linecolor": "#A2B1C6",
            "ticks": ""
           }
          },
          "title": {
           "x": 0.05
          },
          "xaxis": {
           "automargin": true,
           "gridcolor": "#EBF0F8",
           "linecolor": "#EBF0F8",
           "ticks": "",
           "title": {
            "standoff": 15
           },
           "zerolinecolor": "#EBF0F8",
           "zerolinewidth": 2
          },
          "yaxis": {
           "automargin": true,
           "gridcolor": "#EBF0F8",
           "linecolor": "#EBF0F8",
           "ticks": "",
           "title": {
            "standoff": 15
           },
           "zerolinecolor": "#EBF0F8",
           "zerolinewidth": 2
          }
         }
        },
        "title": {
         "text": "Likes Distribution for Each Hashtag"
        },
        "xaxis": {
         "anchor": "y",
         "domain": [
          0,
          1
         ],
         "title": {
          "text": "Hashtag"
         }
        },
        "yaxis": {
         "anchor": "x",
         "domain": [
          0,
          1
         ],
         "title": {
          "text": "Likes"
         }
        }
       }
      }
     },
     "metadata": {},
     "output_type": "display_data"
    },
    {
     "data": {
      "application/vnd.plotly.v1+json": {
       "config": {
        "plotlyServerURL": "https://plot.ly"
       },
       "data": [
        {
         "alignmentgroup": "True",
         "hovertemplate": "Hashtag=%{x}<br>Impressions=%{y}<extra></extra>",
         "legendgroup": "",
         "marker": {
          "color": "#636efa",
          "pattern": {
           "shape": ""
          }
         },
         "name": "",
         "offsetgroup": "",
         "orientation": "v",
         "showlegend": false,
         "textposition": "auto",
         "type": "bar",
         "x": [
          "#finance",
          "#money",
          "#business",
          "#investing",
          "#investment",
          "#trading",
          "#stockmarket",
          "#data",
          "#datascience",
          "#dataanalysis",
          "#dataanalytics",
          "#datascientist",
          "#machinelearning",
          "#python",
          "#pythonprogramming",
          "#pythonprojects",
          "#pythoncode",
          "#artificialintelligence",
          "#ai",
          "#dataanalyst",
          "#amankharwal",
          "#thecleverprogrammer",
          "#healthcare",
          "#health",
          "#covid",
          "#deeplearning",
          "#machinelearningprojects",
          "#datascienceprojects",
          "#machinelearningmodels",
          "#pythonlearning",
          "#pythondeveloper",
          "#pythoncoding",
          "#pythonprogrammer",
          "#datavisualization",
          "#bigdata",
          "#dataviz",
          "#analytics",
          "#technology",
          "#programming",
          "#statistics",
          "#coding",
          "#businessintelligence",
          "#datamining",
          "#tech",
          "#computerscience",
          "#tableau",
          "#database",
          "#algorithm",
          "#algorithms",
          "#machinelearningalgorithms",
          "#ml",
          "#softskills",
          "#stocks",
          "#forex",
          "#candlestick",
          "#candlestickcharts",
          "#pythonbooks",
          "#bookstagram",
          "#powerbi",
          "#dataanalysisprojects",
          "#businessanalytics",
          "#neuralnetwork",
          "#neuralnetworks",
          "#tensorflow",
          "#artificialintelligenceai",
          "#alexnet",
          "#sentimentanalysis",
          "#sentiment",
          "#nlp",
          "#naturallanguageprocessing",
          "#timeseries",
          "#time",
          "#timeseriesanalysis",
          "#iot",
          "#analysis",
          "#timeseriesmalaysia",
          "#career",
          "#job",
          "#jobs",
          "#jobsearch",
          "#education",
          "#success",
          "#careergoals",
          "#motivation",
          "#work",
          "#careerdevelopment",
          "#careers",
          "#goals",
          "#resume",
          "#students",
          "#careeradvice",
          "#marketing",
          "#digitalmarketing",
          "#media",
          "#socialmedia",
          "#IT",
          "#webdevelopment",
          "#stress",
          "#stressdetection",
          "#zomato",
          "#casestudy",
          "#businessmodel",
          "#boxplots",
          "#programmer",
          "#developer",
          "#javascript",
          "#code",
          "#coder",
          "#java",
          "#html",
          "#css",
          "#webdeveloper",
          "#software",
          "#codinglife",
          "#softwaredeveloper",
          "#linux",
          "#programmingmemes",
          "#webdesign",
          "#programmers",
          "#php",
          "#programminglife",
          "#hacking",
          "#bitcoin",
          "#cryptocurrency",
          "#projects",
          "#casestudies",
          "#amazonfinds",
          "#security",
          "#cybersecurity",
          "#network",
          "#internet",
          "#cloud",
          "#innovation",
          "#google",
          "#facebook",
          "#interview",
          "#datascienceinterview",
          "#otp",
          "#otpverification",
          "#qrcodes",
          "#bigdataanalytics",
          "#recommended",
          "#recommendations",
          "#recommendationsystem",
          "#recommendation",
          "#codinginterview",
          "#flipkart",
          "#news",
          "#pythonprogram",
          "@codergallery",
          "#whatsapp",
          "#roadmap",
          "#ukraine",
          "#instagram",
          "#instagramreach",
          "#datasciencejobs",
          "#datasciencetraining",
          "#datascienceeducation",
          "#datasciencecourse",
          "#sql",
          "#mysql",
          "#python3",
          "#pythonprogramminglanguage",
          "#clustering"
         ],
         "xaxis": "x",
         "y": [
          14224,
          14224,
          51387,
          14224,
          9757,
          9757,
          9757,
          484761,
          524640,
          457923,
          497787,
          483746,
          532627,
          578243,
          525346,
          567608,
          470276,
          506190,
          512027,
          47051,
          672166,
          672166,
          18292,
          18292,
          18292,
          445317,
          297427,
          297427,
          27201,
          135901,
          135901,
          135901,
          135901,
          64864,
          70884,
          15438,
          53464,
          85523,
          90132,
          47283,
          83264,
          17971,
          17971,
          78655,
          75019,
          6506,
          22088,
          57289,
          57289,
          71529,
          30316,
          3884,
          5837,
          5837,
          5837,
          5837,
          3541,
          3541,
          13389,
          9401,
          9401,
          31660,
          18529,
          14240,
          14240,
          2218,
          34102,
          34102,
          42567,
          42567,
          22444,
          22444,
          22444,
          22444,
          22444,
          22444,
          8004,
          14856,
          8004,
          8004,
          8004,
          8004,
          8004,
          8004,
          8004,
          8004,
          8004,
          8004,
          8004,
          8004,
          8004,
          8004,
          8004,
          8004,
          8004,
          8004,
          35456,
          12336,
          12336,
          10844,
          10844,
          10844,
          2064,
          22843,
          22843,
          22843,
          22843,
          22843,
          22843,
          22843,
          22843,
          22843,
          29024,
          22843,
          22843,
          15991,
          15991,
          15991,
          15991,
          15991,
          15991,
          15991,
          14121,
          14121,
          7848,
          7848,
          6030,
          6181,
          6181,
          6181,
          6181,
          6181,
          6181,
          3854,
          2327,
          16139,
          4998,
          8030,
          8030,
          3786,
          3988,
          10036,
          10036,
          10036,
          10036,
          6852,
          3601,
          3525,
          2957,
          2957,
          5538,
          10682,
          8001,
          7231,
          7231,
          86691,
          86691,
          86691,
          86691,
          17713,
          17713,
          15991,
          15991,
          9870
         ],
         "yaxis": "y"
        }
       ],
       "layout": {
        "barmode": "relative",
        "legend": {
         "tracegroupgap": 0
        },
        "template": {
         "data": {
          "bar": [
           {
            "error_x": {
             "color": "#2a3f5f"
            },
            "error_y": {
             "color": "#2a3f5f"
            },
            "marker": {
             "line": {
              "color": "white",
              "width": 0.5
             },
             "pattern": {
              "fillmode": "overlay",
              "size": 10,
              "solidity": 0.2
             }
            },
            "type": "bar"
           }
          ],
          "barpolar": [
           {
            "marker": {
             "line": {
              "color": "white",
              "width": 0.5
             },
             "pattern": {
              "fillmode": "overlay",
              "size": 10,
              "solidity": 0.2
             }
            },
            "type": "barpolar"
           }
          ],
          "carpet": [
           {
            "aaxis": {
             "endlinecolor": "#2a3f5f",
             "gridcolor": "#C8D4E3",
             "linecolor": "#C8D4E3",
             "minorgridcolor": "#C8D4E3",
             "startlinecolor": "#2a3f5f"
            },
            "baxis": {
             "endlinecolor": "#2a3f5f",
             "gridcolor": "#C8D4E3",
             "linecolor": "#C8D4E3",
             "minorgridcolor": "#C8D4E3",
             "startlinecolor": "#2a3f5f"
            },
            "type": "carpet"
           }
          ],
          "choropleth": [
           {
            "colorbar": {
             "outlinewidth": 0,
             "ticks": ""
            },
            "type": "choropleth"
           }
          ],
          "contour": [
           {
            "colorbar": {
             "outlinewidth": 0,
             "ticks": ""
            },
            "colorscale": [
             [
              0,
              "#0d0887"
             ],
             [
              0.1111111111111111,
              "#46039f"
             ],
             [
              0.2222222222222222,
              "#7201a8"
             ],
             [
              0.3333333333333333,
              "#9c179e"
             ],
             [
              0.4444444444444444,
              "#bd3786"
             ],
             [
              0.5555555555555556,
              "#d8576b"
             ],
             [
              0.6666666666666666,
              "#ed7953"
             ],
             [
              0.7777777777777778,
              "#fb9f3a"
             ],
             [
              0.8888888888888888,
              "#fdca26"
             ],
             [
              1,
              "#f0f921"
             ]
            ],
            "type": "contour"
           }
          ],
          "contourcarpet": [
           {
            "colorbar": {
             "outlinewidth": 0,
             "ticks": ""
            },
            "type": "contourcarpet"
           }
          ],
          "heatmap": [
           {
            "colorbar": {
             "outlinewidth": 0,
             "ticks": ""
            },
            "colorscale": [
             [
              0,
              "#0d0887"
             ],
             [
              0.1111111111111111,
              "#46039f"
             ],
             [
              0.2222222222222222,
              "#7201a8"
             ],
             [
              0.3333333333333333,
              "#9c179e"
             ],
             [
              0.4444444444444444,
              "#bd3786"
             ],
             [
              0.5555555555555556,
              "#d8576b"
             ],
             [
              0.6666666666666666,
              "#ed7953"
             ],
             [
              0.7777777777777778,
              "#fb9f3a"
             ],
             [
              0.8888888888888888,
              "#fdca26"
             ],
             [
              1,
              "#f0f921"
             ]
            ],
            "type": "heatmap"
           }
          ],
          "heatmapgl": [
           {
            "colorbar": {
             "outlinewidth": 0,
             "ticks": ""
            },
            "colorscale": [
             [
              0,
              "#0d0887"
             ],
             [
              0.1111111111111111,
              "#46039f"
             ],
             [
              0.2222222222222222,
              "#7201a8"
             ],
             [
              0.3333333333333333,
              "#9c179e"
             ],
             [
              0.4444444444444444,
              "#bd3786"
             ],
             [
              0.5555555555555556,
              "#d8576b"
             ],
             [
              0.6666666666666666,
              "#ed7953"
             ],
             [
              0.7777777777777778,
              "#fb9f3a"
             ],
             [
              0.8888888888888888,
              "#fdca26"
             ],
             [
              1,
              "#f0f921"
             ]
            ],
            "type": "heatmapgl"
           }
          ],
          "histogram": [
           {
            "marker": {
             "pattern": {
              "fillmode": "overlay",
              "size": 10,
              "solidity": 0.2
             }
            },
            "type": "histogram"
           }
          ],
          "histogram2d": [
           {
            "colorbar": {
             "outlinewidth": 0,
             "ticks": ""
            },
            "colorscale": [
             [
              0,
              "#0d0887"
             ],
             [
              0.1111111111111111,
              "#46039f"
             ],
             [
              0.2222222222222222,
              "#7201a8"
             ],
             [
              0.3333333333333333,
              "#9c179e"
             ],
             [
              0.4444444444444444,
              "#bd3786"
             ],
             [
              0.5555555555555556,
              "#d8576b"
             ],
             [
              0.6666666666666666,
              "#ed7953"
             ],
             [
              0.7777777777777778,
              "#fb9f3a"
             ],
             [
              0.8888888888888888,
              "#fdca26"
             ],
             [
              1,
              "#f0f921"
             ]
            ],
            "type": "histogram2d"
           }
          ],
          "histogram2dcontour": [
           {
            "colorbar": {
             "outlinewidth": 0,
             "ticks": ""
            },
            "colorscale": [
             [
              0,
              "#0d0887"
             ],
             [
              0.1111111111111111,
              "#46039f"
             ],
             [
              0.2222222222222222,
              "#7201a8"
             ],
             [
              0.3333333333333333,
              "#9c179e"
             ],
             [
              0.4444444444444444,
              "#bd3786"
             ],
             [
              0.5555555555555556,
              "#d8576b"
             ],
             [
              0.6666666666666666,
              "#ed7953"
             ],
             [
              0.7777777777777778,
              "#fb9f3a"
             ],
             [
              0.8888888888888888,
              "#fdca26"
             ],
             [
              1,
              "#f0f921"
             ]
            ],
            "type": "histogram2dcontour"
           }
          ],
          "mesh3d": [
           {
            "colorbar": {
             "outlinewidth": 0,
             "ticks": ""
            },
            "type": "mesh3d"
           }
          ],
          "parcoords": [
           {
            "line": {
             "colorbar": {
              "outlinewidth": 0,
              "ticks": ""
             }
            },
            "type": "parcoords"
           }
          ],
          "pie": [
           {
            "automargin": true,
            "type": "pie"
           }
          ],
          "scatter": [
           {
            "marker": {
             "colorbar": {
              "outlinewidth": 0,
              "ticks": ""
             }
            },
            "type": "scatter"
           }
          ],
          "scatter3d": [
           {
            "line": {
             "colorbar": {
              "outlinewidth": 0,
              "ticks": ""
             }
            },
            "marker": {
             "colorbar": {
              "outlinewidth": 0,
              "ticks": ""
             }
            },
            "type": "scatter3d"
           }
          ],
          "scattercarpet": [
           {
            "marker": {
             "colorbar": {
              "outlinewidth": 0,
              "ticks": ""
             }
            },
            "type": "scattercarpet"
           }
          ],
          "scattergeo": [
           {
            "marker": {
             "colorbar": {
              "outlinewidth": 0,
              "ticks": ""
             }
            },
            "type": "scattergeo"
           }
          ],
          "scattergl": [
           {
            "marker": {
             "colorbar": {
              "outlinewidth": 0,
              "ticks": ""
             }
            },
            "type": "scattergl"
           }
          ],
          "scattermapbox": [
           {
            "marker": {
             "colorbar": {
              "outlinewidth": 0,
              "ticks": ""
             }
            },
            "type": "scattermapbox"
           }
          ],
          "scatterpolar": [
           {
            "marker": {
             "colorbar": {
              "outlinewidth": 0,
              "ticks": ""
             }
            },
            "type": "scatterpolar"
           }
          ],
          "scatterpolargl": [
           {
            "marker": {
             "colorbar": {
              "outlinewidth": 0,
              "ticks": ""
             }
            },
            "type": "scatterpolargl"
           }
          ],
          "scatterternary": [
           {
            "marker": {
             "colorbar": {
              "outlinewidth": 0,
              "ticks": ""
             }
            },
            "type": "scatterternary"
           }
          ],
          "surface": [
           {
            "colorbar": {
             "outlinewidth": 0,
             "ticks": ""
            },
            "colorscale": [
             [
              0,
              "#0d0887"
             ],
             [
              0.1111111111111111,
              "#46039f"
             ],
             [
              0.2222222222222222,
              "#7201a8"
             ],
             [
              0.3333333333333333,
              "#9c179e"
             ],
             [
              0.4444444444444444,
              "#bd3786"
             ],
             [
              0.5555555555555556,
              "#d8576b"
             ],
             [
              0.6666666666666666,
              "#ed7953"
             ],
             [
              0.7777777777777778,
              "#fb9f3a"
             ],
             [
              0.8888888888888888,
              "#fdca26"
             ],
             [
              1,
              "#f0f921"
             ]
            ],
            "type": "surface"
           }
          ],
          "table": [
           {
            "cells": {
             "fill": {
              "color": "#EBF0F8"
             },
             "line": {
              "color": "white"
             }
            },
            "header": {
             "fill": {
              "color": "#C8D4E3"
             },
             "line": {
              "color": "white"
             }
            },
            "type": "table"
           }
          ]
         },
         "layout": {
          "annotationdefaults": {
           "arrowcolor": "#2a3f5f",
           "arrowhead": 0,
           "arrowwidth": 1
          },
          "autotypenumbers": "strict",
          "coloraxis": {
           "colorbar": {
            "outlinewidth": 0,
            "ticks": ""
           }
          },
          "colorscale": {
           "diverging": [
            [
             0,
             "#8e0152"
            ],
            [
             0.1,
             "#c51b7d"
            ],
            [
             0.2,
             "#de77ae"
            ],
            [
             0.3,
             "#f1b6da"
            ],
            [
             0.4,
             "#fde0ef"
            ],
            [
             0.5,
             "#f7f7f7"
            ],
            [
             0.6,
             "#e6f5d0"
            ],
            [
             0.7,
             "#b8e186"
            ],
            [
             0.8,
             "#7fbc41"
            ],
            [
             0.9,
             "#4d9221"
            ],
            [
             1,
             "#276419"
            ]
           ],
           "sequential": [
            [
             0,
             "#0d0887"
            ],
            [
             0.1111111111111111,
             "#46039f"
            ],
            [
             0.2222222222222222,
             "#7201a8"
            ],
            [
             0.3333333333333333,
             "#9c179e"
            ],
            [
             0.4444444444444444,
             "#bd3786"
            ],
            [
             0.5555555555555556,
             "#d8576b"
            ],
            [
             0.6666666666666666,
             "#ed7953"
            ],
            [
             0.7777777777777778,
             "#fb9f3a"
            ],
            [
             0.8888888888888888,
             "#fdca26"
            ],
            [
             1,
             "#f0f921"
            ]
           ],
           "sequentialminus": [
            [
             0,
             "#0d0887"
            ],
            [
             0.1111111111111111,
             "#46039f"
            ],
            [
             0.2222222222222222,
             "#7201a8"
            ],
            [
             0.3333333333333333,
             "#9c179e"
            ],
            [
             0.4444444444444444,
             "#bd3786"
            ],
            [
             0.5555555555555556,
             "#d8576b"
            ],
            [
             0.6666666666666666,
             "#ed7953"
            ],
            [
             0.7777777777777778,
             "#fb9f3a"
            ],
            [
             0.8888888888888888,
             "#fdca26"
            ],
            [
             1,
             "#f0f921"
            ]
           ]
          },
          "colorway": [
           "#636efa",
           "#EF553B",
           "#00cc96",
           "#ab63fa",
           "#FFA15A",
           "#19d3f3",
           "#FF6692",
           "#B6E880",
           "#FF97FF",
           "#FECB52"
          ],
          "font": {
           "color": "#2a3f5f"
          },
          "geo": {
           "bgcolor": "white",
           "lakecolor": "white",
           "landcolor": "white",
           "showlakes": true,
           "showland": true,
           "subunitcolor": "#C8D4E3"
          },
          "hoverlabel": {
           "align": "left"
          },
          "hovermode": "closest",
          "mapbox": {
           "style": "light"
          },
          "paper_bgcolor": "white",
          "plot_bgcolor": "white",
          "polar": {
           "angularaxis": {
            "gridcolor": "#EBF0F8",
            "linecolor": "#EBF0F8",
            "ticks": ""
           },
           "bgcolor": "white",
           "radialaxis": {
            "gridcolor": "#EBF0F8",
            "linecolor": "#EBF0F8",
            "ticks": ""
           }
          },
          "scene": {
           "xaxis": {
            "backgroundcolor": "white",
            "gridcolor": "#DFE8F3",
            "gridwidth": 2,
            "linecolor": "#EBF0F8",
            "showbackground": true,
            "ticks": "",
            "zerolinecolor": "#EBF0F8"
           },
           "yaxis": {
            "backgroundcolor": "white",
            "gridcolor": "#DFE8F3",
            "gridwidth": 2,
            "linecolor": "#EBF0F8",
            "showbackground": true,
            "ticks": "",
            "zerolinecolor": "#EBF0F8"
           },
           "zaxis": {
            "backgroundcolor": "white",
            "gridcolor": "#DFE8F3",
            "gridwidth": 2,
            "linecolor": "#EBF0F8",
            "showbackground": true,
            "ticks": "",
            "zerolinecolor": "#EBF0F8"
           }
          },
          "shapedefaults": {
           "line": {
            "color": "#2a3f5f"
           }
          },
          "ternary": {
           "aaxis": {
            "gridcolor": "#DFE8F3",
            "linecolor": "#A2B1C6",
            "ticks": ""
           },
           "baxis": {
            "gridcolor": "#DFE8F3",
            "linecolor": "#A2B1C6",
            "ticks": ""
           },
           "bgcolor": "white",
           "caxis": {
            "gridcolor": "#DFE8F3",
            "linecolor": "#A2B1C6",
            "ticks": ""
           }
          },
          "title": {
           "x": 0.05
          },
          "xaxis": {
           "automargin": true,
           "gridcolor": "#EBF0F8",
           "linecolor": "#EBF0F8",
           "ticks": "",
           "title": {
            "standoff": 15
           },
           "zerolinecolor": "#EBF0F8",
           "zerolinewidth": 2
          },
          "yaxis": {
           "automargin": true,
           "gridcolor": "#EBF0F8",
           "linecolor": "#EBF0F8",
           "ticks": "",
           "title": {
            "standoff": 15
           },
           "zerolinecolor": "#EBF0F8",
           "zerolinewidth": 2
          }
         }
        },
        "title": {
         "text": "Impressions Distributions for Each Hashtag"
        },
        "xaxis": {
         "anchor": "y",
         "domain": [
          0,
          1
         ],
         "title": {
          "text": "Hashtag"
         }
        },
        "yaxis": {
         "anchor": "x",
         "domain": [
          0,
          1
         ],
         "title": {
          "text": "Impressions"
         }
        }
       }
      }
     },
     "metadata": {},
     "output_type": "display_data"
    }
   ],
   "source": [
    "# look at the distribution of likes and impressions received from the presence of each hashtag on the post\n",
    "\n",
    "\n",
    "# Initialize empty dictionaries to store total likes and impressions for each hashtag\n",
    "hashtag_likes = {}\n",
    "hashtag_impressions = {}\n",
    "\n",
    "# Iterate through each row in the dataset\n",
    "for index, row in data.iterrows(): #The code iterates through each row in the data dataset using data.iterrows()\n",
    "    # Split the 'Hashtags' column into individual hashtags\n",
    "    hashtags = str(row['Hashtags']).split()\n",
    "    for hashtag in hashtags:\n",
    "        # Remove trailing spaces from the hashtag\n",
    "        hashtag = hashtag.rstrip()\n",
    "        \n",
    "        # Check if the hashtag is not in the dictionaries; if not, initialize it with zeros\n",
    "        if hashtag not in hashtag_likes:\n",
    "            hashtag_likes[hashtag] = 0\n",
    "            hashtag_impressions[hashtag] = 0\n",
    "        \n",
    "        # Add the likes and impressions from the current row to the corresponding hashtag\n",
    "        hashtag_likes[hashtag] += row['Likes']\n",
    "        hashtag_impressions[hashtag] += row['Impressions']\n",
    "\n",
    "#Create a DataFrame for Likes distribution:\n",
    "likes_distribution = pd.DataFrame(list(hashtag_likes.items()), columns=['Hashtag', 'Likes'])\n",
    "\n",
    "# Create a DataFrame for impressions distribution\n",
    "impression_distribiution = pd.DataFrame(list(hashtag_impressions.items()), columns=['Hashtag', 'Impressions'])\n",
    "\n",
    "fig_likes = px.bar(likes_distribution, x='Hashtag', y='Likes', title=\"Likes Distribution for Each Hashtag\")\n",
    "\n",
    "fig_impressions = px.bar(impression_distribiution, x='Hashtag', y='Impressions', title='Impressions Distributions for Each Hashtag')\n",
    "\n",
    "fig_likes.show()\n",
    "fig_impressions.show()\n"
   ]
  },
  {
   "cell_type": "code",
   "execution_count": null,
   "metadata": {},
   "outputs": [],
   "source": []
  }
 ],
 "metadata": {
  "kernelspec": {
   "display_name": "Python 3",
   "language": "python",
   "name": "python3"
  },
  "language_info": {
   "codemirror_mode": {
    "name": "ipython",
    "version": 3
   },
   "file_extension": ".py",
   "mimetype": "text/x-python",
   "name": "python",
   "nbconvert_exporter": "python",
   "pygments_lexer": "ipython3",
   "version": "3.9.12"
  },
  "orig_nbformat": 4
 },
 "nbformat": 4,
 "nbformat_minor": 2
}
